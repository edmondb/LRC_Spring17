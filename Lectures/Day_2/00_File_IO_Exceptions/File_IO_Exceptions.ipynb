{
 "cells": [
  {
   "cell_type": "code",
   "execution_count": null,
   "metadata": {
    "collapsed": true
   },
   "outputs": [],
   "source": [
    "from IPython.core.interactiveshell import InteractiveShell\n",
    "InteractiveShell.ast_node_interactivity = \"all\""
   ]
  },
  {
   "cell_type": "markdown",
   "metadata": {
    "collapsed": false,
    "slideshow": {
     "slide_type": "slide"
    }
   },
   "source": [
    "# File IO and Exceptions"
   ]
  },
  {
   "cell_type": "markdown",
   "metadata": {
    "slideshow": {
     "slide_type": "-"
    }
   },
   "source": [
    "### Reading text files"
   ]
  },
  {
   "cell_type": "code",
   "execution_count": null,
   "metadata": {
    "collapsed": false,
    "slideshow": {
     "slide_type": "-"
    }
   },
   "outputs": [],
   "source": [
    "help(open)"
   ]
  },
  {
   "cell_type": "code",
   "execution_count": null,
   "metadata": {
    "collapsed": false,
    "slideshow": {
     "slide_type": "-"
    }
   },
   "outputs": [],
   "source": [
    "file_object = open('caterpillar_advice.txt', 'r') # 'r' is default"
   ]
  },
  {
   "cell_type": "markdown",
   "metadata": {},
   "source": [
    "What type of object is __file_object__?"
   ]
  },
  {
   "cell_type": "code",
   "execution_count": null,
   "metadata": {
    "collapsed": false
   },
   "outputs": [],
   "source": [
    "print file_object\n",
    "print \"file_object is of type\",(type(file_object))"
   ]
  },
  {
   "cell_type": "code",
   "execution_count": null,
   "metadata": {
    "collapsed": false,
    "scrolled": true,
    "slideshow": {
     "slide_type": "-"
    }
   },
   "outputs": [],
   "source": [
    "# file_object.<TAB>\n",
    "dir(file_object) # attributes and methods of file objects"
   ]
  },
  {
   "cell_type": "code",
   "execution_count": null,
   "metadata": {
    "collapsed": false,
    "slideshow": {
     "slide_type": "-"
    }
   },
   "outputs": [],
   "source": [
    "# Examples\n",
    "print file_object.name\n",
    "print file_object.mode\n",
    "print file_object.closed"
   ]
  },
  {
   "cell_type": "markdown",
   "metadata": {
    "slideshow": {
     "slide_type": "-"
    }
   },
   "source": [
    "A file_object can be treated as a <font color='blue'>sequence</font> of strings. So, we can use the use <font color='blue'>for</font> loop to read each line."
   ]
  },
  {
   "cell_type": "code",
   "execution_count": null,
   "metadata": {
    "collapsed": false
   },
   "outputs": [],
   "source": [
    "for line in file_object:\n",
    "    print line\n",
    "file_object.close()"
   ]
  },
  {
   "cell_type": "markdown",
   "metadata": {},
   "source": [
    "#### Note: Each line includes a non-printing character called the newline character \"\\n\""
   ]
  },
  {
   "cell_type": "markdown",
   "metadata": {},
   "source": [
    "Exercise:\n",
    "\n",
    "Read the text file caterpillar_advice.txt and count the number of lines *excluding* empty lines."
   ]
  },
  {
   "cell_type": "code",
   "execution_count": null,
   "metadata": {
    "collapsed": false
   },
   "outputs": [],
   "source": [
    "file_object = open('caterpillar_advice.txt', 'r')\n",
    "count = 0\n",
    "for line in file_object:\n",
    "    if not line.startswith('\\n'):\n",
    "        count += 1\n",
    "file_object.close()\n",
    "count"
   ]
  },
  {
   "cell_type": "code",
   "execution_count": null,
   "metadata": {
    "collapsed": false,
    "slideshow": {
     "slide_type": "-"
    }
   },
   "outputs": [],
   "source": [
    "my_file = open ('caterpillar_advice.txt','r')\n",
    "\n",
    "# read() reads the _entire_ file, returns a string object\n",
    "a_string = my_file.read()           \n",
    "print \"Contents of file are of type\",type(a_string)\n",
    "\n",
    "# close file handle\n",
    "my_file.close()\n",
    "\n",
    "# Now data is in memory\n",
    "print '<', a_string, '>'"
   ]
  },
  {
   "cell_type": "markdown",
   "metadata": {},
   "source": [
    "#### Read file chunks"
   ]
  },
  {
   "cell_type": "code",
   "execution_count": null,
   "metadata": {
    "collapsed": false,
    "slideshow": {
     "slide_type": "-"
    }
   },
   "outputs": [],
   "source": [
    "my_file = open('caterpillar_advice.txt', 'r')\n",
    "chunk = my_file.read(32)\n",
    "print type(chunk)\n",
    "print chunk, ' * '\n",
    "while chunk != \"\":\n",
    "   chunk = my_file.read(32)   # read in 32-byte chunk sizes   \n",
    "   print chunk, ' * '\n",
    "    \n",
    "my_file.close()"
   ]
  },
  {
   "cell_type": "markdown",
   "metadata": {},
   "source": [
    "#### Read one line at a time"
   ]
  },
  {
   "cell_type": "code",
   "execution_count": null,
   "metadata": {
    "collapsed": false,
    "slideshow": {
     "slide_type": "-"
    }
   },
   "outputs": [],
   "source": [
    "my_file = open ('caterpillar_advice.txt')\n",
    "line = my_file.readline()\n",
    "type(line)\n",
    "line\n",
    "my_file.close()"
   ]
  },
  {
   "cell_type": "markdown",
   "metadata": {},
   "source": [
    "#### Read all the lines in the text file"
   ]
  },
  {
   "cell_type": "code",
   "execution_count": null,
   "metadata": {
    "collapsed": false
   },
   "outputs": [],
   "source": [
    "my_file = open ('caterpillar_advice.txt')\n",
    "lines = my_file.readlines()\n",
    "type(lines)\n",
    "lines                \n",
    "my_file.close()"
   ]
  },
  {
   "cell_type": "markdown",
   "metadata": {},
   "source": [
    "### Automatically closing files"
   ]
  },
  {
   "cell_type": "code",
   "execution_count": null,
   "metadata": {
    "collapsed": false
   },
   "outputs": [],
   "source": [
    "# to open a file, process its contents, and make sure to close it, you can simply do:\n",
    "\n",
    "with open ('caterpillar_advice.txt', 'r') as f:\n",
    "    data = f.read() \n",
    "    print 'Is file open? ',(f.closed)\n",
    "    # file will be closed after exiting this block of code\n",
    "    \n",
    "print 'Is file open? ',(f.closed)\n",
    "print (f.mode)"
   ]
  },
  {
   "cell_type": "markdown",
   "metadata": {},
   "source": [
    "### Writing text files"
   ]
  },
  {
   "cell_type": "code",
   "execution_count": null,
   "metadata": {
    "collapsed": false
   },
   "outputs": [],
   "source": [
    "with open ('write_test.txt', 'w+') as f:\n",
    "    f.write('Test')"
   ]
  },
  {
   "cell_type": "code",
   "execution_count": null,
   "metadata": {
    "collapsed": false
   },
   "outputs": [],
   "source": [
    "!cat write_test.txt"
   ]
  },
  {
   "cell_type": "code",
   "execution_count": null,
   "metadata": {
    "collapsed": false
   },
   "outputs": [],
   "source": [
    "with open ('caterpillar_advice.txt', 'r') as rf:\n",
    "    with open ('caterpillar_advice.txt_copy.txt', 'w') as wf:\n",
    "        for line in rf:\n",
    "            wf.write(line)\n"
   ]
  },
  {
   "cell_type": "code",
   "execution_count": null,
   "metadata": {
    "collapsed": false
   },
   "outputs": [],
   "source": [
    "!cat caterpillar_advice.txt_copy.txt"
   ]
  },
  {
   "cell_type": "markdown",
   "metadata": {},
   "source": [
    "### Summary of open() file access modes"
   ]
  },
  {
   "cell_type": "markdown",
   "metadata": {},
   "source": [
    "<table style=\"width:100%\">\n",
    "  <tr>\n",
    "    <th>Mode</th>\n",
    "    <th>Description</th> \n",
    "  </tr>\n",
    "  <tr>\n",
    "    <td>r</td>\n",
    "    <td>Opens a file for reading only. Default mode.</td> \n",
    "  </tr>\n",
    "  <tr>\n",
    "    <td>rb</td>\n",
    "    <td>Opens a file for reading only in binary format.</td> \n",
    "  </tr>\n",
    "  <tr>\n",
    "    <td>r+</td>\n",
    "    <td>Opens a file for both reading and writing.</td> \n",
    "  </tr>\n",
    "  <tr>\n",
    "    <td>rb+</td>\n",
    "    <td>Opens a file for both reading and writing in binary format.</td> \n",
    "  </tr>\n",
    "  <tr>\n",
    "    <td>w</td>\n",
    "    <td>Opens a file for writing only. Overwrites file if it exists. Creates a new file if it does not exist.</td> \n",
    "  </tr>\n",
    "  <tr>\n",
    "    <td>wb</td>\n",
    "    <td>Opens a file for writing only in binary format.</td> \n",
    "  </tr>\n",
    "  <tr>\n",
    "    <td>w+</td>\n",
    "    <td>Opens a file for both writing and reading.</td> \n",
    "  </tr>\n",
    "  <tr>\n",
    "    <td>wb+</td>\n",
    "    <td>Opens a file for both writing and reading in binary format.</td> \n",
    "  </tr>\n",
    "    <td>a</td>\n",
    "    <td>Opens a file for appending. The file pointer is at the end of the file if it exists. </td> \n",
    "  </tr>\n",
    "  <tr>\n",
    "    <td>ab</td>\n",
    "    <td>Opens a file for appending in binary format.</td> \n",
    "  </tr>\n",
    "  <tr>\n",
    "    <td>a+</td>\n",
    "    <td>Opens a file for both appending and reading.</td> \n",
    "  </tr>\n",
    "  <tr>\n",
    "    <td>ab+</td>\n",
    "    <td>Opens a file for both appending and reading in binary format.</td> \n",
    "  </tr>\n",
    "</table>"
   ]
  },
  {
   "cell_type": "markdown",
   "metadata": {
    "collapsed": false
   },
   "source": [
    "## Summary of basic file IO functions and methods"
   ]
  },
  {
   "cell_type": "markdown",
   "metadata": {},
   "source": [
    "<table style=\"width:100%\">\n",
    "  <tr>\n",
    "    <th>Methods and functions</th>\n",
    "    <th>Description</th> \n",
    "  </tr>\n",
    "  <tr>\n",
    "    <td>open()</td>\n",
    "    <td>Returns a file object and is most commonly used with two arguments: open(filename, mode)</td> \n",
    "  </tr>\n",
    "  <tr>\n",
    "    <td>file.close()</td>\n",
    "    <td>Close the file.</td> \n",
    "  </tr>\n",
    "  <tr>\n",
    "    <td>file.read([size])</td>\n",
    "    <td>Read the entire file. If size is specified then read at most size bytes.</td> \n",
    "  </tr>\n",
    "  <tr>\n",
    "    <td>file.readline([size])</td>\n",
    "    <td>Read one line from the file. If size is specified then read at most size bytes.</td> \n",
    "  </tr>\n",
    "  <tr>\n",
    "    <td>file.readlines([size])</td>\n",
    "    <td>Read all the lines from the file. If size is specified then read at most size bytes.</td> \n",
    "  </tr>\n",
    "  <tr>\n",
    "    <td>file.tell()</td>\n",
    "    <td>Returns file object's current position in the file.</td> \n",
    "  </tr>\n",
    "  <tr>\n",
    "    <td>file.seek(int)</td>\n",
    "    <td>Changes the file object's current position to the given int.</td> \n",
    "  <tr>\n",
    "    <td>file.write(string)</td>\n",
    "    <td>Writes the contents of string to the file.</td> \n",
    "  </tr>\n",
    "</table>"
   ]
  },
  {
   "cell_type": "markdown",
   "metadata": {},
   "source": [
    "### Handling delimited files"
   ]
  },
  {
   "cell_type": "code",
   "execution_count": null,
   "metadata": {
    "collapsed": false
   },
   "outputs": [],
   "source": [
    "!cat grades.csv"
   ]
  },
  {
   "cell_type": "markdown",
   "metadata": {
    "collapsed": false
   },
   "source": [
    "One could use csv package: \n",
    "```cython\n",
    "import csv\n",
    "```"
   ]
  },
  {
   "cell_type": "code",
   "execution_count": null,
   "metadata": {
    "collapsed": false
   },
   "outputs": [],
   "source": [
    "with open('grades.csv', 'r') as f:\n",
    "    for line in f:\n",
    "        print line.strip().split(',')"
   ]
  },
  {
   "cell_type": "markdown",
   "metadata": {},
   "source": [
    "Each row of the input data is parsed and converted to a list of strings."
   ]
  },
  {
   "cell_type": "markdown",
   "metadata": {},
   "source": [
    "### Binary data IO"
   ]
  },
  {
   "cell_type": "markdown",
   "metadata": {},
   "source": [
    "The differences between binary and ascii encoding won't be obvious for simple alphanumeric strings, but will become important if you're processing text that includes characters not in the ascii character set."
   ]
  },
  {
   "cell_type": "code",
   "execution_count": null,
   "metadata": {
    "collapsed": false
   },
   "outputs": [],
   "source": [
    "with open ('cat.jpg', 'r') as rf:\n",
    "    with open ('copy_cat.jpg', 'w') as wf:\n",
    "        for line in rf:\n",
    "            wf.write(line)"
   ]
  },
  {
   "cell_type": "code",
   "execution_count": null,
   "metadata": {
    "collapsed": false,
    "scrolled": true
   },
   "outputs": [],
   "source": [
    "with open('cat.jpg', 'rb') as f:\n",
    "    data = f.readline()\n",
    "print (data)"
   ]
  },
  {
   "cell_type": "code",
   "execution_count": null,
   "metadata": {
    "collapsed": false
   },
   "outputs": [],
   "source": [
    "':'.join(x.encode('hex') for x in data)"
   ]
  },
  {
   "cell_type": "markdown",
   "metadata": {},
   "source": [
    "Hex dump is useful for debugging. In a hex dump, each byte (8-bits) is represented as a two-digit hexadecimal number."
   ]
  },
  {
   "cell_type": "code",
   "execution_count": null,
   "metadata": {
    "collapsed": false
   },
   "outputs": [],
   "source": [
    "with open('cat.jpg', 'rb') as f:\n",
    "    data = f.read()\n",
    " \n",
    "    if data.startswith(b'\\xff\\xd8'):\n",
    "        info = 'This is a jpeg file (%d bytes long)'\n",
    "    else:\n",
    "        info = 'This is a random file (%d bytes long)'\n",
    "\n",
    "    print (info % len(data))"
   ]
  },
  {
   "cell_type": "code",
   "execution_count": null,
   "metadata": {
    "collapsed": false
   },
   "outputs": [],
   "source": [
    "from IPython.display import Image\n",
    "kitty = Image(filename = 'cat.jpg')\n",
    "kitty"
   ]
  },
  {
   "cell_type": "markdown",
   "metadata": {},
   "source": [
    "### OS dependent functions"
   ]
  },
  {
   "cell_type": "code",
   "execution_count": null,
   "metadata": {
    "collapsed": true
   },
   "outputs": [],
   "source": [
    "import os"
   ]
  },
  {
   "cell_type": "markdown",
   "metadata": {
    "collapsed": true
   },
   "source": [
    "Python os module provides methods that help you perform all kinds of file-processing operations, such as renaming and deleting files (as well as file IO)."
   ]
  },
  {
   "cell_type": "code",
   "execution_count": null,
   "metadata": {
    "collapsed": false
   },
   "outputs": [],
   "source": [
    "help(os.read)\n",
    "fd = os.open('caterpillar_advice.txt', os.O_RDWR)\n",
    "ret = os.read(fd, 15)\n",
    "print 'Result from os.read:'+'\\n'+20*'-'+'\\n'+ret\n",
    "os.close(fd)"
   ]
  },
  {
   "cell_type": "markdown",
   "metadata": {},
   "source": [
    "#### You need to test whether or not a file or directory exists."
   ]
  },
  {
   "cell_type": "code",
   "execution_count": null,
   "metadata": {
    "collapsed": false
   },
   "outputs": [],
   "source": [
    "print os.path.exists('/etc/passwd')\n",
    "print os.path.exists('/etc/spam')"
   ]
  },
  {
   "cell_type": "code",
   "execution_count": null,
   "metadata": {
    "collapsed": false
   },
   "outputs": [],
   "source": [
    "filename = '/etc/spam'\n",
    "if os.path.exists(filename):\n",
    "    with open(filename) as f:\n",
    "        data = f.readline()\n",
    "    print data    \n",
    "else:\n",
    "    print (filename + ' does not exist')"
   ]
  },
  {
   "cell_type": "markdown",
   "metadata": {},
   "source": [
    "#### List files in current directory"
   ]
  },
  {
   "cell_type": "code",
   "execution_count": null,
   "metadata": {
    "collapsed": false
   },
   "outputs": [],
   "source": [
    "listdir =  os.listdir(\".\")\n",
    "for file in listdir:\n",
    "   print file"
   ]
  },
  {
   "cell_type": "markdown",
   "metadata": {},
   "source": [
    "#### Dealing with directories"
   ]
  },
  {
   "cell_type": "code",
   "execution_count": null,
   "metadata": {
    "collapsed": false
   },
   "outputs": [],
   "source": [
    "os.mkdir(\"newdir\")\n",
    "os.chdir(\"newdir\")\n",
    "print os.getcwd()"
   ]
  },
  {
   "cell_type": "code",
   "execution_count": null,
   "metadata": {
    "collapsed": false
   },
   "outputs": [],
   "source": [
    "os.chdir(\"..\")\n",
    "print os.getcwd()"
   ]
  },
  {
   "cell_type": "code",
   "execution_count": null,
   "metadata": {
    "collapsed": true
   },
   "outputs": [],
   "source": [
    "os.rmdir(\"newdir\")"
   ]
  },
  {
   "cell_type": "markdown",
   "metadata": {},
   "source": [
    "#### Accessing environment"
   ]
  },
  {
   "cell_type": "code",
   "execution_count": null,
   "metadata": {
    "collapsed": false
   },
   "outputs": [],
   "source": [
    "print os.environ['HOME']\n",
    "print os.environ.has_key(\"HOME\")\n",
    "\n",
    "# using get will return `None` if a key is not present rather than raise a `KeyError`\n",
    "print os.environ.get('KEY_THAT_MIGHT_EXIST')\n",
    "\n",
    "# os.getenv is equivalent, and can also give a default value instead of `None`\n",
    "print os.getenv('KEY_THAT_MIGHT_EXIST', 'SOME_KEY')\n",
    "\n",
    "# Setting variable\n",
    "os.environ['PythonTraining'] = 'is fun'\n",
    "print os.environ.get('PythonTraining')"
   ]
  },
  {
   "cell_type": "markdown",
   "metadata": {},
   "source": [
    "#### Other utilities"
   ]
  },
  {
   "cell_type": "code",
   "execution_count": null,
   "metadata": {
    "collapsed": false
   },
   "outputs": [],
   "source": [
    "print os.path.isfile('/etc/passwd')\n",
    "print os.path.isdir('/etc/passwd')\n",
    "print os.path.islink('python')\n",
    "print os.path.realpath('python')\n",
    "print os.path.getsize('/etc/passwd')"
   ]
  },
  {
   "cell_type": "code",
   "execution_count": null,
   "metadata": {
    "collapsed": true
   },
   "outputs": [],
   "source": [
    "import shutil"
   ]
  },
  {
   "cell_type": "markdown",
   "metadata": {},
   "source": [
    "The shutil module offers a number of high-level operations on <b>files and collections of files</b>. In particular, functions are provided which support file copying and removal. \n",
    "For operations on individual files, see also the os module."
   ]
  },
  {
   "cell_type": "code",
   "execution_count": null,
   "metadata": {
    "collapsed": false
   },
   "outputs": [],
   "source": [
    "help (shutil.copy)\n",
    "help (shutil.move)"
   ]
  },
  {
   "cell_type": "markdown",
   "metadata": {},
   "source": [
    "# Exceptions and exception handling"
   ]
  },
  {
   "cell_type": "markdown",
   "metadata": {},
   "source": [
    "### Syntax vs. run-time errors\n",
    "A <b>python</b> program with a syntax error will execute no steps at all, but a program with a run-time error will execute the steps that happened before the error occured."
   ]
  },
  {
   "cell_type": "code",
   "execution_count": null,
   "metadata": {
    "collapsed": false
   },
   "outputs": [],
   "source": [
    "print \"programming is fun, debugging programs is not\"\n",
    "print 'This does not make sense: ' 1/0"
   ]
  },
  {
   "cell_type": "code",
   "execution_count": null,
   "metadata": {
    "collapsed": false
   },
   "outputs": [],
   "source": [
    "print \"programming is fun, debugging programs is not\"\n",
    "print 'This does not make sense: ',1/0"
   ]
  },
  {
   "cell_type": "markdown",
   "metadata": {},
   "source": [
    "#### In Python an <font color='blue'>exception</font> is an object that is <font color='blue'>raised</font> when an \"exceptional\" situation occurs. "
   ]
  },
  {
   "cell_type": "markdown",
   "metadata": {},
   "source": [
    "## Built-in exceptions\n",
    "\n",
    "<table style=\"width:100%\">\n",
    "  <tr>\n",
    "    <th>Exception name</th>\n",
    "    <th>Description</th> \n",
    "  </tr>\n",
    "  <tr>\n",
    "    <td>IOError</td>\n",
    "    <td>Raised when an IO operation fails.</td> \n",
    "  </tr>\n",
    "  <tr>\n",
    "    <td>KeyError</td>\n",
    "    <td>Raised when a mapping (dictionary) key is not found in the set of existing keys.</td> \n",
    "  </tr>\n",
    "  <tr>\n",
    "    <td>NameError</td>\n",
    "    <td>Raised when an identifier is not found in the local or global namespace.</td> \n",
    "  </tr>\n",
    "  <tr>\n",
    "    <td>OSError</td>\n",
    "    <td>Raised when a function returns a system-related error.</td> \n",
    "  </tr>\n",
    "  <tr>\n",
    "    <td>ValueError</td>\n",
    "    <td>Raised when a built-in operation or function receives an argument that has the right type but an inappropriate value.</td> \n",
    "  </tr>\n",
    "  <tr>\n",
    "    <td>ZeroDivisionError</td>\n",
    "    <td>Raised when the second argument of a division or modulo operation is zero.</td> \n",
    "  </tr>\n",
    "</table>\n",
    "\n",
    "For a full list see https://docs.python.org/2/library/exceptions.html"
   ]
  },
  {
   "cell_type": "markdown",
   "metadata": {},
   "source": [
    "### raise statement"
   ]
  },
  {
   "cell_type": "markdown",
   "metadata": {},
   "source": [
    "One can generate exceptions using the <font color='blue'>raise</font> statement, which takes an argument that must be an instance of the class <font color='blue'>BaseException</font> or a class derived from it."
   ]
  },
  {
   "cell_type": "markdown",
   "metadata": {},
   "source": [
    "A typical use of exceptions is to abort functions when some error condition occurs, for example:"
   ]
  },
  {
   "cell_type": "code",
   "execution_count": null,
   "metadata": {
    "collapsed": false,
    "scrolled": false
   },
   "outputs": [],
   "source": [
    "def compute(param):\n",
    "    if (param < 1.):\n",
    "        raise Exception(\"Invalid parameter\")\n",
    "compute(.1)"
   ]
  },
  {
   "cell_type": "markdown",
   "metadata": {},
   "source": [
    "__When an exception is raised, and is not handled by the code, it propagates back to the calling code (and its calling code) until it's handled.__"
   ]
  },
  {
   "cell_type": "markdown",
   "metadata": {},
   "source": [
    "### How do we \"handle\" exceptions\n",
    "\n",
    "#### We use the <font color='blue'>try...except</font> block. \n"
   ]
  },
  {
   "cell_type": "code",
   "execution_count": null,
   "metadata": {
    "collapsed": false
   },
   "outputs": [],
   "source": [
    "try:                                                      # required keyword\n",
    "    print '< Try: Block of code that harbors the risk of an exception >' # exception generated in this block\n",
    "except:                                                   # required keyword\n",
    "    print '*** There was a runtime error ***'             # exception is caught here\n",
    "    \n",
    "print '< We are outside the try statement >'"
   ]
  },
  {
   "cell_type": "code",
   "execution_count": null,
   "metadata": {
    "collapsed": false
   },
   "outputs": [],
   "source": [
    "(x,y) = (5,0)\n",
    "try:\n",
    "    z = x/y\n",
    "except ZeroDivisionError:\n",
    "    print \"divide by zero\""
   ]
  },
  {
   "cell_type": "markdown",
   "metadata": {},
   "source": [
    "#### General <font color='blue'>try...except</font> block"
   ]
  },
  {
   "cell_type": "code",
   "execution_count": null,
   "metadata": {
    "collapsed": false
   },
   "outputs": [],
   "source": [
    "try:                                                      # required keyword\n",
    "    print '< Try: Block of code that harbors the risk of an exception >' # exception generated in this block\n",
    "except:                                                   # required keyword\n",
    "    print '*** There was a runtime error ***'             # exception is caught here\n",
    "else:                                                     # optional keyword\n",
    "    print '< Else: There was no exception >'\n",
    "finally:                                                  # optional keyword - like a clean-up step\n",
    "    print '< Finally: Exception handling is finished - always executed >'\n",
    "    \n",
    "print '< We are outside the try statement >'"
   ]
  },
  {
   "cell_type": "markdown",
   "metadata": {},
   "source": [
    "### Exception Handling and File Processing"
   ]
  },
  {
   "cell_type": "code",
   "execution_count": null,
   "metadata": {
    "collapsed": false
   },
   "outputs": [],
   "source": [
    "with open ('nonExistentFile.txt', 'r') as f:\n",
    "   data = my_file.readlines()"
   ]
  },
  {
   "cell_type": "code",
   "execution_count": null,
   "metadata": {
    "collapsed": false
   },
   "outputs": [],
   "source": [
    "try:\n",
    "    with open ('nonExistentFile.txt', 'r') as f:\n",
    "        data = f.readline()\n",
    "except IOError:\n",
    "    print 'File does not exist'\n",
    "else:\n",
    "    print data"
   ]
  },
  {
   "cell_type": "markdown",
   "metadata": {},
   "source": [
    "#### <font color='red'>Summary</font>: \n",
    "\n",
    "Exception handling is a useful feature of Python - more art than science. \n",
    "\n",
    "Raise exceptions whenever something unexpected occurs, and catch them only where you can do something about them."
   ]
  },
  {
   "cell_type": "markdown",
   "metadata": {},
   "source": [
    "Exercise:\n",
    "\n",
    "Add a try-except block to the follwing code, i.e. instead of performing checks (using 'if') before we do something, we just do it – and if an error does occur we handle it."
   ]
  },
  {
   "cell_type": "code",
   "execution_count": null,
   "metadata": {
    "collapsed": false
   },
   "outputs": [],
   "source": [
    "n = None\n",
    "while n is None:\n",
    "    s = raw_input(\"Please enter an integer: \")\n",
    "    if s.isdigit():\n",
    "        n = int(s)\n",
    "    else:\n",
    "        print(\"%s is not an integer.\" % s)"
   ]
  },
  {
   "cell_type": "code",
   "execution_count": null,
   "metadata": {
    "collapsed": true
   },
   "outputs": [],
   "source": []
  }
 ],
 "metadata": {
  "anaconda-cloud": {},
  "celltoolbar": "Raw Cell Format",
  "kernelspec": {
   "display_name": "Python [conda root]",
   "language": "python",
   "name": "conda-root-py"
  },
  "language_info": {
   "codemirror_mode": {
    "name": "ipython",
    "version": 2
   },
   "file_extension": ".py",
   "mimetype": "text/x-python",
   "name": "python",
   "nbconvert_exporter": "python",
   "pygments_lexer": "ipython2",
   "version": "2.7.12"
  }
 },
 "nbformat": 4,
 "nbformat_minor": 0
}
