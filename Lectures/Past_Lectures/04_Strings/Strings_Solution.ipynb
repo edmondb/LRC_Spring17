{
 "cells": [
  {
   "cell_type": "markdown",
   "metadata": {},
   "source": [
    "<CENTER>\n",
    "<H1>\n",
    "<font color='blue'>NASA Langley Research Center </font> <BR>\n",
    "Fall 2016 Python Training <br>\n",
    "</H1>\n",
    "</CENTER>"
   ]
  },
  {
   "cell_type": "markdown",
   "metadata": {},
   "source": [
    "# Strings in Python"
   ]
  },
  {
   "cell_type": "markdown",
   "metadata": {},
   "source": [
    "### Problem"
   ]
  },
  {
   "cell_type": "markdown",
   "metadata": {},
   "source": [
    "Consider the string:"
   ]
  },
  {
   "cell_type": "code",
   "execution_count": 21,
   "metadata": {
    "collapsed": false
   },
   "outputs": [],
   "source": [
    "ev = 'Python Training at NASA LRCC starting at 8:30 am. See you at the SSAI Conference Room. What?'"
   ]
  },
  {
   "cell_type": "markdown",
   "metadata": {},
   "source": [
    "<UL>\n",
    "<LI> Find the position on the string where \"at\" is appearing the third time\n",
    "<LI> List all the upper case characters on the string.\n",
    "<LI> Replace the second occurence of \".\" with \"!\".\n",
    "<LI> Count the number of times the letter \"a\" (upper or lower case) appears on the string.\n",
    "</UL>"
   ]
  },
  {
   "cell_type": "markdown",
   "metadata": {},
   "source": [
    "#### Solution"
   ]
  },
  {
   "cell_type": "code",
   "execution_count": null,
   "metadata": {
    "collapsed": false
   },
   "outputs": [],
   "source": [
    "# Position of the third appearance of 'at'\n",
    "#-----------------------------------------\n",
    "pos1 = ev.find('at')\n",
    "pos2 = ev.find('at', pos1+len('at'))\n",
    "pos3 = ev.find('at', pos2+len('at'))\n",
    "print \"The position of the third appearance of 'at': \", pos3\n",
    "\n",
    "# List of all the upper case characters\n",
    "#--------------------------------------\n",
    "print \"Upper Chase Charcaters: \",\n",
    "for c in ev:\n",
    "    if c.isupper():\n",
    "        print c,\n",
    "print\n",
    "\n",
    "# Replace the second occurence of \".\" with \"!\". \n",
    "#----------------------------------------------\n",
    "pos = ev.find('.')\n",
    "pos+=len('.')\n",
    "ev1 = ev[:pos]\n",
    "ev2 = ev[pos:]\n",
    "ev2 = ev2.replace('.', '!', 1)\n",
    "ev3 = ev1 + ev2\n",
    "print ev3\n",
    "\n",
    "# Count the number of times the letter \"a\" (upper or lower case) appears on the string.\n",
    "#--------------------------------------------------------------------------------------\n",
    "n = 0\n",
    "for c in ev:\n",
    "    if c.lower() == 'a':\n",
    "        n+=1\n",
    "print \"There are %d occurences of the letter 'a'\" %(n)\n",
    "    \n"
   ]
  },
  {
   "cell_type": "code",
   "execution_count": null,
   "metadata": {
    "collapsed": false
   },
   "outputs": [],
   "source": []
  }
 ],
 "metadata": {
  "anaconda-cloud": {},
  "kernelspec": {
   "display_name": "Python [default]",
   "language": "python",
   "name": "python2"
  },
  "language_info": {
   "codemirror_mode": {
    "name": "ipython",
    "version": 2
   },
   "file_extension": ".py",
   "mimetype": "text/x-python",
   "name": "python",
   "nbconvert_exporter": "python",
   "pygments_lexer": "ipython2",
   "version": "2.7.12"
  }
 },
 "nbformat": 4,
 "nbformat_minor": 0
}
