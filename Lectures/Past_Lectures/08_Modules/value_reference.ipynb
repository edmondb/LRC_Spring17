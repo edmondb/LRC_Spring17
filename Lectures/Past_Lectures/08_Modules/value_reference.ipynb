{
 "cells": [
  {
   "cell_type": "code",
   "execution_count": 4,
   "metadata": {
    "collapsed": false
   },
   "outputs": [
    {
     "name": "stdout",
     "output_type": "stream",
     "text": [
      "['student 1']\n",
      "['student 1', 'student 2']\n",
      "['student 1', 'student 2']\n"
     ]
    }
   ],
   "source": [
    "L = ['student 1']\n",
    "x = 2\n",
    "\n",
    "#hex: hexadecimal format of a memory location\n",
    "# id: memory location/id\n",
    "def func(x, L):\n",
    "    #print('first: '+str(hex(id(x))))\n",
    "    x = 6\n",
    "    print(L)\n",
    "    L.append('student 2')\n",
    "    print(L)\n",
    "    #print('second: '+str(hex(id(x))))\n",
    "\n",
    "func(x, L)\n",
    "print(L)\n",
    "#print('third: '+str(hex(id(x))))"
   ]
  },
  {
   "cell_type": "code",
   "execution_count": null,
   "metadata": {
    "collapsed": true
   },
   "outputs": [],
   "source": []
  }
 ],
 "metadata": {
  "kernelspec": {
   "display_name": "Python [conda root]",
   "language": "python",
   "name": "conda-root-py"
  },
  "language_info": {
   "codemirror_mode": {
    "name": "ipython",
    "version": 2
   },
   "file_extension": ".py",
   "mimetype": "text/x-python",
   "name": "python",
   "nbconvert_exporter": "python",
   "pygments_lexer": "ipython2",
   "version": "2.7.12"
  }
 },
 "nbformat": 4,
 "nbformat_minor": 1
}
