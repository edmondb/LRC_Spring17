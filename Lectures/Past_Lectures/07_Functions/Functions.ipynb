{
 "cells": [
  {
   "cell_type": "markdown",
   "metadata": {
    "slideshow": {
     "slide_type": "slide"
    }
   },
   "source": [
    "![NASA](http://www.nasa.gov/sites/all/themes/custom/nasatwo/images/nasa-logo.svg)\n",
    "\n",
    "<center><h1><font size=\"+3\">Fall 2016 Python Training</font></h1></center>\n",
    "\n",
    "---\n",
    "\n",
    "<center>\n",
    "<h2>Functions</h2>\n",
    "<br>\n",
    "<h6>October 17, 2016</h6>\n",
    "</center>"
   ]
  },
  {
   "cell_type": "markdown",
   "metadata": {
    "slideshow": {
     "slide_type": "slide"
    }
   },
   "source": [
    "# Functions\n",
    "\n",
    "---\n",
    "\n",
    "```python\n",
    "def function_name(arguments):\n",
    "    # Python code\n",
    "\n",
    "    return object\n",
    "```"
   ]
  },
  {
   "cell_type": "markdown",
   "metadata": {
    "slideshow": {
     "slide_type": "subslide"
    }
   },
   "source": [
    "# Why have functions?\n",
    "\n",
    "---\n",
    "\n",
    "Functions allow us to reuse code many times repeatedly, or, more importantly, across different situations. Let's see this second capability in an example:"
   ]
  },
  {
   "cell_type": "code",
   "execution_count": null,
   "metadata": {
    "collapsed": true,
    "slideshow": {
     "slide_type": "fragment"
    }
   },
   "outputs": [],
   "source": [
    "def my_function(x):\n",
    "    print(x**2)\n",
    "\n",
    "\n",
    "a = 5\n",
    "b = 'a string '\n",
    "\n",
    "my_function(a)\n",
    "my_function(b)"
   ]
  },
  {
   "cell_type": "markdown",
   "metadata": {
    "slideshow": {
     "slide_type": "subslide"
    }
   },
   "source": [
    "Functions allow us to reuse code:"
   ]
  },
  {
   "cell_type": "code",
   "execution_count": null,
   "metadata": {
    "collapsed": false,
    "slideshow": {
     "slide_type": "fragment"
    }
   },
   "outputs": [],
   "source": [
    "def f(x):\n",
    "    # note the use of a return statement\n",
    "    return x * x\n",
    "\n",
    "print(f(3))\n",
    "print(f(3) + f(4))\n",
    "print(f(f(f(f(f(2))))))"
   ]
  },
  {
   "cell_type": "markdown",
   "metadata": {
    "slideshow": {
     "slide_type": "slide"
    }
   },
   "source": [
    "# Arguments\n",
    "\n",
    "---\n",
    "\n",
    "Functions allow the following types of arguments between the `()`'s:\n",
    "\n",
    "* No arguments\n",
    "* Positional Arguments - order sensitive\n",
    "* Keyword Arguments - named variables (can have default values)\n",
    "* `*args` - a tuple of variable length\n",
    "* `**kwargs` - a dictionary of keyword arguments"
   ]
  },
  {
   "cell_type": "code",
   "execution_count": null,
   "metadata": {
    "collapsed": true,
    "slideshow": {
     "slide_type": "subslide"
    }
   },
   "outputs": [],
   "source": [
    "# no arguments (useful for grouping codes)\n",
    "def driver():\n",
    "    # get user input\n",
    "    # check user input\n",
    "    # use input to perform specific operations\n",
    "    # any output\n",
    "    # checks or summaries\n",
    "    # exit\n",
    "\n",
    "if __name__ == '__main__':\n",
    "    driver()"
   ]
  },
  {
   "cell_type": "code",
   "execution_count": null,
   "metadata": {
    "collapsed": true,
    "slideshow": {
     "slide_type": "subslide"
    }
   },
   "outputs": [],
   "source": [
    "# positional arguments (expect specific variables)\n",
    "def sum(x, y):\n",
    "    return x + y\n",
    "\n",
    "print(sum(4, 248))"
   ]
  },
  {
   "cell_type": "code",
   "execution_count": null,
   "metadata": {
    "collapsed": true,
    "slideshow": {
     "slide_type": "subslide"
    }
   },
   "outputs": [],
   "source": [
    "# keyword arguments (with defaults usually; variable length (like reading a file))\n",
    "def student_title(fname='Bob', lname='Brown'):\n",
    "    print('{:<10}, {:>20}'.format(fname.capitalize(), lname.capitalize))\n",
    "\n",
    "student_title(lname='Smith')"
   ]
  },
  {
   "cell_type": "markdown",
   "metadata": {
    "slideshow": {
     "slide_type": "subslide"
    }
   },
   "source": [
    "# A small note about defaults\n",
    "\n",
    "---\n",
    "\n",
    "```python\n",
    "def f(x=1):\n",
    "    return x**2\n",
    "\n",
    "print(f())\n",
    "print(f(5))\n",
    "print(f(x=27))\n",
    "```"
   ]
  },
  {
   "cell_type": "code",
   "execution_count": null,
   "metadata": {
    "collapsed": true,
    "slideshow": {
     "slide_type": "subslide"
    }
   },
   "outputs": [],
   "source": [
    "# *args and **kwargs\n",
    "def func_name(*args, **kwargs):\n",
    "    for name in args:\n",
    "        print('Student name: ' + name.capitalize())\n",
    "    for key, value in kwargs.iteritems():\n",
    "        print('{:<10}: {:>10}'.format(key, value.capitalize()))\n",
    "\n",
    "print('Class List:')\n",
    "func_name('Bob', 'Betty', 'joe', 'sUE')\n",
    "\n",
    "print('\\n')\n",
    "print('Ordered Class:')\n",
    "func_name(student_1='Joe', student_2='bob')\n",
    "\n",
    "print('\\n')\n",
    "print('A different Ordered Class:')\n",
    "func_name(**{'student 1':'sue', 'student 2':'Amy'})"
   ]
  },
  {
   "cell_type": "markdown",
   "metadata": {
    "slideshow": {
     "slide_type": "slide"
    }
   },
   "source": [
    "# Reference or Value\n",
    "\n",
    "---\n",
    "\n",
    "All arguments are passed by reference in Python (changed if you modify within function)."
   ]
  },
  {
   "cell_type": "code",
   "execution_count": null,
   "metadata": {
    "collapsed": true,
    "slideshow": {
     "slide_type": "subslide"
    }
   },
   "outputs": [],
   "source": [
    "def changeme(mylist):\n",
    "    mylist.append([1, 2, 3, 4]);\n",
    "    print('Value of list inside the function: ', mylist)\n",
    "\n",
    "\n",
    "mylist = [10, 20, 30]\n",
    "print('Value of list before the function:', mylist)\n",
    "changeme(mylist)\n",
    "print('Value of list outside the function: ', mylist)"
   ]
  },
  {
   "cell_type": "markdown",
   "metadata": {
    "slideshow": {
     "slide_type": "slide"
    }
   },
   "source": [
    "# In-Class Exercise\n",
    "\n",
    "Write Python code to answer the following questions:\n",
    "\n",
    "1. Write a function that prints a string when called. If we don't call the function below the definition, does anything print? Why?\n",
    "2. What happens if you try to call a function above it's definition? Why?\n",
    "3. What happens if we try to change an argument's value without passing it as an argument? Why? I.e.,\n",
    "\n",
    "  ```python\n",
    "  x = 2\n",
    "  def my_func():\n",
    "      x = 6\n",
    "  ```\n",
    "\n",
    "4. How mght we change the value of x from Question 3 without passing it as an argument?"
   ]
  }
 ],
 "metadata": {
  "anaconda-cloud": {},
  "celltoolbar": "Slideshow",
  "kernelspec": {
   "display_name": "Python [conda root]",
   "language": "python",
   "name": "conda-root-py"
  },
  "language_info": {
   "codemirror_mode": {
    "name": "ipython",
    "version": 2
   },
   "file_extension": ".py",
   "mimetype": "text/x-python",
   "name": "python",
   "nbconvert_exporter": "python",
   "pygments_lexer": "ipython2",
   "version": "2.7.12"
  }
 },
 "nbformat": 4,
 "nbformat_minor": 0
}
