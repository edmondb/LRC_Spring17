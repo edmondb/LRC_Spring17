{
 "cells": [
  {
   "cell_type": "markdown",
   "metadata": {},
   "source": [
    "<CENTER>\n",
    "<H1>\n",
    "<font color='blue'>NASA Langley Research Center </font> <BR>\n",
    "Fall 2016 Python Training <br>\n",
    "</H1>\n",
    "</CENTER>"
   ]
  },
  {
   "cell_type": "markdown",
   "metadata": {},
   "source": [
    "# List - Dictionary - Tuples"
   ]
  },
  {
   "cell_type": "markdown",
   "metadata": {},
   "source": [
    "## <font color='red'>What will be Covered?</font>"
   ]
  },
  {
   "cell_type": "markdown",
   "metadata": {},
   "source": [
    "<OL>\n",
    "<LI> List\n",
    "<LI> Tuples\n",
    "<LI> Dictionary\n",
    "</OL>"
   ]
  },
  {
   "cell_type": "markdown",
   "metadata": {},
   "source": [
    "## <font color='red'>Reference Documents</font>"
   ]
  },
  {
   "cell_type": "markdown",
   "metadata": {},
   "source": [
    "<OL>\n",
    "<LI> <A HREF=\"http://effbot.org/zone/python-list.htm\">An Introcduction to Python List</A>\n",
    "<LI> <A HREF=\"http://www.python-course.eu/dictionaries.php\">Python Dictionaries</A>\n",
    "<LI> <A HREF=\"http://www.diveintopython.net/native_data_types/tuples.html\">Introducing Tuples</A>\n",
    "</OL>"
   ]
  },
  {
   "cell_type": "markdown",
   "metadata": {},
   "source": [
    "## <font color='red'>List</font>"
   ]
  },
  {
   "cell_type": "markdown",
   "metadata": {},
   "source": [
    "<UL>\n",
    "<LI> Stores elements one after another\n",
    "<LI> It does not provide fast lookups. Finding an element is often slow. A search is required.\n",
    "<LI> Elements can be easily added, looped over or sorted.\n",
    "</UL>"
   ]
  },
  {
   "cell_type": "markdown",
   "metadata": {},
   "source": [
    "#### Create a List"
   ]
  },
  {
   "cell_type": "code",
   "execution_count": null,
   "metadata": {
    "collapsed": false
   },
   "outputs": [],
   "source": [
    "myList = []\n",
    "myList = [\"The\", \"earth\", \"revolves\", \"around\", \"sun\"]"
   ]
  },
  {
   "cell_type": "code",
   "execution_count": null,
   "metadata": {
    "collapsed": false
   },
   "outputs": [],
   "source": [
    "myList[0]\n",
    "\n",
    "myList[4]\n",
    "\n",
    "myList[5]\n",
    "\n",
    "myList[-1]"
   ]
  },
  {
   "cell_type": "markdown",
   "metadata": {},
   "source": [
    "#### Typical List Operations"
   ]
  },
  {
   "cell_type": "code",
   "execution_count": null,
   "metadata": {
    "collapsed": false
   },
   "outputs": [],
   "source": [
    "L = []          # declare empty list\n",
    "L.append(1.2)   # add a number 1.2\n",
    "L.append('a’)   # add a text\n",
    "L[0] = 1.3      # change an item\n",
    "del L[1]        # delete an item\n",
    "len(L)          # length of list\n",
    "L.count(x)      # count the number of times x occurs\n",
    "L.index(x)      # return the index of the first occurrence of x\n",
    "L.remove(x)     # delete the first occurrence of x\n",
    "L.reverse       # reverse the order of elements in the list"
   ]
  },
  {
   "cell_type": "markdown",
   "metadata": {},
   "source": [
    "#### Add Elements to a List"
   ]
  },
  {
   "cell_type": "code",
   "execution_count": null,
   "metadata": {
    "collapsed": false
   },
   "outputs": [],
   "source": [
    "myList.insert(0,\"Yes\")\n",
    "len(myList)"
   ]
  },
  {
   "cell_type": "code",
   "execution_count": null,
   "metadata": {
    "collapsed": false
   },
   "outputs": [],
   "source": [
    "myList.append([\"a\", \"true\"])\n",
    "len(myList)"
   ]
  },
  {
   "cell_type": "code",
   "execution_count": null,
   "metadata": {
    "collapsed": false
   },
   "outputs": [],
   "source": [
    "myList.extend([\"statement\", \"for\", \"sure\"])\n",
    "print myList\n",
    "len(myList)"
   ]
  },
  {
   "cell_type": "markdown",
   "metadata": {},
   "source": [
    "#### Slice Elements from a List"
   ]
  },
  {
   "cell_type": "code",
   "execution_count": null,
   "metadata": {
    "collapsed": false
   },
   "outputs": [],
   "source": [
    "myList[0]"
   ]
  },
  {
   "cell_type": "code",
   "execution_count": null,
   "metadata": {
    "collapsed": false
   },
   "outputs": [],
   "source": [
    "myList[1:4]"
   ]
  },
  {
   "cell_type": "code",
   "execution_count": null,
   "metadata": {
    "collapsed": false
   },
   "outputs": [],
   "source": [
    "myList[:4]"
   ]
  },
  {
   "cell_type": "code",
   "execution_count": null,
   "metadata": {
    "collapsed": false
   },
   "outputs": [],
   "source": [
    "myList[-1]"
   ]
  },
  {
   "cell_type": "code",
   "execution_count": null,
   "metadata": {
    "collapsed": false
   },
   "outputs": [],
   "source": [
    "myList[:]"
   ]
  },
  {
   "cell_type": "markdown",
   "metadata": {},
   "source": [
    "#### Search the Lists and find Elements"
   ]
  },
  {
   "cell_type": "code",
   "execution_count": null,
   "metadata": {
    "collapsed": false
   },
   "outputs": [],
   "source": [
    "myList.index(\"revolves\")"
   ]
  },
  {
   "cell_type": "code",
   "execution_count": null,
   "metadata": {
    "collapsed": false
   },
   "outputs": [],
   "source": [
    "myList.index(\"true\")"
   ]
  },
  {
   "cell_type": "code",
   "execution_count": null,
   "metadata": {
    "collapsed": false
   },
   "outputs": [],
   "source": [
    "myList.index([\"a\", \"true\"])"
   ]
  },
  {
   "cell_type": "code",
   "execution_count": null,
   "metadata": {
    "collapsed": false
   },
   "outputs": [],
   "source": [
    "\"sun\" in myList"
   ]
  },
  {
   "cell_type": "markdown",
   "metadata": {},
   "source": [
    "#### Delete Elements from the List"
   ]
  },
  {
   "cell_type": "code",
   "execution_count": null,
   "metadata": {
    "collapsed": false
   },
   "outputs": [],
   "source": [
    "# Remove an element from the list\n",
    "print myList\n",
    "myList.remove(\"Yes\")\n",
    "print myList"
   ]
  },
  {
   "cell_type": "code",
   "execution_count": null,
   "metadata": {
    "collapsed": false
   },
   "outputs": [],
   "source": [
    "# To delete the last element of the list\n",
    "myList.pop()\n",
    "print myList"
   ]
  },
  {
   "cell_type": "markdown",
   "metadata": {},
   "source": [
    "#### Python List Operators"
   ]
  },
  {
   "cell_type": "code",
   "execution_count": null,
   "metadata": {
    "collapsed": false
   },
   "outputs": [],
   "source": [
    "# Combine two lists\n",
    "print myList\n",
    "myList = myList + [\"sure\"]\n",
    "print myList"
   ]
  },
  {
   "cell_type": "code",
   "execution_count": null,
   "metadata": {
    "collapsed": false
   },
   "outputs": [],
   "source": [
    "myList += [\".\"]\n",
    "print myList"
   ]
  },
  {
   "cell_type": "code",
   "execution_count": null,
   "metadata": {
    "collapsed": false
   },
   "outputs": [],
   "source": [
    "# Repeat the list\n",
    "myList *= 2\n",
    "print myList"
   ]
  },
  {
   "cell_type": "markdown",
   "metadata": {},
   "source": [
    "#### Assignment Create Object Reference"
   ]
  },
  {
   "cell_type": "code",
   "execution_count": null,
   "metadata": {
    "collapsed": false
   },
   "outputs": [],
   "source": [
    "x = [0,1,2]"
   ]
  },
  {
   "cell_type": "code",
   "execution_count": null,
   "metadata": {
    "collapsed": false
   },
   "outputs": [],
   "source": [
    "# y = x causes x and y to point to the same list\n",
    "y = x\n",
    "print y"
   ]
  },
  {
   "cell_type": "code",
   "execution_count": null,
   "metadata": {
    "collapsed": false
   },
   "outputs": [],
   "source": [
    "# Change to y also change x\n",
    "y[1] = 6\n",
    "print y\n",
    "print x"
   ]
  },
  {
   "cell_type": "code",
   "execution_count": null,
   "metadata": {
    "collapsed": false
   },
   "outputs": [],
   "source": [
    "# re-assigning y to a new list decouples the two lists\n",
    "y = [3, 4]"
   ]
  },
  {
   "cell_type": "markdown",
   "metadata": {},
   "source": [
    "### Problem 1"
   ]
  },
  {
   "cell_type": "markdown",
   "metadata": {},
   "source": [
    "Consider the list:"
   ]
  },
  {
   "cell_type": "code",
   "execution_count": null,
   "metadata": {
    "collapsed": false
   },
   "outputs": [],
   "source": [
    "oldList = [[1,2,3],[4,5,6]]"
   ]
  },
  {
   "cell_type": "markdown",
   "metadata": {},
   "source": [
    "Use use operations on lists to manipulate oldList and create the list [[1,2],[4,6]]"
   ]
  },
  {
   "cell_type": "markdown",
   "metadata": {},
   "source": [
    "#### Solution"
   ]
  },
  {
   "cell_type": "code",
   "execution_count": null,
   "metadata": {
    "collapsed": false
   },
   "outputs": [],
   "source": [
    "a = oldList[0]\n",
    "print a\n",
    "a.remove(3)\n",
    "b = oldList[1]\n",
    "print b\n",
    "b.remove(5)\n",
    "newList = []\n",
    "newList.append(a)\n",
    "print newList\n",
    "newList = newList.append(b)\n",
    "print newList"
   ]
  },
  {
   "cell_type": "code",
   "execution_count": null,
   "metadata": {
    "collapsed": false
   },
   "outputs": [],
   "source": []
  },
  {
   "cell_type": "markdown",
   "metadata": {},
   "source": [
    "## <font color='red'>Tuples</font>"
   ]
  },
  {
   "cell_type": "markdown",
   "metadata": {},
   "source": [
    "<UL>\n",
    "<LI> Tuples are a sequence of objects just like lists.\n",
    "<LI> Unlike lists, tuples are immutable objects\n",
    "<LI> Tuples are faster than lists.\n",
    "<LI> A good rule of thumb is to use list whenever you need a generic sequence \n",
    "</UL>"
   ]
  },
  {
   "cell_type": "markdown",
   "metadata": {},
   "source": [
    "### Examples"
   ]
  },
  {
   "cell_type": "code",
   "execution_count": null,
   "metadata": {
    "collapsed": false
   },
   "outputs": [],
   "source": [
    "l1=[1.2, 1.3, 1.4]       # list\n",
    "t1=(1.2, 1.3, 1.4)       # tuple\n",
    "t1=1.2, 1.3, 1.4         # may skip parenthesis"
   ]
  },
  {
   "cell_type": "code",
   "execution_count": null,
   "metadata": {
    "collapsed": false
   },
   "outputs": [],
   "source": [
    "l1[1]=0                  # ok\n",
    "l1.sort()\n",
    "11.append(0.0)\n",
    "l1.remove(1.2)"
   ]
  },
  {
   "cell_type": "markdown",
   "metadata": {},
   "source": [
    "#### Tuple = constant list; items cannot be modified"
   ]
  },
  {
   "cell_type": "code",
   "execution_count": null,
   "metadata": {
    "collapsed": false
   },
   "outputs": [],
   "source": [
    "t1[1]=0                  # illegal"
   ]
  },
  {
   "cell_type": "markdown",
   "metadata": {},
   "source": [
    "#### Tuples have no method"
   ]
  },
  {
   "cell_type": "code",
   "execution_count": null,
   "metadata": {
    "collapsed": false
   },
   "outputs": [],
   "source": [
    "t1.sort()\n",
    "t1.append(0.0)\n",
    "t1.remove(1.2)"
   ]
  },
  {
   "cell_type": "markdown",
   "metadata": {},
   "source": [
    "#### You can add two tuples to form a new tuple"
   ]
  },
  {
   "cell_type": "code",
   "execution_count": null,
   "metadata": {
    "collapsed": false
   },
   "outputs": [],
   "source": [
    "t2 = ('a', 'b')\n",
    "t3 = t1+t2\n",
    "print t3"
   ]
  },
  {
   "cell_type": "markdown",
   "metadata": {},
   "source": [
    "#### Accessing Values in Tuples"
   ]
  },
  {
   "cell_type": "code",
   "execution_count": null,
   "metadata": {
    "collapsed": false
   },
   "outputs": [],
   "source": [
    "print \"t3[0]:   \", t3[0]\n",
    "print \"t3[1:3]: \", t3[1:3]"
   ]
  },
  {
   "cell_type": "markdown",
   "metadata": {},
   "source": [
    "#### Operations on Tuples"
   ]
  },
  {
   "cell_type": "code",
   "execution_count": null,
   "metadata": {
    "collapsed": false
   },
   "outputs": [],
   "source": [
    "print len(t3)\n",
    "\n",
    "print \"c\" in t3\n",
    "\n",
    "for x in t3\n",
    "    print x\n"
   ]
  },
  {
   "cell_type": "markdown",
   "metadata": {},
   "source": [
    "### Problem 2"
   ]
  },
  {
   "cell_type": "markdown",
   "metadata": {},
   "source": [
    "Consider the tuple:"
   ]
  },
  {
   "cell_type": "code",
   "execution_count": null,
   "metadata": {
    "collapsed": false
   },
   "outputs": [],
   "source": [
    "julia = (\"Julia\", \"Roberts\", 1967, \"Duplicity\", 2009, \"Actress\", \"Atlanta, Georgia\")"
   ]
  },
  {
   "cell_type": "markdown",
   "metadata": {},
   "source": [
    "Use tuple operations to manipulate the above tuple to get a new tuple:"
   ]
  },
  {
   "cell_type": "code",
   "execution_count": null,
   "metadata": {
    "collapsed": false
   },
   "outputs": [],
   "source": [
    "(\"Julia\", \"Roberts\", 1967, \"Eat Pray Love\", 2010, \"Actress\", \"Atlanta, Georgia\")"
   ]
  },
  {
   "cell_type": "markdown",
   "metadata": {},
   "source": [
    "#### Solution 2"
   ]
  },
  {
   "cell_type": "code",
   "execution_count": null,
   "metadata": {
    "collapsed": false
   },
   "outputs": [],
   "source": [
    "julia = julia[:3] + (\"Eat Pray Love\", 2010) + julia[5:]\n",
    "print julia"
   ]
  },
  {
   "cell_type": "markdown",
   "metadata": {},
   "source": [
    "## <font color='red'>Dictionary</font>"
   ]
  },
  {
   "cell_type": "code",
   "execution_count": null,
   "metadata": {
    "collapsed": false
   },
   "outputs": [],
   "source": []
  },
  {
   "cell_type": "markdown",
   "metadata": {},
   "source": [
    "<UL>\n",
    "<LI> An array with with text indices \n",
    "         (keys, even user-defined objects can be indices!)\n",
    "<LI> Also called hash or associative array in other languages\n",
    "<LI> Can store 'anything'\n",
    "<LI> The text index is called key \n",
    "</UL>"
   ]
  },
  {
   "cell_type": "markdown",
   "metadata": {},
   "source": [
    "### Initializing a Dictionary"
   ]
  },
  {
   "cell_type": "code",
   "execution_count": null,
   "metadata": {
    "collapsed": false
   },
   "outputs": [],
   "source": [
    "d1 = {}    # empty dictionary"
   ]
  },
  {
   "cell_type": "code",
   "execution_count": null,
   "metadata": {
    "collapsed": false
   },
   "outputs": [],
   "source": [
    "value1 = 'Python BootCamp'\n",
    "value2 = 2016\n",
    "d2 = { 'key1' : value1, 'key2' : value2 }\n",
    "d2 = dict(key1=value1, key2=value2)"
   ]
  },
  {
   "cell_type": "code",
   "execution_count": null,
   "metadata": {
    "collapsed": false
   },
   "outputs": [],
   "source": [
    "d3['list']  = [1.2, 2.5]\n",
    "d3['tuple'] = 'a','b','c'\n",
    "d3['pi']    = 3.14159265359"
   ]
  },
  {
   "cell_type": "markdown",
   "metadata": {},
   "source": [
    "### Common Operations"
   ]
  },
  {
   "cell_type": "code",
   "execution_count": null,
   "metadata": {
    "collapsed": false
   },
   "outputs": [],
   "source": [
    "   d['mass']         # extract item corresp. to key 'mass’\n",
    "   d.keys()          # return copy of list of keys\n",
    "   d.get('mass',1.0) # return 1.0 if 'mass' is not a key\n",
    "   d.has_key('mass') # does d have a key 'mass'?\n",
    "   d.values()        # return a list of all values in the dictionary\n",
    "   d.items()         # return list of (key,value) tuples\n",
    "   d.copy()          # create a copy of the dictionary\n",
    "   d.clear()         # remove all key/value pair from the dictionary\n",
    "   del d['mass']     # delete an item\n",
    "   len(d)            # the number of items"
   ]
  },
  {
   "cell_type": "markdown",
   "metadata": {},
   "source": [
    "### Examples"
   ]
  },
  {
   "cell_type": "code",
   "execution_count": null,
   "metadata": {
    "collapsed": false
   },
   "outputs": [],
   "source": [
    "# create an empty dictionary using curly brackets \n",
    "record = {}\n",
    "record['first'] = 'Jmes'\n",
    "record['last'] = 'Maxwell'\n",
    "record['born'] = 1831\n",
    "print record"
   ]
  },
  {
   "cell_type": "code",
   "execution_count": null,
   "metadata": {
    "collapsed": false
   },
   "outputs": [],
   "source": [
    "# create another dictionary with initial entries\n",
    "new_record = {'first': 'James', 'middle':'Clerk'}"
   ]
  },
  {
   "cell_type": "code",
   "execution_count": null,
   "metadata": {
    "collapsed": false
   },
   "outputs": [],
   "source": [
    "# now update the first dictionary with values from the new one\n",
    "record.update(new_record)\n",
    "print record"
   ]
  },
  {
   "cell_type": "markdown",
   "metadata": {},
   "source": [
    "### Problem 3"
   ]
  },
  {
   "cell_type": "markdown",
   "metadata": {},
   "source": [
    "Consider the following dictionary"
   ]
  },
  {
   "cell_type": "code",
   "execution_count": null,
   "metadata": {
    "collapsed": false
   },
   "outputs": [],
   "source": [
    "ab = {'met_opt': '3',\n",
    "      'met_grid_type': 'A',\n",
    "      'do_timinterp_met': 'F',\n",
    "      'mrnum_in': '1',\n",
    "      'met_filnam_list': 'jan2004.list',\n",
    "      'do_read_met_list': 'T',\n",
    "      'do_cycle_met': 'F',\n",
    "      'gwet_opt': '1',\n",
    "      'mdt': '10800.0'\n",
    "     }"
   ]
  },
  {
   "cell_type": "markdown",
   "metadata": {},
   "source": [
    "<UL>\n",
    "<LI> Print the value associated with the key 'mdt'\n",
    "<LI> Print the length of the dictionary\n",
    "<LI> Add to the dictionary another key 'met_infile_num' with the corresponding value '16'\n",
    "<LI> Print the length of the dictionary\n",
    "<LI> Write a loop to only print all the keys\n",
    "<LI> Wrute a loop to only print all the values\n",
    "<LI> Write a loop to print on the same line each key and its correcponding value\n",
    "</UL>"
   ]
  },
  {
   "cell_type": "markdown",
   "metadata": {},
   "source": [
    "#### Solution 3"
   ]
  },
  {
   "cell_type": "code",
   "execution_count": null,
   "metadata": {
    "collapsed": false
   },
   "outputs": [],
   "source": [
    "print 'mdt = ', ab['mdt']\n",
    "\n",
    "print len(ab)\n",
    "\n",
    "ab['met_infile_num'] = '16'\n",
    "\n",
    "print len(ab)\n",
    "\n",
    "# Print the keys\n",
    "for key in ab:\n",
    "    print key\n",
    "\n",
    "for key in ab.iterkeys():\n",
    "    print key\n",
    "\n",
    "# Print the values\n",
    "for val in ab.itervalues():\n",
    "    print val\n",
    "\n",
    "# Print key & value\n",
    "for key, val in ab.items():\n",
    "    print key, val\n",
    "    \n",
    "for key in d:\n",
    "    print key, d[key]"
   ]
  }
 ],
 "metadata": {
  "anaconda-cloud": {},
  "kernelspec": {
   "display_name": "Python [Root]",
   "language": "python",
   "name": "Python [Root]"
  },
  "language_info": {
   "codemirror_mode": {
    "name": "ipython",
    "version": 2
   },
   "file_extension": ".py",
   "mimetype": "text/x-python",
   "name": "python",
   "nbconvert_exporter": "python",
   "pygments_lexer": "ipython2",
   "version": "2.7.12"
  }
 },
 "nbformat": 4,
 "nbformat_minor": 0
}
