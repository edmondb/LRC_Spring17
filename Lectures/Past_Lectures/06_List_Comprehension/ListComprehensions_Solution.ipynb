{
 "metadata": {
  "name": "",
  "signature": "sha256:370763a124a714cbf839f19ed08f48f9b1f21d00328c60d2bec3af033305326e"
 },
 "nbformat": 3,
 "nbformat_minor": 0,
 "worksheets": [
  {
   "cells": [
    {
     "cell_type": "markdown",
     "metadata": {},
     "source": [
      "<CENTER>\n",
      "<H1>\n",
      "<font color='blue'>NASA Langley Research Center </font> <BR>\n",
      "Fall 2016 Python Training <br>\n",
      "</H1>\n",
      "</CENTER>"
     ]
    },
    {
     "cell_type": "heading",
     "level": 1,
     "metadata": {},
     "source": [
      "List Comprehension and More"
     ]
    },
    {
     "cell_type": "heading",
     "level": 3,
     "metadata": {},
     "source": [
      "<u>Problem 1</u>"
     ]
    },
    {
     "cell_type": "code",
     "collapsed": false,
     "input": [
      "# We want to simulate a series of coin tosses where 0 is heads and 1 is tails.\n",
      "from random import random\n",
      "n = 10\n",
      "results = [] \n",
      "for x in range(n): \n",
      "    results.append(int(round(random())))"
     ],
     "language": "python",
     "metadata": {},
     "outputs": []
    },
    {
     "cell_type": "markdown",
     "metadata": {},
     "source": [
      "Use a list comprehension to make it more concise."
     ]
    },
    {
     "cell_type": "heading",
     "level": 5,
     "metadata": {},
     "source": [
      "Solution of Problem 1"
     ]
    },
    {
     "cell_type": "code",
     "collapsed": false,
     "input": [
      "results = [int(round(random())) for x in range(n)]"
     ],
     "language": "python",
     "metadata": {},
     "outputs": []
    },
    {
     "cell_type": "heading",
     "level": 3,
     "metadata": {},
     "source": [
      "<u>Problem 2</u>"
     ]
    },
    {
     "cell_type": "markdown",
     "metadata": {},
     "source": [
      "Use list comprehension to remove all the vowels from the sentence"
     ]
    },
    {
     "cell_type": "code",
     "collapsed": false,
     "input": [
      "sentence = \"The GFSC Python Bootcamp is a great opportunity to learn Python programming.\"\n",
      "vowels = 'aeiou' "
     ],
     "language": "python",
     "metadata": {},
     "outputs": []
    },
    {
     "cell_type": "heading",
     "level": 5,
     "metadata": {},
     "source": [
      "Solution of Problem 2"
     ]
    },
    {
     "cell_type": "code",
     "collapsed": false,
     "input": [
      "nonvowels = ''.join([l for l in sentence if not l in vowels])\n",
      "print nonvowels"
     ],
     "language": "python",
     "metadata": {},
     "outputs": []
    },
    {
     "cell_type": "heading",
     "level": 3,
     "metadata": {},
     "source": [
      "<u>Problem 3</u>"
     ]
    },
    {
     "cell_type": "code",
     "collapsed": false,
     "input": [
      "words = 'The quick brown fox jumps over the lazy dog'.split()\n",
      "print words\n",
      "stuff = []\n",
      "for w in words:\n",
      "    stuff.append([w.upper(), w.lower(), len(w)])\n",
      "\n",
      "for i in stuff:\n",
      "    print i"
     ],
     "language": "python",
     "metadata": {},
     "outputs": []
    },
    {
     "cell_type": "markdown",
     "metadata": {},
     "source": [
      "Use list comprehension and lambda/map function to define stuff."
     ]
    },
    {
     "cell_type": "heading",
     "level": 5,
     "metadata": {},
     "source": [
      "Solution of Problem 3"
     ]
    },
    {
     "cell_type": "code",
     "collapsed": false,
     "input": [
      "stuffList = [[w.upper(), w.lower(), len(w)] for w in words]\n",
      "stuffLambda = map(lambda w: [w.upper(), w.lower(), len(w)], words)"
     ],
     "language": "python",
     "metadata": {},
     "outputs": []
    },
    {
     "cell_type": "heading",
     "level": 3,
     "metadata": {},
     "source": [
      "<u>Problem 4</u>"
     ]
    },
    {
     "cell_type": "markdown",
     "metadata": {},
     "source": [
      "Use the filter function to remove all the vowels from the sentence"
     ]
    },
    {
     "cell_type": "code",
     "collapsed": false,
     "input": [
      "sentence = \"The LRC Python Training is a great opportunity to learn Python programming.\"\n",
      "vowels = 'aeiou' "
     ],
     "language": "python",
     "metadata": {},
     "outputs": [],
     "prompt_number": 1
    },
    {
     "cell_type": "heading",
     "level": 4,
     "metadata": {},
     "source": [
      "Solution of Problem 4"
     ]
    },
    {
     "cell_type": "code",
     "collapsed": false,
     "input": [
      "def isNotVowel(s):\n",
      "    return s not in vowels\n",
      "\n",
      "newSentence = filter(isNotVowel, sentence)\n",
      "print newSentence"
     ],
     "language": "python",
     "metadata": {},
     "outputs": []
    },
    {
     "cell_type": "heading",
     "level": 3,
     "metadata": {},
     "source": [
      "<u>Problem 5</u>"
     ]
    },
    {
     "cell_type": "markdown",
     "metadata": {},
     "source": [
      "Use the reduce function to find the produc of all the entries in the list\n",
      "[47,11,42,102,13]"
     ]
    },
    {
     "cell_type": "heading",
     "level": 4,
     "metadata": {},
     "source": [
      "Solution of Problem 5"
     ]
    },
    {
     "cell_type": "code",
     "collapsed": false,
     "input": [
      "A = reduce(lambda x,y: x*y, [47,11,42,102,13])"
     ],
     "language": "python",
     "metadata": {},
     "outputs": []
    }
   ],
   "metadata": {}
  }
 ]
}