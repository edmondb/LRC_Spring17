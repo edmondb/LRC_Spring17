{
 "cells": [
  {
   "cell_type": "markdown",
   "metadata": {
    "slideshow": {
     "slide_type": "slide"
    }
   },
   "source": [
    "![NASA](http://www.nasa.gov/sites/all/themes/custom/nasatwo/images/nasa-logo.svg)\n",
    "\n",
    "<center><h1><font size=\"+3\">Fall 2016 Python Training</font></h1></center>\n",
    "\n",
    "---\n",
    "\n",
    "<center>\n",
    "<h2>Conditionals and Loops</h2>\n",
    "<br>\n",
    "<h6>October 17, 2016</h6>\n",
    "</center>"
   ]
  },
  {
   "cell_type": "markdown",
   "metadata": {
    "slideshow": {
     "slide_type": "slide"
    }
   },
   "source": [
    "# Conditional Logic\n",
    "\n",
    "---\n",
    "\n",
    "Programs are interpreted in a top-down fashion line-by-line. For most basic programs, there is only one course of action."
   ]
  },
  {
   "cell_type": "markdown",
   "metadata": {
    "slideshow": {
     "slide_type": "fragment"
    }
   },
   "source": [
    "# Sample program progression\n",
    "\n",
    "Start.\n",
    "\n",
    "Step 1.  \n",
    "Step 2.  \n",
    "Step 3.  \n",
    "\n",
    "And so on."
   ]
  },
  {
   "cell_type": "markdown",
   "metadata": {
    "slideshow": {
     "slide_type": "subslide"
    }
   },
   "source": [
    "But we want more to write more complex programs.\n",
    "\n",
    "![traffic lights](http://imgs.xkcd.com/comics/traffic_lights.gif)\n",
    "Image Credit: [http://xkcd.com/1116](http://xkcd.com/1116)"
   ]
  },
  {
   "cell_type": "markdown",
   "metadata": {
    "slideshow": {
     "slide_type": "subslide"
    }
   },
   "source": [
    "# Booleans\n",
    "\n",
    "---\n",
    "\n",
    "Either `True` or `False` represent booleans. You can also use repsectively a 1 or 0 for binary booleans."
   ]
  },
  {
   "cell_type": "markdown",
   "metadata": {
    "slideshow": {
     "slide_type": "subslide"
    }
   },
   "source": [
    "# the `if` statement\n",
    "\n",
    "---\n",
    "\n",
    "```python\n",
    "if conditional:\n",
    "    # Python statements when condition evaluates to True\n",
    "    # Indented for context\n",
    "```"
   ]
  },
  {
   "cell_type": "code",
   "execution_count": null,
   "metadata": {
    "collapsed": true,
    "slideshow": {
     "slide_type": "fragment"
    }
   },
   "outputs": [],
   "source": [
    "if 5 > 2:\n",
    "    print('This if statement is True.')"
   ]
  },
  {
   "cell_type": "markdown",
   "metadata": {
    "slideshow": {
     "slide_type": "subslide"
    }
   },
   "source": [
    "# the `if`-`else` statement\n",
    "\n",
    "---\n",
    "\n",
    "```python\n",
    "if conditional:\n",
    "    # python code\n",
    "else:\n",
    "    # python code when conditional evaluates to False\n",
    "    # again, indented for context\n",
    "```"
   ]
  },
  {
   "cell_type": "markdown",
   "metadata": {
    "slideshow": {
     "slide_type": "fragment"
    }
   },
   "source": [
    "__Note:__ You cannot have an __`else`__ statement without an __`if`__ statement."
   ]
  },
  {
   "cell_type": "markdown",
   "metadata": {
    "slideshow": {
     "slide_type": "subslide"
    }
   },
   "source": [
    "# More Choices: the `elif` statement\n",
    "\n",
    "---\n",
    "\n",
    "```python\n",
    "if conditional:\n",
    "    # python code\n",
    "elif second:\n",
    "    # python code\n",
    "elif third:\n",
    "    # python code\n",
    "# and so on\n",
    "```"
   ]
  },
  {
   "cell_type": "markdown",
   "metadata": {
    "slideshow": {
     "slide_type": "fragment"
    }
   },
   "source": [
    "__Note:__ Notice that there is no __`else`__ statement above. It is not required, but the __`else`__ statement is availble to be used if all the above conditionasl evaluate to be False."
   ]
  },
  {
   "cell_type": "markdown",
   "metadata": {
    "slideshow": {
     "slide_type": "subslide"
    }
   },
   "source": [
    "# Question:\n",
    "\n",
    "What python code is run in the example below?"
   ]
  },
  {
   "cell_type": "code",
   "execution_count": null,
   "metadata": {
    "collapsed": true,
    "slideshow": {
     "slide_type": "fragment"
    }
   },
   "outputs": [],
   "source": [
    "a = 5\n",
    "if a > 10:\n",
    "    print('I am greater than 10.')\n",
    "elif a == 2:\n",
    "    print('My value is equal to 2.')\n",
    "elif not True:\n",
    "    print('I do not care about value, all I know is that I am not True.')"
   ]
  },
  {
   "cell_type": "markdown",
   "metadata": {
    "slideshow": {
     "slide_type": "subslide"
    }
   },
   "source": [
    "# Conditional Testing\n",
    "\n",
    "---"
   ]
  },
  {
   "cell_type": "markdown",
   "metadata": {
    "slideshow": {
     "slide_type": "fragment"
    }
   },
   "source": [
    "There are various ways to insert booleans:\n",
    "\n",
    "- True/False\n",
    "- Variables (i.e. the value of variable)\n",
    "- Numbers (1 and greater is True; 0 is False)\n",
    "- Empty objects (you will learn more about these later; [], {}, None, '')\n",
    "- Comparisons between things:\n",
    "    - 1 > 2\n",
    "    - 1 == 2\n",
    "    - 1 >= 2\n",
    "    - 1 != 2\n",
    "    - 1 is 2 (be careful! this looks at the memory id of the object)\n",
    "    - 1 is not 2\n",
    "    - 1 in 2 (works only in lists, strings, and other iterable objects)\n",
    "- Evaluated values (1 + 2)"
   ]
  },
  {
   "cell_type": "markdown",
   "metadata": {
    "slideshow": {
     "slide_type": "fragment"
    }
   },
   "source": [
    "__Note:__ When all of the conditionals are evaluated as False and there is no __`else`__ statement, nothing happens.  \n",
    "__Note:__ [Operator Precedence](http://docs.python.org/2.7/reference/expressions.html#operator-precedence)"
   ]
  },
  {
   "cell_type": "markdown",
   "metadata": {
    "slideshow": {
     "slide_type": "subslide"
    }
   },
   "source": [
    "## Breakout\n",
    "\n",
    "---\n",
    "\n",
    "We're going to create a simple traffic light with three options: Red, Yellow, and Green. Create three variables to store which lights are on. These variables will hold only True/False values, or you can get creative with the conditions you put in them.\n",
    "\n",
    "After setting the three variables, write one conditional per light to test the values of these and print out the street light as such:\n",
    "\n",
    "__Red: Off  \n",
    "Yellow: Off  \n",
    "Green: On__\n",
    "\n",
    "Don't worry about formatting either. As long as you can tell which ones are off/on, that's sufficient.\n",
    "\n",
    "It's a simple interface, but you can easily get more creative with this application.\n",
    "\n",
    "For instance, what if you named the variables top, middle, and bottom and still want to print out the color names, as before?"
   ]
  },
  {
   "cell_type": "markdown",
   "metadata": {
    "slideshow": {
     "slide_type": "subslide"
    }
   },
   "source": [
    "# Combining Conditionals\n",
    "\n",
    "---\n",
    "\n",
    "Use boolean logic combinations: __`and`__, __`or`__, __`not`__"
   ]
  },
  {
   "cell_type": "code",
   "execution_count": null,
   "metadata": {
    "collapsed": true,
    "slideshow": {
     "slide_type": "fragment"
    }
   },
   "outputs": [],
   "source": [
    "if (1 != 2) or False:\n",
    "    print('Combined logic is fun!')"
   ]
  },
  {
   "cell_type": "markdown",
   "metadata": {
    "slideshow": {
     "slide_type": "slide"
    }
   },
   "source": [
    "# Iterative Programming / Loops\n",
    "\n",
    "---"
   ]
  },
  {
   "cell_type": "markdown",
   "metadata": {
    "slideshow": {
     "slide_type": "fragment"
    }
   },
   "source": [
    "![Point to the board.](http://www.thedoghousediaries.com/dhdcomics/2011-03-28-e1660dc.png)\n",
    "Image Credit: [Source](http://www.thedoghousediaries.com/dhdcomics/2011-03-28-e1660dc.png)"
   ]
  },
  {
   "cell_type": "markdown",
   "metadata": {
    "slideshow": {
     "slide_type": "subslide"
    }
   },
   "source": [
    "# Purpose\n",
    "\n",
    "---\n",
    "\n",
    "To reuse code and make our lives much, much, easier."
   ]
  },
  {
   "cell_type": "markdown",
   "metadata": {
    "slideshow": {
     "slide_type": "fragment"
    }
   },
   "source": [
    "__For example:__\n",
    "\n",
    "To add 1, 5 times is `1 + 1 + 1 + 1 + 1 = 5`.  \n",
    "In loops, however, we just have this logic:\n",
    "\n",
    "```python\n",
    "x = 1\n",
    "x = x + 1 # (do this 4 times)```"
   ]
  },
  {
   "cell_type": "markdown",
   "metadata": {
    "slideshow": {
     "slide_type": "subslide"
    }
   },
   "source": [
    "# the `for` loop\n",
    "\n",
    "---\n",
    "\n",
    "```python\n",
    "for item in iterable:\n",
    "    # Python code\n",
    "```\n",
    "\n",
    "The `for` loop processes until the last element of iterable has been used."
   ]
  },
  {
   "cell_type": "code",
   "execution_count": null,
   "metadata": {
    "collapsed": true,
    "slideshow": {
     "slide_type": "subslide"
    }
   },
   "outputs": [],
   "source": [
    "total = 0\n",
    "\n",
    "for number in range(5):\n",
    "    # number = 0, 1, 2, 3, 4\n",
    "    total = total + 1\n",
    "\n",
    "print(total)"
   ]
  },
  {
   "cell_type": "code",
   "execution_count": null,
   "metadata": {
    "collapsed": true,
    "slideshow": {
     "slide_type": "fragment"
    }
   },
   "outputs": [],
   "source": [
    "students = ['Bob', 'Sue', 'Joe', 'Betty']\n",
    "\n",
    "for student in students:\n",
    "    # student is a temporary variable pointing to the current item\n",
    "    print(student)"
   ]
  },
  {
   "cell_type": "markdown",
   "metadata": {
    "slideshow": {
     "slide_type": "subslide"
    }
   },
   "source": [
    "# Specifying a change of direction\n",
    "\n",
    "---\n",
    "\n",
    "Use the keywords __`continue`__, __`break`__, or __`pass`__ to change the behavior of conditionals and loops."
   ]
  },
  {
   "cell_type": "code",
   "execution_count": null,
   "metadata": {
    "collapsed": true,
    "slideshow": {
     "slide_type": "fragment"
    }
   },
   "outputs": [],
   "source": [
    "total = 0\n",
    "\n",
    "for number in range(10):\n",
    "    if total == 5:\n",
    "        break\n",
    "    total = total + 1\n",
    "\n",
    "print(total)"
   ]
  },
  {
   "cell_type": "markdown",
   "metadata": {
    "slideshow": {
     "slide_type": "subslide"
    }
   },
   "source": [
    "# Breakout\n",
    "\n",
    "Print all the numbers from the output of `range(50)` backwards starting with 49 down to 7."
   ]
  },
  {
   "cell_type": "markdown",
   "metadata": {
    "slideshow": {
     "slide_type": "subslide"
    }
   },
   "source": [
    "# the `while` loop\n",
    "\n",
    "---\n",
    "\n",
    "```python\n",
    "while condition:\n",
    "    # Python code\n",
    "```\n",
    "\n",
    "The `while` loop continues to process indefinitely until `condition` evaluates to False."
   ]
  },
  {
   "cell_type": "code",
   "execution_count": null,
   "metadata": {
    "collapsed": true,
    "slideshow": {
     "slide_type": "subslide"
    }
   },
   "outputs": [],
   "source": [
    "i = 50\n",
    "\n",
    "while i >= 7:\n",
    "    print(i)"
   ]
  },
  {
   "cell_type": "markdown",
   "metadata": {
    "slideshow": {
     "slide_type": "subslide"
    }
   },
   "source": [
    "# Warning!\n",
    "Think about your code before you run it. Without close inspection, you can create an infinite loop in your program.\n",
    "\n",
    "---"
   ]
  },
  {
   "cell_type": "code",
   "execution_count": null,
   "metadata": {
    "collapsed": true,
    "slideshow": {
     "slide_type": "fragment"
    }
   },
   "outputs": [],
   "source": [
    "# endless loop example (You have been warned!)\n",
    "# while True:\n",
    "#     Python code\n",
    "#\n",
    "#     can use these statements to change control here too\n",
    "#     continue\n",
    "#     or pass\n",
    "#     or break"
   ]
  },
  {
   "cell_type": "markdown",
   "metadata": {
    "slideshow": {
     "slide_type": "subslide"
    }
   },
   "source": [
    "# Breakout\n",
    "\n",
    "You can get user input as a string with the `raw_input` function:\n",
    "\n",
    "```python\n",
    "number_of_eggs = raw_input('How many eggs are in a dozen?')\n",
    "```\n",
    "\n",
    "Use this function with a for loop to prompt a user for their first and last names separately.  \n",
    "You will need to also test that the user does not enter just a space `' '` by re-prompting them when they only enter a space.\n",
    "\n",
    "__Note:__ Python 3.x users will have to use the `input()` function."
   ]
  },
  {
   "cell_type": "markdown",
   "metadata": {
    "slideshow": {
     "slide_type": "subslide"
    }
   },
   "source": [
    "# Nested Loops\n",
    "\n",
    "---\n",
    "\n",
    "As your programs become more and more complex, you will need to iterate over multiple items at once, such as subitems of an iterable's item. We can do this with nested loops.\n",
    "\n",
    "One example of this is 2D data (or a matrix). We can loop over the matrix by the columns then rows, or vice versa."
   ]
  },
  {
   "cell_type": "markdown",
   "metadata": {
    "slideshow": {
     "slide_type": "subslide"
    }
   },
   "source": [
    "# Breakout\n",
    "\n",
    "---\n",
    "\n",
    "Use either a `for` loop or a `while` loop or a nested loop to print out only the non-zero elements of this two-dimensional list:\n",
    "\n",
    "```python\n",
    "a = [\n",
    "    [0,0,0,0,1],\n",
    "    [0,0,0,2,0],\n",
    "    [0,0,3,0,0],\n",
    "    [0,4,0,0,0],\n",
    "    [5,0,0,0,0]\n",
    "]```"
   ]
  }
 ],
 "metadata": {
  "anaconda-cloud": {},
  "celltoolbar": "Slideshow",
  "kernelspec": {
   "display_name": "Python [conda root]",
   "language": "python",
   "name": "conda-root-py"
  },
  "language_info": {
   "codemirror_mode": {
    "name": "ipython",
    "version": 2
   },
   "file_extension": ".py",
   "mimetype": "text/x-python",
   "name": "python",
   "nbconvert_exporter": "python",
   "pygments_lexer": "ipython2",
   "version": "2.7.12"
  }
 },
 "nbformat": 4,
 "nbformat_minor": 0
}
