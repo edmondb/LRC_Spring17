{
 "cells": [
  {
   "cell_type": "markdown",
   "metadata": {},
   "source": [
    "## Breakout\n",
    "\n",
    "---\n",
    "\n",
    "We're going to create a simple traffic light with three options: Red, Yellow, and Green. Create three variables to store which lights are on. These variables will hold only True/False values, or you can get creative with the conditions you put in them.\n",
    "\n",
    "After setting the three variables, write one conditional per light to test the values of these and print out the street light as such:\n",
    "\n",
    "__Red: Off  \n",
    "Yellow: Off  \n",
    "Green: On__\n",
    "\n",
    "Don't worry about formatting either. As long as you can tell which ones are off/on, that's sufficient.\n",
    "\n",
    "It's a simple interface, but you can easily get more creative with this application.\n",
    "\n",
    "For instance, what if you named the variables top, middle, and bottom and still want to print out the color names, as before?"
   ]
  },
  {
   "cell_type": "code",
   "execution_count": 1,
   "metadata": {
    "collapsed": false
   },
   "outputs": [
    {
     "name": "stdout",
     "output_type": "stream",
     "text": [
      "Red: Off\n",
      "Yellow: Off\n",
      "Green: On\n"
     ]
    }
   ],
   "source": [
    "top = False\n",
    "middle = False\n",
    "bottom = True\n",
    "\n",
    "if top:\n",
    "    print('Red: On')\n",
    "else:\n",
    "    print('Red: Off')\n",
    "\n",
    "if middle:\n",
    "    print('Yellow: On')\n",
    "else:\n",
    "    print('Yellow: Off')\n",
    "\n",
    "if bottom:\n",
    "    print('Green: On')\n",
    "else:\n",
    "    print('Green: Off')"
   ]
  },
  {
   "cell_type": "markdown",
   "metadata": {},
   "source": [
    "# Breakout\n",
    "\n",
    "Print all the numbers from the output of `range(50)` backwards starting with 49 down to 7."
   ]
  },
  {
   "cell_type": "code",
   "execution_count": 2,
   "metadata": {
    "collapsed": false
   },
   "outputs": [
    {
     "name": "stdout",
     "output_type": "stream",
     "text": [
      "49\n",
      "48\n",
      "47\n",
      "46\n",
      "45\n",
      "44\n",
      "43\n",
      "42\n",
      "41\n",
      "40\n",
      "39\n",
      "38\n",
      "37\n",
      "36\n",
      "35\n",
      "34\n",
      "33\n",
      "32\n",
      "31\n",
      "30\n",
      "29\n",
      "28\n",
      "27\n",
      "26\n",
      "25\n",
      "24\n",
      "23\n",
      "22\n",
      "21\n",
      "20\n",
      "19\n",
      "18\n",
      "17\n",
      "16\n",
      "15\n",
      "14\n",
      "13\n",
      "12\n",
      "11\n",
      "10\n",
      "9\n",
      "8\n",
      "7\n"
     ]
    }
   ],
   "source": [
    "for i in range(50):\n",
    "    if i <= 42:\n",
    "        print(49-i)"
   ]
  },
  {
   "cell_type": "markdown",
   "metadata": {},
   "source": [
    "# Breakout\n",
    "\n",
    "You can get user input as a string with the `raw_input` function:\n",
    "\n",
    "```python\n",
    "number_of_eggs = raw_input('How many eggs are in a dozen?')\n",
    "```\n",
    "\n",
    "Use this function with a for loop to prompt a user for their first and last names separately.  \n",
    "You will need to also test that the user does not enter just a space `' '` by re-prompting them when they only enter a space.\n",
    "\n",
    "__Note:__ Python 3.x users will have to use the `input()` function."
   ]
  },
  {
   "cell_type": "code",
   "execution_count": 3,
   "metadata": {
    "collapsed": false
   },
   "outputs": [
    {
     "name": "stdout",
     "output_type": "stream",
     "text": [
      "What is your first name? \n",
      "What is your first name?Brent\n",
      "What is your last name? \n",
      "What is your last name?Smith\n",
      "Brent Smith\n"
     ]
    }
   ],
   "source": [
    "fname = raw_input('What is your first name?')\n",
    "while fname == ' ':\n",
    "    fname = raw_input('What is your first name?')\n",
    "    \n",
    "lname = raw_input('What is your last name?')\n",
    "while lname == ' ':\n",
    "    lname = raw_input('What is your last name?')\n",
    "\n",
    "print(fname + ' ' + lname)"
   ]
  },
  {
   "cell_type": "markdown",
   "metadata": {},
   "source": [
    "# Breakout\n",
    "\n",
    "---\n",
    "\n",
    "Use either a `for` loop or a `while` loop or a nested loop to print out only the non-zero elements of this two-dimensional list:\n",
    "\n",
    "```python\n",
    "a = [\n",
    "    [0,0,0,0,1],\n",
    "    [0,0,0,2,0],\n",
    "    [0,0,3,0,0],\n",
    "    [0,4,0,0,0],\n",
    "    [5,0,0,0,0]\n",
    "]```"
   ]
  },
  {
   "cell_type": "code",
   "execution_count": 4,
   "metadata": {
    "collapsed": false
   },
   "outputs": [
    {
     "name": "stdout",
     "output_type": "stream",
     "text": [
      "1\n",
      "2\n",
      "3\n",
      "4\n",
      "5\n"
     ]
    }
   ],
   "source": [
    "a = [\n",
    "    [0,0,0,0,1],\n",
    "    [0,0,0,2,0],\n",
    "    [0,0,3,0,0],\n",
    "    [0,4,0,0,0],\n",
    "    [5,0,0,0,0]\n",
    "]\n",
    "\n",
    "for row in a:\n",
    "    for column in a[a.index(row)]:\n",
    "        if column != 0:\n",
    "            print column"
   ]
  }
 ],
 "metadata": {
  "kernelspec": {
   "display_name": "Python 2",
   "language": "python",
   "name": "python2"
  },
  "language_info": {
   "codemirror_mode": {
    "name": "ipython",
    "version": 2
   },
   "file_extension": ".py",
   "mimetype": "text/x-python",
   "name": "python",
   "nbconvert_exporter": "python",
   "pygments_lexer": "ipython2",
   "version": "2.7.11"
  }
 },
 "nbformat": 4,
 "nbformat_minor": 0
}
