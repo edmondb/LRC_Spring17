{
 "cells": [
  {
   "cell_type": "markdown",
   "metadata": {},
   "source": [
    "# Interacting with Excel"
   ]
  },
  {
   "cell_type": "markdown",
   "metadata": {},
   "source": [
    "## <font color='red'>What will be Covered?</font>"
   ]
  },
  {
   "cell_type": "markdown",
   "metadata": {},
   "source": [
    "<OL>\n",
    "<LI> Opening an Excel file using xlrd\n",
    "<LI> Getting the sheet information (number of sheets, sheet names, etc.)\n",
    "<LI> Accessing data of a given sheet\n",
    "<LI> Creating an Excel file using xlwt\n",
    "<LI> Other alternatives\n",
    "</OL>"
   ]
  },
  {
   "cell_type": "markdown",
   "metadata": {},
   "source": [
    "### Opening Excel workbooks"
   ]
  },
  {
   "cell_type": "code",
   "execution_count": null,
   "metadata": {
    "collapsed": true
   },
   "outputs": [],
   "source": [
    "import xlrd   # xlrd package for reading excel workbooks"
   ]
  },
  {
   "cell_type": "code",
   "execution_count": null,
   "metadata": {
    "collapsed": false
   },
   "outputs": [],
   "source": [
    "# Open a workbook\n",
    "wb = xlrd.open_workbook('SampleData.xlsx')\n",
    "\n",
    "# open_workbook returns a workbook object that can be used to retrive all the data, metadata and\n",
    "# individual sheets within the workbook."
   ]
  },
  {
   "cell_type": "markdown",
   "metadata": {},
   "source": [
    "### Get Sheet Information"
   ]
  },
  {
   "cell_type": "code",
   "execution_count": null,
   "metadata": {
    "collapsed": false
   },
   "outputs": [],
   "source": [
    "# print number of sheets\n",
    "num_sheets = wb.nsheets\n",
    "print \"There are %d sheets\" %(num_sheets)\n",
    "# print sheet names\n",
    "names_sheets = wb.sheet_names()\n",
    "print \"List of sheets: \", names_sheets"
   ]
  },
  {
   "cell_type": "markdown",
   "metadata": {},
   "source": [
    "#### Print the number of rows and columns of each sheet"
   ]
  },
  {
   "cell_type": "code",
   "execution_count": null,
   "metadata": {
    "collapsed": false
   },
   "outputs": [],
   "source": [
    "for i in range(num_sheets):\n",
    "    my_sheet = wb.sheet_by_index(i)\n",
    "    sheet_name = wb.sheet_names()[i]\n",
    "    print \"The sheet %s has %d rows and %d columns\" %(sheet_name, my_sheet.nrows, my_sheet.ncols)"
   ]
  },
  {
   "cell_type": "markdown",
   "metadata": {},
   "source": [
    "### Accessing Data from a Sheet"
   ]
  },
  {
   "cell_type": "markdown",
   "metadata": {},
   "source": [
    "#### Obtain the first Sheet"
   ]
  },
  {
   "cell_type": "code",
   "execution_count": null,
   "metadata": {
    "collapsed": false
   },
   "outputs": [],
   "source": [
    "data_sheet = wb.sheet_by_index(1) # note index is \"1\""
   ]
  },
  {
   "cell_type": "markdown",
   "metadata": {},
   "source": [
    "#### Print the first row of the sheet"
   ]
  },
  {
   "cell_type": "code",
   "execution_count": null,
   "metadata": {
    "collapsed": false
   },
   "outputs": [],
   "source": [
    "print data_sheet.row_values(0) # 1st row -> note index is \"0\"\n",
    "\n",
    "# Or\n",
    "row = data_sheet.row(0)\n",
    "# Pull the first row by index\n",
    "#  (rows/columns are also zero-indexed)\n",
    "#\n",
    "from xlrd.sheet import ctype_text   \n",
    "print('(Column #) type:value')\n",
    "for idx, cell_obj in enumerate(row):\n",
    "    cell_type_str = ctype_text.get(cell_obj.ctype, 'unknown type')\n",
    "    print('(%s) %s %s' % (idx, cell_type_str, cell_obj.value))"
   ]
  },
  {
   "cell_type": "markdown",
   "metadata": {},
   "source": [
    "#### Sheets have cells"
   ]
  },
  {
   "cell_type": "code",
   "execution_count": null,
   "metadata": {
    "collapsed": false
   },
   "outputs": [],
   "source": [
    "cell = data_sheet.cell(1,4)\n",
    "print cell"
   ]
  },
  {
   "cell_type": "markdown",
   "metadata": {},
   "source": [
    "#### Cells have attributes"
   ]
  },
  {
   "cell_type": "code",
   "execution_count": null,
   "metadata": {
    "collapsed": false
   },
   "outputs": [],
   "source": [
    "print cell.value\n",
    "print cell.ctype # text, number, \"dates\", boolean, error codes, empty\n",
    "for i in range(data_sheet.ncols):\n",
    "    print data_sheet.cell_type(1,i),data_sheet.cell_value(1,i)"
   ]
  },
  {
   "cell_type": "markdown",
   "metadata": {},
   "source": [
    "#### Get the a slice of cells"
   ]
  },
  {
   "cell_type": "code",
   "execution_count": null,
   "metadata": {
    "collapsed": false
   },
   "outputs": [],
   "source": [
    "# read a row slice\n",
    "print data_sheet.row_slice(rowx=25)\n",
    "# Specify column range\n",
    "print data_sheet.row_slice(rowx=25, start_colx=1, end_colx=-1)"
   ]
  },
  {
   "cell_type": "markdown",
   "metadata": {},
   "source": [
    "#### Get all the data of a sheet"
   ]
  },
  {
   "cell_type": "code",
   "execution_count": null,
   "metadata": {
    "collapsed": false
   },
   "outputs": [],
   "source": [
    "table = [[data_sheet.cell_value(r, col) \n",
    "                for col in range(data_sheet.ncols)] \n",
    "                    for r in range(data_sheet.nrows)]\n",
    "print table"
   ]
  },
  {
   "cell_type": "markdown",
   "metadata": {},
   "source": [
    "#### Pretty print"
   ]
  },
  {
   "cell_type": "code",
   "execution_count": null,
   "metadata": {
    "collapsed": false
   },
   "outputs": [],
   "source": [
    "# Print all values, iterating through rows and columns\n",
    "#\n",
    "num_cols = data_sheet.ncols   # Number of columns\n",
    "for row_idx in range(0, data_sheet.nrows):    # Iterate through rows\n",
    "    print ('-'*40)\n",
    "    print ('Row: %s' % row_idx)   # Print row number\n",
    "    for col_idx in range(0, num_cols):  # Iterate through columns\n",
    "        cell_obj = data_sheet.cell(row_idx, col_idx)  # Get cell object by row, col\n",
    "        print ('Column: [%s] cell_obj: [%s]' % (col_idx, cell_obj))"
   ]
  },
  {
   "cell_type": "markdown",
   "metadata": {},
   "source": [
    "#### Example: read Excel workbook and save data as CSV"
   ]
  },
  {
   "cell_type": "code",
   "execution_count": null,
   "metadata": {
    "collapsed": true
   },
   "outputs": [],
   "source": [
    "import csv\n",
    "import xlrd\n",
    "\n",
    "workbook = xlrd.open_workbook('SampleData.xlsx')\n",
    "sheet = xl_book.sheet_by_index(1)\n",
    "with open('{}.csv'.format(sheet.name), 'wb') as f:\n",
    "    writer = csv.writer(f)\n",
    "    writer.writerows(sheet.row_values(row) for row in range(sheet.nrows))"
   ]
  },
  {
   "cell_type": "markdown",
   "metadata": {},
   "source": [
    "#### Writing Excel files"
   ]
  },
  {
   "cell_type": "code",
   "execution_count": null,
   "metadata": {
    "collapsed": true
   },
   "outputs": [],
   "source": [
    "import xlwt   # xlwt package for writing excel workbooks"
   ]
  },
  {
   "cell_type": "markdown",
   "metadata": {},
   "source": [
    "#### Simple example"
   ]
  },
  {
   "cell_type": "code",
   "execution_count": null,
   "metadata": {
    "collapsed": true
   },
   "outputs": [],
   "source": [
    "book = xlwt.Workbook()\n",
    "\n",
    "sheet1 = book.add_sheet('Sheet 1')\n",
    "book.add_sheet('Sheet 2')\n",
    "\n",
    "sheet1.write(0,0,'A1')\n",
    "sheet1.write(0,1,'B1')\n",
    "row1 = sheet1.row(1)\n",
    "row1.write(0,'A2')\n",
    "row1.write(1,'B2')\n",
    "sheet1.col(0).width = 10000\n",
    "\n",
    "sheet2 = book.get_sheet(1)\n",
    "sheet2.row(0).write(0,'Sheet 2 A1')\n",
    "sheet2.row(0).write(1,'Sheet 2 B1')\n",
    "sheet2.flush_row_data()\n",
    "sheet2.write(1,0,'Sheet 2 A3')\n",
    "sheet2.col(0).width = 5000\n",
    "sheet2.col(0).hidden = True\n",
    "\n",
    "book.save('simple.xls')"
   ]
  },
  {
   "cell_type": "markdown",
   "metadata": {},
   "source": [
    "#### Example: copy a specified sheet from an existing Excel file into a new Excel file"
   ]
  },
  {
   "cell_type": "code",
   "execution_count": null,
   "metadata": {
    "collapsed": false
   },
   "outputs": [],
   "source": [
    "import xlrd\n",
    "import xlwt\n",
    "from xlrd.sheet import ctype_text   \n",
    "\n",
    "inbook = xlrd.open_workbook('SampleData.xlsx')\n",
    "insheet = inbook.sheet_by_index(1)  # We want to write the SalesOrders sheet - index is \"1\"\n",
    "\n",
    "outbook = xlwt.Workbook()\n",
    "outsheet = outbook.add_sheet('SalesOrders')\n",
    "\n",
    "for row_idx in range(insheet.nrows):\n",
    "    outrow = outsheet.row(row_idx)\n",
    "    for col_idx in range(insheet.ncols):\n",
    "        cell_obj = insheet.cell(row_idx, col_idx)\n",
    "        outrow.write(col_idx, cell_obj.value)\n",
    "        \n",
    "outbook.save('SalesOrders.xls')"
   ]
  },
  {
   "cell_type": "markdown",
   "metadata": {},
   "source": [
    "## <font color='red'>References</font>"
   ]
  },
  {
   "cell_type": "markdown",
   "metadata": {},
   "source": [
    "<OL>\n",
    "<LI> <A HREF=\"http://www.blog.pythonlibrary.org/2014/04/30/reading-excel-spreadsheets-with-python-and-xlrd/\">Reading Excel Spreadsheets with Python and xlrd</A>\n",
    "<LI> <A HREF=\"http://www.blog.pythonlibrary.org/2014/03/24/creating-microsoft-excel-spreadsheets-with-python-and-xlwt/\">Creating Excel Spreadsheets with Python and xlwt</A>\n",
    "<LI> <A HREF=\"http://stackoverflow.com/questions/23568409/xlrd-python-reading-excel-file-into-dict-with-for-loops\">XLRD/Python: Reading Excel file into dict with for-loops</A>\n",
    "</OL>"
   ]
  },
  {
   "cell_type": "markdown",
   "metadata": {},
   "source": [
    "## <font color='red'>References: xlrd Video Presentation for MS Windows users</font>"
   ]
  },
  {
   "cell_type": "code",
   "execution_count": null,
   "metadata": {
    "collapsed": false
   },
   "outputs": [],
   "source": [
    "from IPython.display import YouTubeVideo\n",
    "YouTubeVideo('p0DNcTnreuY')"
   ]
  },
  {
   "cell_type": "markdown",
   "metadata": {},
   "source": [
    "## <font color='red'>Alternatives to xlrd, xlwt</font>"
   ]
  },
  {
   "cell_type": "markdown",
   "metadata": {},
   "source": [
    "<UL>\n",
    "<LI> <font color='red'>Pandas</font>: is a Python library that provides several data analysis tools, it also provides routines to read and write excel files.\n",
    "<LI> <font color='red'>OpenPyXL</font>: yet another Python library that allows a more flexible manipulation of excel files. \n",
    "</UL>"
   ]
  },
  {
   "cell_type": "markdown",
   "metadata": {},
   "source": [
    "### Pandas"
   ]
  },
  {
   "cell_type": "code",
   "execution_count": null,
   "metadata": {
    "collapsed": false
   },
   "outputs": [],
   "source": [
    "import pandas as pd\n",
    "table = pd.read_excel('SampleData.xlsx',sheetname = 'GlobalMeans',\n",
    "                      header = 0,\n",
    "                      index_col = 0,\n",
    "                      parse_cols = \"A, C, G\",\n",
    "                      convert_float = True)\n",
    " \n",
    "print(table)"
   ]
  },
  {
   "cell_type": "markdown",
   "metadata": {},
   "source": [
    "#### Writing data to an Excel file using Pandas"
   ]
  },
  {
   "cell_type": "code",
   "execution_count": null,
   "metadata": {
    "collapsed": true
   },
   "outputs": [],
   "source": [
    "# Saving Data to Excel File\n",
    "\n",
    "data = {'names':['John Doe', 'Jane Doe', 'Ferris Bueller'],\n",
    "       'scores': [85, 90, 60]}\n",
    "table = pd.DataFrame(data)\n",
    " \n",
    "writer = pd.ExcelWriter('Scores.xlsx')\n",
    "table.to_excel(writer, 'Scores')\n",
    "writer.save()"
   ]
  },
  {
   "cell_type": "markdown",
   "metadata": {},
   "source": [
    "#### Simple application to inspect contents of an Excel file"
   ]
  },
  {
   "cell_type": "code",
   "execution_count": null,
   "metadata": {
    "collapsed": false
   },
   "outputs": [],
   "source": [
    "from os.path import join, dirname, abspath, isfile\n",
    "from collections import Counter\n",
    "import xlrd   # Reading\n",
    "from xlrd.sheet import ctype_text   \n",
    "\n",
    "def get_excel_sheet_object_orig(fname, idx=0):\n",
    "    if not isfile(fname):\n",
    "        print ('File does not exist: ', fname)\n",
    "\n",
    "    # Open the workbook and 1st sheet\n",
    "    xl_workbook = xlrd.open_workbook(fname)\n",
    "    xl_sheet = xl_workbook.sheet_by_index(idx)\n",
    "    print (40 * '-' + 'nRetrieved worksheet: %s' % xl_sheet.name)\n",
    "\n",
    "    return xl_sheet\n",
    "\n",
    "def show_column_names(xl_sheet):\n",
    "    row = xl_sheet.row(0)  # 1st row\n",
    "    print(60*'-' + 'n(Column #) value [type]n' + 60*'-')\n",
    "    for idx, cell_obj in enumerate(row):\n",
    "        cell_type_str = ctype_text.get(cell_obj.ctype, 'unknown type')\n",
    "        print('(%s) %s [%s]' % (idx, cell_obj.value, cell_type_str, ))\n",
    "\n",
    "def get_column_stats(xl_sheet, col_idx):\n",
    "    \"\"\"\n",
    "    :param xl_sheet:  Sheet object from Excel Workbook, extracted using xlrd\n",
    "    :param col_idx: zero-indexed int indicating a column in the Excel workbook\n",
    "    \"\"\"\n",
    "    if xl_sheet is None:\n",
    "        print ('xl_sheet is None')\n",
    "        return\n",
    "\n",
    "    if not col_idx.isdigit():\n",
    "        print ('Please enter a valid column number (0-%d)' % (xl_sheet.ncols-1))\n",
    "        return\n",
    "\n",
    "    col_idx = int(col_idx)\n",
    "    if col_idx < 0 or col_idx >= xl_sheet.ncols:\n",
    "        print ('Please enter a valid column number (0-%d)' % (xl_sheet.ncols-1))\n",
    "        return \n",
    "\n",
    "    # Iterate through rows, and print out the column values\n",
    "    row_vals = []\n",
    "    for row_idx in range(0, xl_sheet.nrows):\n",
    "        cell_obj = xl_sheet.cell(row_idx, col_idx)\n",
    "        cell_type_str = ctype_text.get(cell_obj.ctype, 'unknown type')\n",
    "        print ('(row %s) %s (type:%s)' % (row_idx, cell_obj.value, cell_type_str))\n",
    "        row_vals.append(cell_obj.value)\n",
    "\n",
    "    # Retrieve non-empty rows\n",
    "    nonempty_row_vals = [x for x in row_vals if x]    \n",
    "    num_rows_missing_vals = xl_sheet.nrows - len(nonempty_row_vals)\n",
    "    print ('Vals: %d; Rows Missing Vals: %d' % (len(nonempty_row_vals), num_rows_missing_vals))\n",
    "\n",
    "    # Count occurrences of values \n",
    "    counts = Counter(nonempty_row_vals)\n",
    "\n",
    "    # Display value counts\n",
    "    print ('-'*40 + 'n', 'Top Twenty Values', 'n' + '-'*40 )\n",
    "    print ('Value [count]')\n",
    "    for val, cnt in counts.most_common(20):\n",
    "        print ('%s [%s]' % (val, cnt))\n",
    "\n",
    "def column_picker(xl_sheet):\n",
    "    try:\n",
    "        input = raw_input\n",
    "    except NameError:\n",
    "        pass\n",
    "\n",
    "    while True:\n",
    "        show_column_names(xl_sheet)\n",
    "        col_idx = input(\"nPlease enter a column number between 0 and %d (or 'x' to Exit): \" % (xl_sheet.ncols-1))\n",
    "        if col_idx == 'x': \n",
    "            break\n",
    "        get_column_stats(xl_sheet, col_idx)\n",
    "\n",
    "if __name__=='__main__':\n",
    "    xl_sheet = get_excel_sheet_object_orig('SampleData.xlsx', idx=1)\n",
    "    column_picker(xl_sheet)\n",
    "\n"
   ]
  },
  {
   "cell_type": "markdown",
   "metadata": {},
   "source": [
    "#### Exercise\n",
    "Modify above application to \n",
    "\n",
    "1) Prompt user to input file name of the Excel workbook and if a valid file name is entered then\n",
    "\n",
    "2) ... display the available sheets in the workbook.\n",
    "\n",
    "3) Prompt user to also input a sheet index. This should remove the hardwired idx=1 argument and instead have only one argument.\n",
    "\n",
    "In part (3) you must modify function get_excel_sheet_object's interface from\n",
    "\n",
    "def get_excel_sheet_object_orig(fname, idx=0):\n",
    "\n",
    "to\n",
    "\n",
    "def get_excel_sheet_object(xl_workbook, idx):"
   ]
  },
  {
   "cell_type": "markdown",
   "metadata": {},
   "source": [
    "#### One solution"
   ]
  },
  {
   "cell_type": "code",
   "execution_count": null,
   "metadata": {
    "collapsed": false
   },
   "outputs": [],
   "source": [
    "from os.path import join, dirname, abspath, isfile\n",
    "from collections import Counter\n",
    "import xlrd   # Reading\n",
    "from xlrd.sheet import ctype_text   \n",
    "import sys\n",
    "\n",
    "def get_excel_sheet_object(xl_workbook, idx):\n",
    "    xl_sheet = xl_workbook.sheet_by_index(idx)\n",
    "    print (40 * '-' + '\\nRetrieved worksheet: %s' % xl_sheet.name)\n",
    "\n",
    "    return xl_sheet\n",
    "\n",
    "def show_column_names(xl_sheet):\n",
    "    row = xl_sheet.row(0)  # 1st row\n",
    "    print(60*'-' + '\\n(Column #) value [type]\\n' + 60*'-')\n",
    "    for idx, cell_obj in enumerate(row):\n",
    "        cell_type_str = ctype_text.get(cell_obj.ctype, 'unknown type')\n",
    "        print('(%s) %s [%s]' % (idx, cell_obj.value, cell_type_str, ))\n",
    "\n",
    "def get_column_stats(xl_sheet, col_idx):\n",
    "    \"\"\"\n",
    "    :param xl_sheet:  Sheet object from Excel Workbook, extracted using xlrd\n",
    "    :param col_idx: zero-indexed int indicating a column in the Excel workbook\n",
    "    \"\"\"\n",
    "    if xl_sheet is None:\n",
    "        print ('xl_sheet is None')\n",
    "        return\n",
    "\n",
    "    if not col_idx.isdigit():\n",
    "        print ('Please enter a valid column number (0-%d)' % (xl_sheet.ncols-1))\n",
    "        return\n",
    "\n",
    "    col_idx = int(col_idx)\n",
    "    if col_idx < 0 or col_idx >= xl_sheet.ncols:\n",
    "        print ('Please enter a valid column number (0-%d)' % (xl_sheet.ncols-1))\n",
    "        return \n",
    "\n",
    "    # Iterate through rows, and print out the column values\n",
    "    row_vals = []\n",
    "    for row_idx in range(0, xl_sheet.nrows):\n",
    "        cell_obj = xl_sheet.cell(row_idx, col_idx)\n",
    "        cell_type_str = ctype_text.get(cell_obj.ctype, 'unknown type')\n",
    "        print ('(row %s) %s (type:%s)' % (row_idx, cell_obj.value, cell_type_str))\n",
    "        row_vals.append(cell_obj.value)\n",
    "\n",
    "    # Retrieve non-empty rows\n",
    "    nonempty_row_vals = [x for x in row_vals if x]    \n",
    "    num_rows_missing_vals = xl_sheet.nrows - len(nonempty_row_vals)\n",
    "    print ('Vals: %d; Rows Missing Vals: %d' % (len(nonempty_row_vals), num_rows_missing_vals))\n",
    "\n",
    "    # Count occurrences of values \n",
    "    counts = Counter(nonempty_row_vals)\n",
    "\n",
    "    # Display value counts\n",
    "    print (40*'-'+'\\n'+'Top Twenty Values'+'\\n'+40*'-' )\n",
    "    print ('Value [count]')\n",
    "    for val, cnt in counts.most_common(20):\n",
    "        print ('%s [%s]' % (val, cnt))\n",
    "\n",
    "def column_picker(xl_sheet):\n",
    "    try:\n",
    "        input = raw_input\n",
    "    except NameError:\n",
    "        pass\n",
    "\n",
    "    while True:\n",
    "        show_column_names(xl_sheet)\n",
    "        col_idx = input(\"\\nPlease enter a column number between 0 and %d (or 'x' to Exit): \" % (xl_sheet.ncols-1))\n",
    "        if col_idx == 'x': \n",
    "            break\n",
    "        get_column_stats(xl_sheet, col_idx)\n",
    "\n",
    "\n",
    "def open_excel_file(fname):                         \n",
    "    if not isfile(fname):\n",
    "        raise IOError('File does not exist: ')\n",
    "    return xlrd.open_workbook(fname)\n",
    "\n",
    "\n",
    "if __name__== '__main__':\n",
    "\n",
    "    fname = raw_input('Enter Excel file name: ')\n",
    "\n",
    "    try:\n",
    "        xl_workbook = open_excel_file(fname)\n",
    "    except: \n",
    "        raise\n",
    "    else:\n",
    "        print ('Opened ',fname)\n",
    "        \n",
    "    names_sheets = xl_workbook.sheet_names()\n",
    "    print ('List of sheets: ', names_sheets)\n",
    "    \n",
    "    try:\n",
    "        sheet_number = raw_input('Enter sheet number: ')\n",
    "    except:\n",
    "        raise\n",
    "    else:\n",
    "        idx = int(sheet_number) - 1 # Assuming user counts using \"natural\" numbers\n",
    "\n",
    "    try:\n",
    "        xl_sheet = get_excel_sheet_object(xl_workbook, idx)\n",
    "    except:\n",
    "        raise\n",
    "        \n",
    "    column_picker(xl_sheet)"
   ]
  },
  {
   "cell_type": "code",
   "execution_count": null,
   "metadata": {
    "collapsed": true
   },
   "outputs": [],
   "source": []
  }
 ],
 "metadata": {
  "anaconda-cloud": {},
  "kernelspec": {
   "display_name": "Python [Root]",
   "language": "python",
   "name": "Python [Root]"
  },
  "language_info": {
   "codemirror_mode": {
    "name": "ipython",
    "version": 2
   },
   "file_extension": ".py",
   "mimetype": "text/x-python",
   "name": "python",
   "nbconvert_exporter": "python",
   "pygments_lexer": "ipython2",
   "version": "2.7.12"
  }
 },
 "nbformat": 4,
 "nbformat_minor": 0
}
