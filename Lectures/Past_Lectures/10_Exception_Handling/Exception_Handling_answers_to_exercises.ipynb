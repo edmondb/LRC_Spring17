{
 "cells": [
  {
   "cell_type": "code",
   "execution_count": null,
   "metadata": {
    "collapsed": false
   },
   "outputs": [],
   "source": [
    "n = None\n",
    "while n is None:\n",
    "    try:\n",
    "        s = raw_input(\"Please enter an integer: \")\n",
    "        n = int(s)\n",
    "    except ValueError:\n",
    "        print(\"%s is not an integer.\" % s)"
   ]
  },
  {
   "cell_type": "code",
   "execution_count": null,
   "metadata": {
    "collapsed": true
   },
   "outputs": [],
   "source": [
    "def oops():\n",
    "    raise IndexError\n",
    "\n",
    "def doomed():\n",
    "    try:\n",
    "        oops()\n",
    "    except IndexError:\n",
    "        print 'caught an index error!'\n",
    "    else:\n",
    "        print 'no error caught...'\n",
    "doomed()"
   ]
  },
  {
   "cell_type": "code",
   "execution_count": null,
   "metadata": {
    "collapsed": true
   },
   "outputs": [],
   "source": [
    "def print_list_element(thelist, index):\n",
    "    try:\n",
    "        print(thelist[index])\n",
    "    except IndexError:\n",
    "        print(\"The list has no element at index %d.\" % index)        \n",
    "\n",
    "# test\n",
    "list1 = ['a', 'b', 'c']\n",
    "print_list_element(list1, 0)\n",
    "print_list_element(list1, 3)"
   ]
  }
 ],
 "metadata": {
  "kernelspec": {
   "display_name": "Python [Root]",
   "language": "python",
   "name": "Python [Root]"
  },
  "language_info": {
   "codemirror_mode": {
    "name": "ipython",
    "version": 2
   },
   "file_extension": ".py",
   "mimetype": "text/x-python",
   "name": "python",
   "nbconvert_exporter": "python",
   "pygments_lexer": "ipython2",
   "version": "2.7.12"
  }
 },
 "nbformat": 4,
 "nbformat_minor": 0
}
