{
 "cells": [
  {
   "cell_type": "markdown",
   "metadata": {
    "collapsed": false
   },
   "source": [
    "# Exception handling"
   ]
  },
  {
   "cell_type": "code",
   "execution_count": null,
   "metadata": {
    "collapsed": false,
    "scrolled": true
   },
   "outputs": [],
   "source": [
    "from IPython.display import Image\n",
    "slide = Image(filename = 'errors.jpg')\n",
    "slide"
   ]
  },
  {
   "cell_type": "markdown",
   "metadata": {},
   "source": [
    "### Tecnical difference between syntax and run-time errors\n",
    "A <b>python</b> program with a syntax error will execute no steps at all, but a program with a run-time error will execute the steps that happened before the error occured."
   ]
  },
  {
   "cell_type": "code",
   "execution_count": null,
   "metadata": {
    "collapsed": false
   },
   "outputs": [],
   "source": [
    "print \"programming is fun, debugging programs is not\"\n",
    "print 'This does not make sense: ' 1/0"
   ]
  },
  {
   "cell_type": "code",
   "execution_count": null,
   "metadata": {
    "collapsed": false
   },
   "outputs": [],
   "source": [
    "print \"programming is fun, debugging programs is not\"\n",
    "print 'This does not make sense: ',1/0"
   ]
  },
  {
   "cell_type": "markdown",
   "metadata": {},
   "source": [
    "#### When a program crashes, a stack trace (a list of the calling methods) is generated. This is called a <font color='red'>Traceback</font>"
   ]
  },
  {
   "cell_type": "markdown",
   "metadata": {},
   "source": [
    "### Run-time errors are called <font color='red'>exceptions</font>"
   ]
  },
  {
   "cell_type": "markdown",
   "metadata": {
    "collapsed": false,
    "scrolled": false
   },
   "source": [
    "## Built-in exceptions"
   ]
  },
  {
   "cell_type": "markdown",
   "metadata": {},
   "source": [
    "<table style=\"width:100%\">\n",
    "  <tr>\n",
    "    <th>Exception name</th>\n",
    "    <th>Description</th> \n",
    "  </tr>\n",
    "  <tr>\n",
    "    <td>IOError</td>\n",
    "    <td>Raised when an IO operation fails.</td> \n",
    "  </tr>\n",
    "  <tr>\n",
    "    <td>KeyError</td>\n",
    "    <td>Raised when a mapping (dictionary) key is not found in the set of existing keys.</td> \n",
    "  </tr>\n",
    "  <tr>\n",
    "    <td>NameError</td>\n",
    "    <td>Raised when an identifier is not found in the local or global namespace.</td> \n",
    "  </tr>\n",
    "  <tr>\n",
    "    <td>OSError</td>\n",
    "    <td>Raised when a function returns a system-related error.</td> \n",
    "  </tr>\n",
    "  <tr>\n",
    "    <td>ValueError</td>\n",
    "    <td>Raised when a built-in operation or function receives an argument that has the right type but an inappropriate value.</td> \n",
    "  </tr>\n",
    "  <tr>\n",
    "    <td>ZeroDivisionError</td>\n",
    "    <td>Raised when the second argument of a division or modulo operation is zero.</td> \n",
    "  </tr>\n",
    "</table>\n",
    "\n",
    "For a full list see https://docs.python.org/2/library/exceptions.html"
   ]
  },
  {
   "cell_type": "markdown",
   "metadata": {},
   "source": [
    "### Examples"
   ]
  },
  {
   "cell_type": "code",
   "execution_count": null,
   "metadata": {
    "collapsed": false
   },
   "outputs": [],
   "source": [
    "a = b + 1  # syntactically correct\n",
    "print a"
   ]
  },
  {
   "cell_type": "code",
   "execution_count": null,
   "metadata": {
    "collapsed": false,
    "scrolled": true
   },
   "outputs": [],
   "source": [
    "x = 0      # syntactically correct\n",
    "y = 1/x "
   ]
  },
  {
   "cell_type": "code",
   "execution_count": null,
   "metadata": {
    "collapsed": false,
    "scrolled": true
   },
   "outputs": [],
   "source": [
    "hello_in = {\"spa\":\"hola\",\"eng\":\"hello\",\"fre\":\"bonjour\",\"ita\":\"ciao\",\"ger\":\"hallo\"}\n",
    "print 'hello in german: ' + hello_in[\"ger\"]\n",
    "print 'hello in spanish: ' + hello_in[\"spa\"]\n",
    "print 'hello in french: ' + hello_in[\"fre\"]\n",
    "print 'hello in italian: ' + hello_in[\"ita\"]\n",
    "print 'hello in portuguese: ' + hello_in[\"por\"]"
   ]
  },
  {
   "cell_type": "code",
   "execution_count": null,
   "metadata": {
    "collapsed": false
   },
   "outputs": [],
   "source": [
    "# Example: logic error\n",
    "x = 3\n",
    "y = 4\n",
    "average = x + y / 2\n",
    "print average"
   ]
  },
  {
   "cell_type": "markdown",
   "metadata": {
    "collapsed": true
   },
   "source": [
    "### How do we \"handle\" exceptions\n",
    "\n",
    "#### Impiclitly we use the <font color='red'>try...except</font> block. Explicitly we use the <font color='red'>raise</font> statement.\n"
   ]
  },
  {
   "cell_type": "markdown",
   "metadata": {},
   "source": [
    "#### Simplest <font color='red'>try...except</font> block"
   ]
  },
  {
   "cell_type": "code",
   "execution_count": null,
   "metadata": {
    "collapsed": false
   },
   "outputs": [],
   "source": [
    "try:                                                      # required keyword\n",
    "    print '< Try: Block of code that harbors the risk of an exception >' # exception generated in this block\n",
    "except:                                                   # required keyword\n",
    "    print '*** There was a runtime error ***'             # exception is caught here\n",
    "    \n",
    "print '<We are outside the try statement>'"
   ]
  },
  {
   "cell_type": "markdown",
   "metadata": {},
   "source": [
    "#### Example"
   ]
  },
  {
   "cell_type": "code",
   "execution_count": null,
   "metadata": {
    "collapsed": false
   },
   "outputs": [],
   "source": [
    "(x,y) = (5,0)\n",
    "try:\n",
    "    z = x/y\n",
    "except ZeroDivisionError:\n",
    "    print \"divide by zero\""
   ]
  },
  {
   "cell_type": "markdown",
   "metadata": {},
   "source": [
    "#### General <font color='red'>try...except</font> block"
   ]
  },
  {
   "cell_type": "code",
   "execution_count": null,
   "metadata": {
    "collapsed": false
   },
   "outputs": [],
   "source": [
    "try:                                                      # required keyword\n",
    "    print '< Try: Block of code that harbors the risk of an exception >' # exception generated in this block\n",
    "except:                                                   # required keyword\n",
    "    print '*** There was a runtime error ***'             # exception is caught here\n",
    "else:                                                     # optional keyword\n",
    "    print '< Else: There was no exception >'\n",
    "finally:                                                  # optional keyword - like a clean-up step\n",
    "    print '< Finally: Exception handling is finished - always executed>'\n",
    "    \n",
    "print '<We are outside the try statement>'"
   ]
  },
  {
   "cell_type": "markdown",
   "metadata": {},
   "source": [
    "#### General error catching"
   ]
  },
  {
   "cell_type": "code",
   "execution_count": null,
   "metadata": {
    "collapsed": false
   },
   "outputs": [],
   "source": [
    "try:\n",
    "    user_input = raw_input('Enter a number: ')                     # input is a string\n",
    "    n = int(user_input)\n",
    "    print 'There was no exception.'\n",
    "except:                              # accepts all exceptions\n",
    "    print 'There was an exception'\n",
    "else:\n",
    "    print 'The square of the number is {}'.format(n*n)\n",
    "finally:\n",
    "    print 'Exception handling is finished'"
   ]
  },
  {
   "cell_type": "code",
   "execution_count": null,
   "metadata": {
    "collapsed": false
   },
   "outputs": [],
   "source": [
    "try:\n",
    "    user_input = raw_input('Enter a number: ')                     # input is a string\n",
    "    n = int(user_input)\n",
    "# Exception: base class for all normal exceptions. \n",
    "# 'as' keyword: can name a variable within an except statement.\n",
    "except Exception as err:       # catch only 'err' exception\n",
    "    print 'There was an exception: {}'.format(err)\n",
    "else:\n",
    "    print 'The square of the number is {}'.format(n*n)\n",
    "finally:\n",
    "    print 'Exception handling is finished'"
   ]
  },
  {
   "cell_type": "code",
   "execution_count": null,
   "metadata": {
    "collapsed": false
   },
   "outputs": [],
   "source": [
    "try:\n",
    "    user_input = raw_input('Enter a number: ')                     # input is a string\n",
    "    n = int(user_input)\n",
    "except Exception(ValueError):                                      # Provides a traceback\n",
    "    print 'There was an exception but this is not printed'\n",
    "else:\n",
    "    print 'The square of the number is {}'.format(n*n)\n",
    "finally:\n",
    "    print 'Exception handling is finished'"
   ]
  },
  {
   "cell_type": "code",
   "execution_count": null,
   "metadata": {
    "collapsed": false
   },
   "outputs": [],
   "source": [
    "n = raw_input(\"Please enter a number: \")\n",
    "try:\n",
    "    x = float(n)\n",
    "    y = 1/x\n",
    "except Exception(ZeroDivisionError):\n",
    "    pass\n",
    "except Exception(ValueError):\n",
    "    pass\n",
    "else:                   \n",
    "    print 'y is ',y\n",
    "finally:                \n",
    "    print 'Done'"
   ]
  },
  {
   "cell_type": "markdown",
   "metadata": {},
   "source": [
    "### IOError exceptions"
   ]
  },
  {
   "cell_type": "code",
   "execution_count": null,
   "metadata": {
    "collapsed": false
   },
   "outputs": [],
   "source": [
    "with open ('nonExistentFile.txt', 'r') as f:\n",
    "   data = my_file.readlines()"
   ]
  },
  {
   "cell_type": "code",
   "execution_count": null,
   "metadata": {
    "collapsed": false
   },
   "outputs": [],
   "source": [
    "try:\n",
    "    with open ('demo.txt', 'r') as f:\n",
    "        data = f.readline()\n",
    "except IOError:\n",
    "    print 'File does not exist'\n",
    "else:\n",
    "    print data"
   ]
  },
  {
   "cell_type": "markdown",
   "metadata": {},
   "source": [
    "### Approaches to exception handling"
   ]
  },
  {
   "cell_type": "code",
   "execution_count": null,
   "metadata": {
    "collapsed": true
   },
   "outputs": [],
   "source": [
    "# The python way - is this the best (or only) approach?\n",
    "\n",
    "try:                \n",
    "    do_it()         \n",
    "except SomeError:   # It is not clear what errors to handle\n",
    "    # handle error\n"
   ]
  },
  {
   "cell_type": "code",
   "execution_count": null,
   "metadata": {
    "collapsed": true
   },
   "outputs": [],
   "source": [
    "# LBYL (look before you leap) \n",
    "\n",
    "if i_can_do_it():  # what do we check for?\n",
    "    do_it()        # is it thread-safe?\n",
    "else:              # obviously not pythonic\n",
    "    # handle error"
   ]
  },
  {
   "cell_type": "markdown",
   "metadata": {},
   "source": [
    "### Manually throw/raise an exception\n",
    "\n",
    "A common way to manually throw an exception is to use <font color='red'>raise</font>\n",
    "\n",
    "<font color='red'>raise</font> interrupts program flow and passes along error information to the calling method"
   ]
  },
  {
   "cell_type": "code",
   "execution_count": null,
   "metadata": {
    "collapsed": false
   },
   "outputs": [],
   "source": [
    "# First detect the error:\n",
    "def process_something(x):\n",
    "    if x <= 0:\n",
    "        raise ValueError('x is %d but must be greater than 0' % x)  # be specific!!\n",
    "        # raise Exception('some message')  # don't do this: avoid raising a generic exception. why?\n",
    "    # Some actual processing here\n",
    "    pass\n",
    "\n",
    "# Handle exception\n",
    "try:\n",
    "    process_something(-3)\n",
    "except ValueError as error: # handling a specific error\n",
    "                            # specific catches won't catch the general exception\n",
    "    print(error)\n",
    "    \n",
    "# If the exception is left unhandled, the default behavior is for the interpreter \n",
    "# to print a full traceback and the error message included in the exception.\n",
    "process_something(-3)\n"
   ]
  },
  {
   "cell_type": "code",
   "execution_count": null,
   "metadata": {
    "collapsed": false
   },
   "outputs": [],
   "source": [
    "# First detect the error:\n",
    "def process_something():                         \n",
    "    try:                            \n",
    "        do_something()      # exception is raised here\n",
    "    except Exception as e:\n",
    "        raise Exception(e) # re-raise the exact same exception that was thrown\n",
    "\n",
    "# Handle exception\n",
    "try:\n",
    "    process_something()\n",
    "except: # handling any error\n",
    "    print 'There was an exception in function afun()'"
   ]
  },
  {
   "cell_type": "markdown",
   "metadata": {},
   "source": [
    "#### Best practice: use the most specific Exception constructor that semantically fits your issue."
   ]
  },
  {
   "cell_type": "markdown",
   "metadata": {},
   "source": [
    "#### Using <font color='red'>assert()</font>. With assert() we cause an AssertionError when a condition is not true. \n",
    "#### So we \"assert\" that conditions are valid as the program runs. These statements can be optimized out."
   ]
  },
  {
   "cell_type": "code",
   "execution_count": null,
   "metadata": {
    "collapsed": false
   },
   "outputs": [],
   "source": [
    "# First detect the error:\n",
    "def process_something(x):\n",
    "    assert x > 0, 'x is must be greater than 0' # internally \"raise AssertionError\" - assert is a tool for developer\n",
    "\n",
    "# Handle exception\n",
    "try:\n",
    "    process_something(-3)\n",
    "except ValueError as error: # handling a specific error\n",
    "    print(error)"
   ]
  },
  {
   "cell_type": "markdown",
   "metadata": {},
   "source": [
    "###  Caveat: Performance"
   ]
  },
  {
   "cell_type": "code",
   "execution_count": null,
   "metadata": {
    "collapsed": false
   },
   "outputs": [],
   "source": [
    "import time\n",
    "\n",
    "start = time.time()\n",
    "\n",
    "# Version that causes exception.\n",
    "v = 0\n",
    "i = 0\n",
    "while i < 10000000:\n",
    "    try:\n",
    "        x = 10 / v\n",
    "    except ZeroDivisionError:\n",
    "        x = 0\n",
    "    i += 1\n",
    "\n",
    "end = time.time()\n",
    "print(end - start)\n"
   ]
  },
  {
   "cell_type": "code",
   "execution_count": null,
   "metadata": {
    "collapsed": false
   },
   "outputs": [],
   "source": [
    "# Version that uses if-check.\n",
    "start = time.time()\n",
    "\n",
    "v = 0\n",
    "i = 0\n",
    "while i < 10000000:\n",
    "    if v != 0:\n",
    "        x = 10 / v\n",
    "    else:\n",
    "        x = 0\n",
    "    i += 1\n",
    "\n",
    "end = time.time()\n",
    "print(end - start)"
   ]
  },
  {
   "cell_type": "markdown",
   "metadata": {},
   "source": [
    "The loop body that uses exception-handling is more than twice as slow. \n",
    "The exception is actually raised on each iteration through the loop."
   ]
  },
  {
   "cell_type": "markdown",
   "metadata": {},
   "source": [
    "### Catching system errors"
   ]
  },
  {
   "cell_type": "code",
   "execution_count": null,
   "metadata": {
    "collapsed": false
   },
   "outputs": [],
   "source": [
    "import subprocess    \n",
    "import os\n",
    " \n",
    "# Run a system command and capture the output    \n",
    "def sys_cmd(cmd):\n",
    "    try:\n",
    "        out = subprocess.check_output(cmd)\n",
    "        return 0\n",
    "    except subprocess.CalledProcessError as e:\n",
    "        out = e.output\n",
    "        return e.returncode\n",
    "    except OSError as e:\n",
    "        return 1\n",
    "\n",
    "# Check the system call return code    \n",
    "def check_rc(rc, cmd):\n",
    "    if rc == 0:\n",
    "        print 'Command \"'+cmd+'\" was succesful'\n",
    "    else:\n",
    "        print 'There was a problem running the command \"'+cmd+'\"'\n",
    "    \n",
    "check_rc(sys_cmd('ls'),'ls')\n",
    "check_rc(sys_cmd('make'),'make')\n",
    "check_rc(sys_cmd('not_a_system_command'),'not_a_system_command')\n"
   ]
  },
  {
   "cell_type": "markdown",
   "metadata": {},
   "source": [
    "#### <font color='red'>Summary</font>: exception handling is a useful feature of Python - more art than science. Raise exceptions whenever something unexpected occurs, and catch them only where you can do something about them."
   ]
  },
  {
   "cell_type": "markdown",
   "metadata": {},
   "source": [
    "### Exercises"
   ]
  },
  {
   "cell_type": "markdown",
   "metadata": {},
   "source": [
    "#### 1) Write a function called oops() that explicitly raises an IndexError exception when called. Then write another function, doomed(), that calls oops inside a try/except statement to catch the error. "
   ]
  },
  {
   "cell_type": "markdown",
   "metadata": {},
   "source": [
    "#### 2) Add a try-except block to the follwing code, i.e. instead of performing checks (using 'if') before we do something, we just do it – and if an error does occur we handle it."
   ]
  },
  {
   "cell_type": "code",
   "execution_count": null,
   "metadata": {
    "collapsed": false
   },
   "outputs": [],
   "source": [
    "n = None\n",
    "while n is None:\n",
    "    s = raw_input(\"Please enter an integer: \")\n",
    "    if s.isdigit():\n",
    "        n = int(s)\n",
    "    else:\n",
    "        print(\"%s is not an integer.\" % s)"
   ]
  },
  {
   "cell_type": "markdown",
   "metadata": {},
   "source": [
    "#### 3) Add a try-except block to the body of this function which handles a possible IndexError, which could occur if the index provided exceeds the length of the list. Print an error message if this happens."
   ]
  },
  {
   "cell_type": "code",
   "execution_count": null,
   "metadata": {
    "collapsed": false
   },
   "outputs": [],
   "source": [
    "def print_list_element(thelist, index):\n",
    "    print(thelist[index])\n",
    "\n",
    "# test\n",
    "list1 = ['a', 'b', 'c']\n",
    "print_list_element(list1, 0)\n",
    "print_list_element(list1, 3)"
   ]
  }
 ],
 "metadata": {
  "anaconda-cloud": {},
  "kernelspec": {
   "display_name": "Python [Root]",
   "language": "python",
   "name": "Python [Root]"
  },
  "language_info": {
   "codemirror_mode": {
    "name": "ipython",
    "version": 2
   },
   "file_extension": ".py",
   "mimetype": "text/x-python",
   "name": "python",
   "nbconvert_exporter": "python",
   "pygments_lexer": "ipython2",
   "version": "2.7.12"
  }
 },
 "nbformat": 4,
 "nbformat_minor": 0
}
