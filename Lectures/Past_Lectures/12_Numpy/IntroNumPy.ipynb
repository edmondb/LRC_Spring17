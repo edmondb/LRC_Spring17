{
 "cells": [
  {
   "cell_type": "markdown",
   "metadata": {},
   "source": [
    "<CENTER>\n",
    "<H1>\n",
    "NASA Langley Research Center <BR>\n",
    "Fall 2016 Python Training <br>\n",
    "</H1>\n",
    "</CENTER>"
   ]
  },
  {
   "cell_type": "markdown",
   "metadata": {},
   "source": [
    "# Numpy and Matplotlib"
   ]
  },
  {
   "cell_type": "markdown",
   "metadata": {},
   "source": [
    "## Reference Documents"
   ]
  },
  {
   "cell_type": "markdown",
   "metadata": {},
   "source": [
    "<OL>\n",
    "<LI> <A HREF=\"http://wiki.scipy.org/Tentative_NumPy_Tutorial\">Tentative Numpy Tutorial</A>\n",
    "<LI> <A HREF=\"http://docs.scipy.org/doc/numpy/reference\">NumPy Reference</A>\n",
    "<LI> <A HREF=\"http://mathesaurus.sourceforge.net/matlab-numpy.html\">NumPy for MATLAB Users</A>\n",
    "<LI> <A HREF=\"http://mathesaurus.sourceforge.net/r-numpy.html\">NumPy for R (and S-Plus) Users</A>\n",
    "<LI> <A HREF=\"http://people.duke.edu/~ccc14/pcfb/numerics.html\">NumPy and Matplotlib (Practical Cumputing for Biologists)</A>\n",
    "</OL>"
   ]
  },
  {
   "cell_type": "raw",
   "metadata": {},
   "source": [
    "In case you prefer a video:"
   ]
  },
  {
   "cell_type": "code",
   "execution_count": null,
   "metadata": {
    "collapsed": false
   },
   "outputs": [],
   "source": [
    "from IPython.display import YouTubeVideo\n",
    "#YouTubeVideo(\"http://www.youtube.com/watch?v=3Fp1zn5ao2M\")\n",
    "YouTubeVideo(\"3Fp1zn5ao2M\")"
   ]
  },
  {
   "cell_type": "markdown",
   "metadata": {},
   "source": [
    "### What is Numpy?"
   ]
  },
  {
   "cell_type": "markdown",
   "metadata": {},
   "source": [
    "<UL>\n",
    "<LI> Efficient array computing in Python.\n",
    "<LI> Allows the creation of arrays.\n",
    "<LI> Allows efficient indexing/slicing of arrays\n",
    "<LI> Provides mathematical functions that operate on an entire array.\n",
    "<LI> The critical thing to know is that Python <B> for </B> loops are very slow!\n",
    "     One should try to use array-operations as much as possible.\n",
    "</UL>"
   ]
  },
  {
   "cell_type": "markdown",
   "metadata": {},
   "source": [
    "#### Making Numpy Arrays"
   ]
  },
  {
   "cell_type": "markdown",
   "metadata": {},
   "source": [
    "First we want to import the appropriate modules into our name space (note this is done automatically with the \"--pylab\" flag."
   ]
  },
  {
   "cell_type": "code",
   "execution_count": 1,
   "metadata": {
    "collapsed": false
   },
   "outputs": [],
   "source": [
    "import numpy as np"
   ]
  },
  {
   "cell_type": "markdown",
   "metadata": {},
   "source": [
    "<UL>\n",
    "<LI> The primary building block of the numpy module is the class \"ndarray\". \n",
    "<LI> A ndarray object represents a multidimensional, homogeneous array of fixed-sized items. \n",
    "<LI> An associated date-type object describes the format of each element in the array. \n",
    "<LI> An ndarray object is (almost) never instantiated directly, but instead using a method that returns an instance of the class.\n",
    "</UL>"
   ]
  },
  {
   "cell_type": "code",
   "execution_count": 2,
   "metadata": {
    "collapsed": false
   },
   "outputs": [
    {
     "data": {
      "image/png": "[encoded data removed]",
      "text/plain": [
       "<IPython.core.display.Image at 0x105f66990>"
      ]
     },
     "execution_count": 2,
     "metadata": {},
     "output_type": "execute_result"
    }
   ],
   "source": [
    "from IPython.core.display import Image \n",
    "Image(filename='npArray.png') "
   ]
  },
  {
   "cell_type": "markdown",
   "metadata": {},
   "source": [
    "##### Array vs. List"
   ]
  },
  {
   "cell_type": "code",
   "execution_count": null,
   "metadata": {
    "collapsed": false
   },
   "outputs": [],
   "source": [
    "myList = [1, 2, 3, 5]\n",
    "arr = np.array([1, 2, 3, 5])\n",
    "print arr"
   ]
  },
  {
   "cell_type": "markdown",
   "metadata": {},
   "source": [
    "Elements of a one-dimensional array are accessed with the same syntax as a list:"
   ]
  },
  {
   "cell_type": "code",
   "execution_count": null,
   "metadata": {
    "collapsed": false
   },
   "outputs": [],
   "source": [
    "myList[0]"
   ]
  },
  {
   "cell_type": "code",
   "execution_count": null,
   "metadata": {
    "collapsed": false
   },
   "outputs": [],
   "source": [
    "arr[0]"
   ]
  },
  {
   "cell_type": "code",
   "execution_count": null,
   "metadata": {
    "collapsed": false
   },
   "outputs": [],
   "source": [
    "arr[2:]"
   ]
  },
  {
   "cell_type": "markdown",
   "metadata": {},
   "source": [
    "### Excercise 1"
   ]
  },
  {
   "cell_type": "markdown",
   "metadata": {},
   "source": [
    "How do you access the final element in the arr array?"
   ]
  },
  {
   "cell_type": "code",
   "execution_count": null,
   "metadata": {
    "collapsed": false
   },
   "outputs": [],
   "source": []
  },
  {
   "cell_type": "markdown",
   "metadata": {},
   "source": [
    "The first difference to note between lists and arrays is that arrays are homogeneous; <P>\n",
    "i.e. all elements of an array must be of the same type. <P>\n",
    "In contrast, lists can contain elements of arbitrary type. <P>\n",
    "For example, we can change the last element in our list above to be a string:"
   ]
  },
  {
   "cell_type": "code",
   "execution_count": null,
   "metadata": {
    "collapsed": false
   },
   "outputs": [],
   "source": [
    "myList[-1] ='adding a string'\n",
    "myList"
   ]
  },
  {
   "cell_type": "markdown",
   "metadata": {},
   "source": [
    "But the same can not be done with an array, as we get an error message:"
   ]
  },
  {
   "cell_type": "code",
   "execution_count": null,
   "metadata": {
    "collapsed": false
   },
   "outputs": [],
   "source": [
    "arr[-1] ='adding a string'"
   ]
  },
  {
   "cell_type": "markdown",
   "metadata": {},
   "source": [
    "###  Array memory representation"
   ]
  },
  {
   "cell_type": "markdown",
   "metadata": {},
   "source": [
    "The information about the type of an array is contained in its dtype attribute:"
   ]
  },
  {
   "cell_type": "code",
   "execution_count": null,
   "metadata": {
    "collapsed": false
   },
   "outputs": [],
   "source": [
    "x = np.array([[1, 2], [3, 4]], dtype=np.uint8)\n",
    "print x"
   ]
  },
  {
   "cell_type": "code",
   "execution_count": null,
   "metadata": {
    "collapsed": false
   },
   "outputs": [],
   "source": [
    "[b for b in bytes(x.data)]"
   ]
  },
  {
   "cell_type": "code",
   "execution_count": null,
   "metadata": {
    "collapsed": false
   },
   "outputs": [],
   "source": [
    "arr = np.array([10, 20, 123123])\n",
    "arr.dtype"
   ]
  },
  {
   "cell_type": "markdown",
   "metadata": {},
   "source": [
    "Once an array has been created, its dtype is fixed and it can only store elements of the same type. <P>\n",
    "For this example where the dtype is integer, if we store a floating point number it will be automatically converted into an integer:"
   ]
  },
  {
   "cell_type": "code",
   "execution_count": null,
   "metadata": {
    "collapsed": false
   },
   "outputs": [],
   "source": [
    "arr[-1] = 1.234\n",
    "arr"
   ]
  },
  {
   "cell_type": "markdown",
   "metadata": {},
   "source": [
    "Why is a homogeneous data type required for arrays? Speed"
   ]
  },
  {
   "cell_type": "code",
   "execution_count": null,
   "metadata": {
    "collapsed": false
   },
   "outputs": [],
   "source": [
    "x = range(50000)\n",
    "y = np.arange(50000)\n",
    "\n",
    "%timeit [e**2  for e in x]\n",
    "%timeit y**2"
   ]
  },
  {
   "cell_type": "markdown",
   "metadata": {},
   "source": [
    "### Array Creation"
   ]
  },
  {
   "cell_type": "markdown",
   "metadata": {},
   "source": [
    "Above we created an array from an existing list; <P>\n",
    "now let us now see other ways in which we can create arrays, which we'll illustrate next. <P>\n",
    "A common need is to have an array initialized with a constant value, <P>\n",
    "and very often this value is 0 or 1 (suitable as starting value for additive and multiplicative loops respectively); <P>\n",
    "zeros creates arrays of all zeros, with any desired dtype:"
   ]
  },
  {
   "cell_type": "code",
   "execution_count": null,
   "metadata": {
    "collapsed": false
   },
   "outputs": [],
   "source": [
    "b = np.ones((3,2))\n",
    "print b\n",
    "print b.shape"
   ]
  },
  {
   "cell_type": "code",
   "execution_count": null,
   "metadata": {
    "collapsed": false
   },
   "outputs": [],
   "source": [
    "c = np.zeros((1,3), int)\n",
    "print c\n",
    "print type(c)\n",
    "print c.dtype"
   ]
  },
  {
   "cell_type": "code",
   "execution_count": null,
   "metadata": {
    "collapsed": false
   },
   "outputs": [],
   "source": [
    "d = np.zeros(3, complex)\n",
    "print d\n",
    "print d.dtype\n",
    "id = np.eye(5)\n",
    "print id"
   ]
  },
  {
   "cell_type": "markdown",
   "metadata": {},
   "source": [
    "Then there are the linspace and logspace functions to create linearly and logarithmically-spaced grids, respectively, with a fixed number of points and including both ends of the specified interval.<P>\n",
    "\n",
    "linspace(a, b, n) generates n uniformly spaced coordinates, starting with a and ending with b"
   ]
  },
  {
   "cell_type": "code",
   "execution_count": null,
   "metadata": {
    "collapsed": false
   },
   "outputs": [],
   "source": [
    "x = np.linspace(-5, 5, 11) # start, stop, num\n",
    "print x"
   ]
  },
  {
   "cell_type": "code",
   "execution_count": null,
   "metadata": {
    "collapsed": false
   },
   "outputs": [],
   "source": [
    "a = np.r_[-5:5:11j]        # same as linspace(-1, 1, 11)\n",
    "print a"
   ]
  },
  {
   "cell_type": "code",
   "execution_count": null,
   "metadata": {
    "collapsed": false
   },
   "outputs": [],
   "source": [
    "x = np.arange(-5, 5, 1, float)   # upper limit 5 is not included!!\n",
    "print x"
   ]
  },
  {
   "cell_type": "markdown",
   "metadata": {},
   "source": [
    "### Exercise 2"
   ]
  },
  {
   "cell_type": "markdown",
   "metadata": {},
   "source": [
    "Create a new array of 11 elements logarithmically spaced from 1 to 100."
   ]
  },
  {
   "cell_type": "code",
   "execution_count": null,
   "metadata": {
    "collapsed": false
   },
   "outputs": [],
   "source": []
  },
  {
   "cell_type": "markdown",
   "metadata": {},
   "source": [
    "### Indexing with other arrays"
   ]
  },
  {
   "cell_type": "markdown",
   "metadata": {},
   "source": [
    "Above we saw how to index arrays with single numbers and slices, just like Python lists. \n",
    "But arrays allow for a more sophisticated kind of indexing which is very powerful: \n",
    "you can index an array with another array, and in particular with an array of boolean values. \n",
    "This is particluarly useful to extract information from an array that matches a certain condition.\n",
    "<P>\n",
    "Consider for example that in the array uni we want to replace all values above 0 with the value 10. We can do so by first finding the mask that indicates where this condition is true or false:\n"
   ]
  },
  {
   "cell_type": "code",
   "execution_count": null,
   "metadata": {
    "collapsed": false
   },
   "outputs": [],
   "source": [
    "rng = np.random.RandomState(0)  # <-- seed value, do not have to specify, but useful for reproducibility"
   ]
  },
  {
   "cell_type": "code",
   "execution_count": null,
   "metadata": {
    "collapsed": false
   },
   "outputs": [],
   "source": [
    "rng.normal(loc=0, scale=1, size=5)"
   ]
  },
  {
   "cell_type": "code",
   "execution_count": null,
   "metadata": {
    "collapsed": false
   },
   "outputs": [],
   "source": [
    "uni = rng.uniform(-10, 10, size=5)  # 5 random numbers, picked from a uniform distribution between -10 and 10\n",
    "print uni"
   ]
  },
  {
   "cell_type": "code",
   "execution_count": null,
   "metadata": {
    "collapsed": false
   },
   "outputs": [],
   "source": [
    "mask = uni > 0\n",
    "mask"
   ]
  },
  {
   "cell_type": "markdown",
   "metadata": {},
   "source": [
    "Now that we have this mask, we can use it to either read those values or to reset them to 0:"
   ]
  },
  {
   "cell_type": "code",
   "execution_count": null,
   "metadata": {
    "collapsed": false
   },
   "outputs": [],
   "source": [
    "print 'Array:', uni\n",
    "print 'Masked array:', uni[mask]"
   ]
  },
  {
   "cell_type": "code",
   "execution_count": null,
   "metadata": {
    "collapsed": false
   },
   "outputs": [],
   "source": [
    "uni[mask] = 10\n",
    "print uni"
   ]
  },
  {
   "cell_type": "code",
   "execution_count": null,
   "metadata": {
    "collapsed": false
   },
   "outputs": [],
   "source": []
  },
  {
   "cell_type": "markdown",
   "metadata": {},
   "source": [
    "#### Changing Array Dimension"
   ]
  },
  {
   "cell_type": "code",
   "execution_count": null,
   "metadata": {
    "collapsed": false
   },
   "outputs": [],
   "source": [
    "a = np.array([0, 1.2, 4, -9.1, 5, 8])\n",
    "print a.shape\n",
    "a.shape = (2,3) # turn a into a 2x3 matrix\n",
    "print a.size\n",
    "a.shape = (a.size,) # turn a into a vector of length 6 again\n",
    "print a.shape\n",
    "a = a.reshape(2,3) # same effect as setting a.shape\n",
    "print a.shape"
   ]
  },
  {
   "cell_type": "markdown",
   "metadata": {},
   "source": [
    "#### Array Initialization from a Python Function"
   ]
  },
  {
   "cell_type": "code",
   "execution_count": null,
   "metadata": {
    "collapsed": false
   },
   "outputs": [],
   "source": [
    "def myfunc(i, j):\n",
    "    return (i+1)*(j+4-i)\n",
    "\n",
    "# make 3x6 array where a[i,j] = myfunc(i,j):\n",
    "a = fromfunction(myfunc, (3,6))\n",
    "print a"
   ]
  },
  {
   "cell_type": "markdown",
   "metadata": {},
   "source": [
    "#### Array Indexing"
   ]
  },
  {
   "cell_type": "code",
   "execution_count": null,
   "metadata": {
    "collapsed": false
   },
   "outputs": [],
   "source": [
    "a = np.linspace(-1, 1, 6)\n",
    "a[2:4] = -1        # set a[2] and a[3] equal to -1\n",
    "a[-1]  = a[0]      # set last element equal to first one\n",
    "a[:]   = 0         # set all elements of a equal to 0\n",
    "a.fill(0)          # set all elements of a equal to 0\n",
    "\n",
    "i = 1\n",
    "j = 2\n",
    "k = 2\n",
    "a.shape = (2,3)    # turn a into a 2x3 matrix\n",
    "print a[0,1]       # print element (0,1)\n",
    "a[i,j] = 10        # assignment to element (i,j)\n",
    "a[i][j] = 10       # equivalent syntax (slower)\n",
    "print a[:,k]       # print column with index k\n",
    "print a[1,:]       # print second row\n",
    "a[:,:] = 0         # set all elements of a equal to 0"
   ]
  },
  {
   "cell_type": "code",
   "execution_count": null,
   "metadata": {
    "collapsed": false
   },
   "outputs": [],
   "source": [
    "a = np.linspace(0, 29, 30)\n",
    "a.shape = (5,6)\n",
    "print a"
   ]
  },
  {
   "cell_type": "code",
   "execution_count": null,
   "metadata": {
    "collapsed": false
   },
   "outputs": [],
   "source": [
    "print a[1:3,:-1:2]   # a[i,j] for i=1,2 and j=0,2,4"
   ]
  },
  {
   "cell_type": "code",
   "execution_count": null,
   "metadata": {
    "collapsed": false
   },
   "outputs": [],
   "source": [
    "print a[::3,2:-1:2]   # a[i,j] for i=0,3 and j=2,4"
   ]
  },
  {
   "cell_type": "markdown",
   "metadata": {},
   "source": [
    "#### Array Slicing"
   ]
  },
  {
   "cell_type": "code",
   "execution_count": 5,
   "metadata": {
    "collapsed": false
   },
   "outputs": [
    {
     "data": {
      "image/png": "[encoded data removed]",
      "text/plain": [
       "<IPython.core.display.Image at 0x1058d5490>"
      ]
     },
     "execution_count": 5,
     "metadata": {},
     "output_type": "execute_result"
    }
   ],
   "source": [
    "from IPython.core.display import Image \n",
    "Image(filename='ArraySlicing.png') "
   ]
  },
  {
   "cell_type": "markdown",
   "metadata": {},
   "source": [
    "Slices Refer the Array Data\n",
    "<UL>\n",
    "<LI> With a as list, a[:] makes a copy of the data\t\n",
    "<LI> With a as array, a[:] is a reference to the data\n",
    "</UL>"
   ]
  },
  {
   "cell_type": "code",
   "execution_count": null,
   "metadata": {
    "collapsed": false
   },
   "outputs": [],
   "source": [
    "print a\n",
    "b = a[1,:]      # extract 2nd column of a\n",
    "print a[1,1]\n",
    "b[1] = 2\n",
    "print a[1,1]"
   ]
  },
  {
   "cell_type": "code",
   "execution_count": null,
   "metadata": {
    "collapsed": false
   },
   "outputs": [],
   "source": [
    "# Take a copy to avoid referencing via slices:\n",
    "b = a[1,:].copy()\n",
    "print a[1,1]\n",
    "b[1] = 7777     # b and a are two different arrays now\n",
    "print a[1,1]\n"
   ]
  },
  {
   "cell_type": "markdown",
   "metadata": {},
   "source": [
    "#### Array Computations"
   ]
  },
  {
   "cell_type": "code",
   "execution_count": null,
   "metadata": {
    "collapsed": false
   },
   "outputs": [],
   "source": [
    "b = 3*a - 1    # a is array, b becomes array"
   ]
  },
  {
   "cell_type": "markdown",
   "metadata": {},
   "source": [
    "The above operation generates a temporary array:\n",
    "<OL>\n",
    "<LI> tb = 3*a\n",
    "<LI> b = tb - 1\n",
    "</OL>\n",
    "As far as possible, we want to avoid the creation\n",
    "  of temporary arrays to limit the memory usage and\n",
    "  to decrease the computational time associated with\n",
    "  with array computations."
   ]
  },
  {
   "cell_type": "code",
   "execution_count": 3,
   "metadata": {
    "collapsed": false
   },
   "outputs": [
    {
     "data": {
      "image/png": "[encoded data removed]",
      "text/plain": [
       "<IPython.core.display.Image at 0x105f669d0>"
      ]
     },
     "execution_count": 3,
     "metadata": {},
     "output_type": "execute_result"
    }
   ],
   "source": [
    "from IPython.core.display import Image \n",
    "Image(filename='Broadcasting.png') "
   ]
  },
  {
   "cell_type": "markdown",
   "metadata": {},
   "source": [
    "#### In-Place Array Arithmetics"
   ]
  },
  {
   "cell_type": "code",
   "execution_count": 27,
   "metadata": {
    "collapsed": false
   },
   "outputs": [],
   "source": [
    "b = a\n",
    "b *= 3  # or multiply(b, 3, b)\n",
    "b -= 1  # or subtract(b, 1, b)"
   ]
  },
  {
   "cell_type": "raw",
   "metadata": {},
   "source": [
    "In-place operations:\n",
    "    \n",
    "   a *= 3.0     # multiply a's elements by 3\n",
    "   a -= 1.0     # subtract 1 from each element\n",
    "   a /= 3.0     # divide each element by 3\n",
    "   a += 1.0     # add 1 to each element\n",
    "   a **= 2.0    # square all elements"
   ]
  },
  {
   "cell_type": "markdown",
   "metadata": {},
   "source": [
    "#### Math Functions and Array Arguments"
   ]
  },
  {
   "cell_type": "raw",
   "metadata": {},
   "source": [
    "   # let b be an array\n",
    "   c = sin(b)    \n",
    "   c = arcsin(c) \n",
    "   c = sinh(b)\n",
    "   # same functions for the cos and tan families\n",
    "   c = b**2.5  # power function\n",
    "   c = log(b)\n",
    "   c = exp(b)\n",
    "   c = sqrt(b)\n",
    "    \n",
    "   # a is an array\n",
    "   a.clip(min=3, max=12)  \t# clip elements\n",
    "   a.mean(); mean(a)     \t# mean value\n",
    "   a.var();  var(a)       \t# variance\n",
    "   a.std();  std(a)        \t# standard deviation\n",
    "   median(a)\n",
    "   cov(x,y)              \t# covariance\n",
    "   trapz(a)              \t# Trapezoidal integration\n",
    "   diff(a)               \t# finite differences (da/dx)"
   ]
  },
  {
   "cell_type": "markdown",
   "metadata": {},
   "source": [
    "#### NumPy Matrices"
   ]
  },
  {
   "cell_type": "code",
   "execution_count": null,
   "metadata": {
    "collapsed": false
   },
   "outputs": [],
   "source": [
    "x1 = np.array([1, 2, 3], float)\n",
    "x2 = np.matrix(x)               # or just mat(x)\n",
    "print x2                        # row vector"
   ]
  },
  {
   "cell_type": "code",
   "execution_count": null,
   "metadata": {
    "collapsed": false
   },
   "outputs": [],
   "source": [
    "x3 = mat(x).transpose()          # column vector\n",
    "print x3\n",
    "type(x3)"
   ]
  },
  {
   "cell_type": "code",
   "execution_count": null,
   "metadata": {
    "collapsed": false
   },
   "outputs": [],
   "source": [
    "A = np.eye(10)                    # identity matrix\n",
    "print A\n",
    "B = np.mat(A)                    # turn array to matrix\n",
    "print B\n",
    "y2 = x2*B                     # vector-matrix product\n",
    "print y2\n",
    "y3 = B*x3                     # matrix-vector product\n",
    "print y3\n"
   ]
  },
  {
   "cell_type": "code",
   "execution_count": null,
   "metadata": {
    "collapsed": false
   },
   "outputs": [],
   "source": [
    "a = np.array([[1,2],[3,4]])\n",
    "print \"a = \", a\n",
    "m = np.mat(a)\n",
    "print \"m = \", m\n",
    "print \"a[0] = \", a[0]\n",
    "print \"m[0] = \", m[0]\n",
    "print \"a*a  = \", a*a\n",
    "print \"m*m  = \", m*m\n",
    "print \"dot  = \", dot(a, a)"
   ]
  },
  {
   "cell_type": "markdown",
   "metadata": {},
   "source": [
    "#### Universal Functions and Loops"
   ]
  },
  {
   "cell_type": "raw",
   "metadata": {},
   "source": [
    "Universal functions run much faster than for loops, which should be avoided whenever possible"
   ]
  },
  {
   "cell_type": "code",
   "execution_count": 40,
   "metadata": {
    "collapsed": false
   },
   "outputs": [],
   "source": [
    "def mult1(a,b):\n",
    "    return a * b\n",
    "\n",
    "def mult2(a,b):\n",
    "    c = np.empty(a.shape)\n",
    "    for i in range(a.shape[0]):\n",
    "        for j in range(a.shape[1]):\n",
    "            c[i,j] = a[i,j] * b[i,j]\n",
    "    return c"
   ]
  },
  {
   "cell_type": "code",
   "execution_count": 38,
   "metadata": {
    "collapsed": false
   },
   "outputs": [],
   "source": [
    "a = np.random.random((800,800))\n",
    "b = np.random.random((800,800))"
   ]
  },
  {
   "cell_type": "code",
   "execution_count": null,
   "metadata": {
    "collapsed": false
   },
   "outputs": [],
   "source": [
    "timeit mult1(a,b)"
   ]
  },
  {
   "cell_type": "code",
   "execution_count": null,
   "metadata": {
    "collapsed": false
   },
   "outputs": [],
   "source": [
    "timeit mult2(a,b)"
   ]
  },
  {
   "cell_type": "markdown",
   "metadata": {},
   "source": [
    "## Reading and writing arrays to disk"
   ]
  },
  {
   "cell_type": "markdown",
   "metadata": {},
   "source": [
    "Numpy lets you read and write arrays into files in a number of ways. In order to use these tools well, it is critical to understand the difference between a text and a binary file containing numerical data. \n",
    "In a text file, the number\n",
    "&pi;\n",
    "could be written as \"3.141592653589793\", for example: a string of digits that a human can read, with in this case 15 decimal digits. In contrast, that same number written to a binary file would be encoded as 8 characters (bytes) that are not readable by a human but which contain the exact same data that the variable pi had in the computer's memory. <P>\n",
    "\n",
    "The tradeoffs between the two modes are thus:\n",
    "<UL>\n",
    "<LI> <B>Text mode</B>: occupies more space, precision can be lost (if not all digits are written to disk), but is readable and editable by hand with a text editor. Can only be used for one- and two-dimensional arrays.\n",
    "<LI> <B>Binary mode</B>: compact and exact representation of the data in memory, can't be read or edited by hand. Arrays of any size and dimensionality can be saved and read without loss of information.\n",
    "</UL>\n",
    "\n",
    "First, let's see how to read and write arrays in text mode. The np.savetxt function saves an array to a text file, with options to control the precision, separators and even adding a header:"
   ]
  },
  {
   "cell_type": "code",
   "execution_count": null,
   "metadata": {
    "collapsed": false
   },
   "outputs": [],
   "source": [
    "arr = np.arange(10).reshape(2, 5)\n",
    "print arr                            \n",
    "np.savetxt('test.out', arr)"
   ]
  },
  {
   "cell_type": "code",
   "execution_count": null,
   "metadata": {
    "collapsed": false
   },
   "outputs": [],
   "source": [
    "!cat test.out"
   ]
  },
  {
   "cell_type": "markdown",
   "metadata": {},
   "source": [
    "And this same type of file can then be read with the matching np.loadtxt function:"
   ]
  },
  {
   "cell_type": "code",
   "execution_count": null,
   "metadata": {
    "collapsed": false
   },
   "outputs": [],
   "source": [
    "arr2 = np.loadtxt('test.out')\n",
    "print arr2"
   ]
  },
  {
   "cell_type": "markdown",
   "metadata": {},
   "source": [
    "You can also use the function np.genfromtxt that deals with missing values"
   ]
  },
  {
   "cell_type": "code",
   "execution_count": null,
   "metadata": {
    "collapsed": false
   },
   "outputs": [],
   "source": [
    "arr3 = np.genfromtxt('test.out', missing_values='0.000000000000000000e+00', usemask=True)\n",
    "print arr3"
   ]
  },
  {
   "cell_type": "markdown",
   "metadata": {},
   "source": [
    "For binary data, Numpy provides the np.save and np.savez routines. \n",
    "The first saves a single array to a file with .npy extension, \n",
    "while the latter can be used to save a group of arrays into a single file with .npz extension. \n",
    "The files created with these routines can then be read with the np.load function.\n",
    "<P>\n",
    "Let us first see how to use the simpler np.save function to save a single array:\n"
   ]
  },
  {
   "cell_type": "code",
   "execution_count": null,
   "metadata": {
    "collapsed": false
   },
   "outputs": [],
   "source": [
    "np.save('test.npy', arr)\n",
    "# Now we read this back\n",
    "arr_loaded = np.load('test.npy')\n",
    "\n",
    "print arr\n",
    "print arr_loaded\n",
    "\n",
    "print arr_loaded.dtype\n",
    "\n",
    "# Let's see if any element is non-zero in the difference.\n",
    "# A value of True would be a problem.\n",
    "print'Any differences?', np.any(arr - arr_loaded)"
   ]
  },
  {
   "cell_type": "markdown",
   "metadata": {},
   "source": [
    "Now let us see how the np.savez_compressed function works."
   ]
  },
  {
   "cell_type": "code",
   "execution_count": null,
   "metadata": {
    "collapsed": false
   },
   "outputs": [],
   "source": [
    "np.savez_compressed('test.npz', first=arr, second=arr2)\n",
    "arrays = np.load('test.npz')\n",
    "arrays.files"
   ]
  },
  {
   "cell_type": "markdown",
   "metadata": {},
   "source": [
    "The object returned by np.load from an .npz file works like a dictionary:"
   ]
  },
  {
   "cell_type": "code",
   "execution_count": null,
   "metadata": {
    "collapsed": false
   },
   "outputs": [],
   "source": [
    "a=arrays['first']\n",
    "b=arrays['second']\n",
    "print 'a = ', a\n",
    "print 'b = ', b"
   ]
  },
  {
   "cell_type": "markdown",
   "metadata": {},
   "source": [
    "This .npz format is a very convenient way to package compactly and without loss of information, into a single file, a group of related arrays that pertain to a specific problem. At some point, however, the complexity of your dataset may be such that the optimal approach is to use one of the standard formats in scientific data processing that have been designed to handle complex datasets, such as NetCDF or HDF5."
   ]
  },
  {
   "cell_type": "code",
   "execution_count": null,
   "metadata": {
    "collapsed": false
   },
   "outputs": [],
   "source": []
  },
  {
   "cell_type": "code",
   "execution_count": null,
   "metadata": {
    "collapsed": false
   },
   "outputs": [],
   "source": []
  }
 ],
 "metadata": {
  "anaconda-cloud": {}
 },
 "nbformat": 4,
 "nbformat_minor": 0
}
