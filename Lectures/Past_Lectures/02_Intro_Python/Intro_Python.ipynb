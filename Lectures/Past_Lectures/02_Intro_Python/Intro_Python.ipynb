{
 "cells": [
  {
   "cell_type": "markdown",
   "metadata": {
    "slideshow": {
     "slide_type": "slide"
    }
   },
   "source": [
    "![NASA](http://www.nasa.gov/sites/all/themes/custom/nasatwo/images/nasa-logo.svg)\n",
    "\n",
    "<center><h1><font size=\"+3\">Fall 2016 Python Training</font></h1></center>\n",
    "\n",
    "---\n",
    "\n",
    "<center>\n",
    "<h2>Introduction to Python</h2>\n",
    "<br>\n",
    "<h6>October 17, 2016</h6>\n",
    "</center>"
   ]
  },
  {
   "cell_type": "markdown",
   "metadata": {
    "slideshow": {
     "slide_type": "slide"
    }
   },
   "source": [
    "# About Python"
   ]
  },
  {
   "cell_type": "markdown",
   "metadata": {
    "slideshow": {
     "slide_type": "subslide"
    }
   },
   "source": [
    "# Why Python?\n",
    "\n",
    "---\n",
    "\n",
    "__Python__ is an elegant and robust programming language that combines the power and flexibility of traditional compiled languages with the ease-of-use of simpler scripting and interpreted languages."
   ]
  },
  {
   "cell_type": "markdown",
   "metadata": {
    "slideshow": {
     "slide_type": "subslide"
    }
   },
   "source": [
    "# What IS Python?\n",
    "\n",
    "---"
   ]
  },
  {
   "cell_type": "markdown",
   "metadata": {
    "slideshow": {
     "slide_type": "fragment"
    }
   },
   "source": [
    "> Python is an interpreted, interactive, object-oriented programming language. - [Source](http://docs.python.org/2/faq/general.html)\n",
    "\n",
    "* Python is named after \"Monty Python's Flying Circus\".\n",
    "* Python was created in 1991 by Guido van Rossum."
   ]
  },
  {
   "cell_type": "markdown",
   "metadata": {
    "slideshow": {
     "slide_type": "fragment"
    }
   },
   "source": [
    "* High level\n",
    "* Interpreted\n",
    "* Scalable\n",
    "* Extensible\n",
    "* Portable\n",
    "* Easy to learn, read and maintain\n",
    "* Versatile"
   ]
  },
  {
   "cell_type": "markdown",
   "metadata": {
    "slideshow": {
     "slide_type": "slide"
    }
   },
   "source": [
    "# Why use Python?\n",
    "\n",
    "---"
   ]
  },
  {
   "cell_type": "markdown",
   "metadata": {
    "slideshow": {
     "slide_type": "fragment"
    }
   },
   "source": [
    "* Free and Open source\n",
    "* Built-in run-time checks\n",
    "* Nested, heterogeneous data structures\n",
    "* Object-Oriented Programing\n",
    "* Support for efficient numerical computing\n",
    "* Can be used to build server-side web applications\n",
    "* Good memory management\n",
    "* Can be integrated with C, C++, Fortran, and Java\n",
    "* Easier to create stand-alone applications on any platform"
   ]
  },
  {
   "cell_type": "markdown",
   "metadata": {
    "slideshow": {
     "slide_type": "slide"
    }
   },
   "source": [
    "# Let's Get Started Using Python!"
   ]
  },
  {
   "cell_type": "markdown",
   "metadata": {
    "slideshow": {
     "slide_type": "slide"
    }
   },
   "source": [
    "# 4 Ways to Run Python Code\n",
    "\n",
    "---"
   ]
  },
  {
   "cell_type": "markdown",
   "metadata": {
    "slideshow": {
     "slide_type": "fragment"
    }
   },
   "source": [
    "1. As a .py script\n",
    "2. Python Shell/Environment\n",
    "3. IPython Shell/Environment\n",
    "4. Jupyter/IPython Notebook\n",
    "\n",
    "__Note:__ Each of these are using the same Python interpreter to change your Python code into machine language (instructions for computers)."
   ]
  },
  {
   "cell_type": "markdown",
   "metadata": {
    "slideshow": {
     "slide_type": "subslide"
    }
   },
   "source": [
    "# As a script\n",
    "\n",
    "---\n",
    "\n",
    "1. Open the helloworld.py script in your text editor to see the contents of this Python script.\n",
    "2. In a terminal/command prompt/Anaconda prompt, type:\n",
    "\n",
    "    ```bash\n",
    "    python helloworld.py\n",
    "    ```\n",
    "\n",
    "3. You should see the output on the screen.\n",
    "\n",
    "__Caveat:__ Your prompt should be at the directory containg the helloworld.py script. Perform an ```ls``` or ```dir``` to see if that file is in your current working directory."
   ]
  },
  {
   "cell_type": "markdown",
   "metadata": {
    "slideshow": {
     "slide_type": "subslide"
    }
   },
   "source": [
    "# The # (Shebang)\n",
    "\n",
    "In scripts (Unix/Linux platforms), you can add a line to the top so you can make the script executable and not have to type `python` to run the script. This, for Python is one of the following:\n",
    "\n",
    "* The Python that comes with Linux/Unix OS:\n",
    "```python\n",
    "#! /usr/bin/python\n",
    "```\n",
    "* The first Python interpreter in your PATH environment variable:\n",
    "```python\n",
    "#! /usr/bin/env python\n",
    "```"
   ]
  },
  {
   "cell_type": "markdown",
   "metadata": {
    "slideshow": {
     "slide_type": "subslide"
    }
   },
   "source": [
    "# In the Python shell\n",
    "\n",
    "---\n",
    "\n",
    "1. Open your terminal/command prompt/Anaconda prompt and type:\n",
    "\n",
    "    ```bash\n",
    "    python\n",
    "    ```\n",
    "\n",
    "2. From this interactive shell, you will notice that the prompt is ```>>>```. This is now allowing us to type Python code directly and execute it.\n",
    "3. Type:\n",
    "\n",
    "    ```python\n",
    "    print('Hello world!')\n",
    "    ```\n",
    "\n",
    "4. You will see the output directly now.\n",
    "5. Exit via __```exit()```__ or __```Ctrl-D```__."
   ]
  },
  {
   "cell_type": "markdown",
   "metadata": {
    "slideshow": {
     "slide_type": "subslide"
    }
   },
   "source": [
    "# In IPython\n",
    "\n",
    "---\n",
    "\n",
    "1. From terminal/command prompt/Anaconda prompt type:\n",
    "\n",
    "    ```bash\n",
    "    ipython\n",
    "    ```\n",
    "\n",
    "2. This is an enhanced interactive shell that has many features (tab-completion, woot!). It has a prompt that is numbered.\n",
    "3. Type:\n",
    "\n",
    "    ```python\n",
    "    print('Hello world!')\n",
    "    ```\n",
    "\n",
    "4. You will also see the output directly now.\n",
    "5. Exit via __```exit()```__ or __```Ctrl-D```__."
   ]
  },
  {
   "cell_type": "markdown",
   "metadata": {
    "slideshow": {
     "slide_type": "subslide"
    }
   },
   "source": [
    "# Jupyter/IPython notebook\n",
    "\n",
    "---\n",
    "\n",
    "1. From terminal/command prompt/Anaconda prompt type:\n",
    "\n",
    "    ```bash\n",
    "    jupyter notebook\n",
    "    ```\n",
    "\n",
    "2. This directs you to a web browser and you can navigate to an already existing notebook or create one (right side menu New -> Python 2).\n",
    "3. This will open up a new Untitled notebook where you can directly input Python code, Markup formatted text, or have raw text.\n",
    "4. Type:\n",
    "\n",
    "    ```python\n",
    "    print('Hello world!')\n",
    "    ```\n",
    "\n",
    "5. Press __```Shift-Enter```__ or click __Cells -> Run Cells__ or use the Play button near the top of the page.\n",
    "6. You will see the output now.\n",
    "7. Exit via closing the browser windows and stopping the server running in the terminal/command prompt."
   ]
  },
  {
   "cell_type": "markdown",
   "metadata": {
    "slideshow": {
     "slide_type": "slide"
    }
   },
   "source": [
    "# Python Basics"
   ]
  },
  {
   "cell_type": "markdown",
   "metadata": {
    "slideshow": {
     "slide_type": "subslide"
    }
   },
   "source": [
    "# Python as a Calculator\n",
    "\n",
    "---"
   ]
  },
  {
   "cell_type": "code",
   "execution_count": null,
   "metadata": {
    "collapsed": true,
    "slideshow": {
     "slide_type": "fragment"
    }
   },
   "outputs": [],
   "source": [
    "-2*(4+9)"
   ]
  },
  {
   "cell_type": "code",
   "execution_count": null,
   "metadata": {
    "collapsed": false,
    "slideshow": {
     "slide_type": "fragment"
    }
   },
   "outputs": [],
   "source": [
    "import math\n",
    "\n",
    "math.pi"
   ]
  },
  {
   "cell_type": "markdown",
   "metadata": {
    "slideshow": {
     "slide_type": "subslide"
    }
   },
   "source": [
    "# Python Imports\n",
    "\n",
    "---"
   ]
  },
  {
   "cell_type": "markdown",
   "metadata": {
    "slideshow": {
     "slide_type": "fragment"
    }
   },
   "source": [
    "Python imports are like libraries/utilities that others have written for you to use. You can import packages (set of scripts) or modules (single scripts).\n",
    "\n",
    "```python\n",
    "import numpy\n",
    "print(numpy)\n",
    "```"
   ]
  },
  {
   "cell_type": "markdown",
   "metadata": {
    "slideshow": {
     "slide_type": "fragment"
    }
   },
   "source": [
    "Import can be renamed to change the namespace.\n",
    "\n",
    "```python\n",
    "import numpy as np\n",
    "print(np)\n",
    "```"
   ]
  },
  {
   "cell_type": "markdown",
   "metadata": {
    "slideshow": {
     "slide_type": "fragment"
    }
   },
   "source": [
    "You can import submodules directly:\n",
    "\n",
    "```python\n",
    "from numpy import ma\n",
    "print(ma)\n",
    "```"
   ]
  },
  {
   "cell_type": "markdown",
   "metadata": {
    "slideshow": {
     "slide_type": "fragment"
    }
   },
   "source": [
    "You can import specific parts of modules as well (i.e., an object, function, or class within the module):\n",
    "\n",
    "```python\n",
    "from numpy.ma import masked_array\n",
    "print(masked_array)\n",
    "```"
   ]
  },
  {
   "cell_type": "markdown",
   "metadata": {
    "slideshow": {
     "slide_type": "subslide"
    }
   },
   "source": [
    "# PEP8\n",
    "\n",
    "The Python Style Guide tells you the best way to perform imports, name functions, and overall coding advice. It used to be called PEP8 (Python Enhancement Proposal 8), but in 2016, it was renamed to pycodestyle.\n",
    "\n",
    "* [PEP8](http://www.python.org/dev/peps/pep-0008/)\n",
    "* [pycodestyle](http://github.com/PyCQA/pycodestyle)\n",
    "* [pep8](http://pep8.readthedocs.io/en/release-1.7.x/) - a Python package that checks your code for you.\n",
    "* [pep8.org](http://pep8.org) - a more human friendly approach"
   ]
  },
  {
   "cell_type": "markdown",
   "metadata": {
    "slideshow": {
     "slide_type": "subslide"
    }
   },
   "source": [
    "# Strings (Short Version)\n",
    "\n",
    "* Single-quotes: `'a string'`\n",
    "* Double-quotes: `\"another string\"`\n",
    "* Joining/concatenation: `'FirstName' + 'LastName'`\n",
    "\n",
    "There are multi-line strings (used also for code commenting):\n",
    "\n",
    "```python\n",
    "'''this\n",
    "is\n",
    "a multi-\n",
    "line string.'''\n",
    "```\n",
    "\n",
    "You can also have Raw strings (where a backslash is a backslash):\n",
    "\n",
    "```python\n",
    "print('   bbb\\raaa')\n",
    "print(r'   bbb\\raaa')\n",
    "```"
   ]
  },
  {
   "cell_type": "markdown",
   "metadata": {
    "slideshow": {
     "slide_type": "subslide"
    }
   },
   "source": [
    "# The Print Statement\n",
    "\n",
    "```python\n",
    "print 'Hi class!'\n",
    "\n",
    "print('Hello, class!')\n",
    "```\n",
    "\n",
    "__Note:__ In Python 3.x, it is a print function (you have to use parentheses).  \n",
    "__Note:__ [Python Clock](http://pythonclock.org)"
   ]
  },
  {
   "cell_type": "markdown",
   "metadata": {
    "slideshow": {
     "slide_type": "subslide"
    }
   },
   "source": [
    "# Sring Fomatting\n",
    "\n",
    "* Old Way (like other languages):\n",
    "    ```python\n",
    "    print('This is a shortened number: %3.2f' % (3.1432953265328))\n",
    "    ```\n",
    "* New Way:\n",
    "    ```python\n",
    "    print('This is a shortened number: {:3.2f}'.format(3.1432953265328))\n",
    "    ```\n",
    "\n",
    "Good resource to compare: [PyFormat](http://pyformat.info)"
   ]
  },
  {
   "cell_type": "markdown",
   "metadata": {
    "slideshow": {
     "slide_type": "subslide"
    }
   },
   "source": [
    "# Data Types\n",
    "\n",
    "* Numbers: float, comples, int, bool\n",
    "* Sequences: list, tuple, str, NumPy arrays\n",
    "* Mappings: dict (dictionary/hash)\n",
    "* Instances: user-defined class\n",
    "* Callables: functions, callable instances"
   ]
  },
  {
   "cell_type": "markdown",
   "metadata": {
    "slideshow": {
     "slide_type": "subslide"
    }
   },
   "source": [
    "# Numerical Expressions\n",
    "\n",
    "* Python distinguishes between strings and numbers:\n",
    "\n",
    "```python\n",
    "b = 1.2            # b is a number\n",
    "b = `1.2`          # b is a string\n",
    "a = 0.5 * b        # illegal: b is NOT converted\n",
    "a = 0.5 * float(b) # this works\n",
    "```"
   ]
  },
  {
   "cell_type": "markdown",
   "metadata": {
    "slideshow": {
     "slide_type": "subslide"
    }
   },
   "source": [
    "# Variables and Data Types\n",
    "\n",
    "| Type | Range | To Define | To Convert |\n",
    "|------|-------|-----------|------------|\n",
    "|float |numbers|x=1.0      |z=float(x)  |\n",
    "|integer|numbers|x=1       |z=int(x)    |\n",
    "|complex|complex numbers|x=3j|z=complex(a,b)|\n",
    "|string|text string|x='test'|z=str(x)|\n",
    "|boolean|True or False|x=True|z=bool(x)|"
   ]
  }
 ],
 "metadata": {
  "anaconda-cloud": {},
  "celltoolbar": "Slideshow",
  "kernelspec": {
   "display_name": "Python [conda root]",
   "language": "python",
   "name": "conda-root-py"
  },
  "language_info": {
   "codemirror_mode": {
    "name": "ipython",
    "version": 2
   },
   "file_extension": ".py",
   "mimetype": "text/x-python",
   "name": "python",
   "nbconvert_exporter": "python",
   "pygments_lexer": "ipython2",
   "version": "2.7.12"
  }
 },
 "nbformat": 4,
 "nbformat_minor": 0
}
