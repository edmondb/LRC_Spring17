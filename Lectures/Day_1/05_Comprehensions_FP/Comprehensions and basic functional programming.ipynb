{
 "cells": [
  {
   "cell_type": "code",
   "execution_count": null,
   "metadata": {
    "collapsed": true
   },
   "outputs": [],
   "source": [
    "from IPython.core.interactiveshell import InteractiveShell\n",
    "InteractiveShell.ast_node_interactivity = \"all\""
   ]
  },
  {
   "cell_type": "markdown",
   "metadata": {},
   "source": [
    "![NASA](http://www.nasa.gov/sites/all/themes/custom/nasatwo/images/nasa-logo.svg)\n",
    "\n",
    "<center><h1><font size=\"+3\">Spring 2017 Python Training</font></h1></center>\n",
    "\n",
    "---\n",
    "\n",
    "<center><h4>Langley Research Center - April 5, 2017</h4></center>"
   ]
  },
  {
   "cell_type": "markdown",
   "metadata": {},
   "source": [
    "# Comprehensions and basic functional programming"
   ]
  },
  {
   "cell_type": "markdown",
   "metadata": {},
   "source": [
    "## List comprehensions\n",
    "List comprehensions are a way to *concisely* transform one list into another. "
   ]
  },
  {
   "cell_type": "markdown",
   "metadata": {},
   "source": [
    "List comprehensions are defined within square brackets, __[ ]__, to help you remember that the\n",
    "result of a *comprehension* is a list."
   ]
  },
  {
   "cell_type": "markdown",
   "metadata": {},
   "source": [
    "General syntax:\n",
    "```python\n",
    "[<expression> for <item> in <sequence> if <condition>]\n",
    "```"
   ]
  },
  {
   "cell_type": "markdown",
   "metadata": {},
   "source": [
    "Examples:"
   ]
  },
  {
   "cell_type": "code",
   "execution_count": null,
   "metadata": {
    "collapsed": true
   },
   "outputs": [],
   "source": [
    "temperatures = [88, 94, 97, 89, 101, 98, 102, 95, 100]"
   ]
  },
  {
   "cell_type": "code",
   "execution_count": null,
   "metadata": {
    "collapsed": false
   },
   "outputs": [],
   "source": [
    "hot_temps = []\n",
    "for t in temperatures:\n",
    "    if t >= 100:\n",
    "        hot_temps.append(t)\n",
    "hot_temps"
   ]
  },
  {
   "cell_type": "code",
   "execution_count": null,
   "metadata": {
    "collapsed": false
   },
   "outputs": [],
   "source": [
    "hot_temps = [t for t in temperatures if t >= 100]\n",
    "hot_temps"
   ]
  },
  {
   "cell_type": "markdown",
   "metadata": {},
   "source": [
    "Unconditional comprehensions:"
   ]
  },
  {
   "cell_type": "code",
   "execution_count": null,
   "metadata": {
    "collapsed": false
   },
   "outputs": [],
   "source": [
    "cubes = list()\n",
    "for x in range(1,10):\n",
    "    cubes.append(x**3)\n",
    "cubes"
   ]
  },
  {
   "cell_type": "code",
   "execution_count": null,
   "metadata": {
    "collapsed": false,
    "scrolled": true
   },
   "outputs": [],
   "source": [
    "cubes = [x**3 for x in range(1,10)]\n",
    "cubes"
   ]
  },
  {
   "cell_type": "markdown",
   "metadata": {},
   "source": [
    "Nested loops:"
   ]
  },
  {
   "cell_type": "code",
   "execution_count": null,
   "metadata": {
    "collapsed": false
   },
   "outputs": [],
   "source": [
    "matrix = [[1,2,3],[4,5,6]]\n",
    "matrix\n",
    "flattened = []\n",
    "for row in matrix:\n",
    "    for n in row:\n",
    "        flattened.append(n)\n",
    "flattened"
   ]
  },
  {
   "cell_type": "code",
   "execution_count": null,
   "metadata": {
    "collapsed": false
   },
   "outputs": [],
   "source": [
    "flattened = [n for row in matrix for n in row]\n",
    "flattened"
   ]
  },
  {
   "cell_type": "markdown",
   "metadata": {},
   "source": [
    "Exercise"
   ]
  },
  {
   "cell_type": "code",
   "execution_count": null,
   "metadata": {
    "collapsed": false
   },
   "outputs": [],
   "source": [
    "# Given a list of temperatures in degrees F\n",
    "temperatures = [88, 94, 97, 89, 101, 98, 102, 95, 100]\n",
    "# Use \"comprehensions\" to compute and print temperatures in Celsius (remember C = (F - 32) * 5/9 )"
   ]
  },
  {
   "cell_type": "markdown",
   "metadata": {},
   "source": [
    "## Lambda, Map, Filter and Reduce"
   ]
  },
  {
   "cell_type": "markdown",
   "metadata": {},
   "source": [
    "### lambda\n",
    "The __lambda__ operator\n",
    "* provides a way to create small __anonymous__ functions\n",
    "\n",
    "### A __lambda__ function\n",
    "* anonymous function\n",
    "* body is limited to one expression\n",
    "* does not use def or return keywords"
   ]
  },
  {
   "cell_type": "code",
   "execution_count": null,
   "metadata": {
    "collapsed": false
   },
   "outputs": [],
   "source": [
    "lambda argument_list: expression\n",
    "\n",
    "# The argument list consists of a comma separated list of arguments and \n",
    "# the expression using these arguments MUST return a value"
   ]
  },
  {
   "cell_type": "code",
   "execution_count": null,
   "metadata": {
    "collapsed": false
   },
   "outputs": [],
   "source": [
    "# Add two numbers\n",
    "def add(x, y):\n",
    "    return x + y\n",
    "add(2, 3)"
   ]
  },
  {
   "cell_type": "code",
   "execution_count": null,
   "metadata": {
    "collapsed": false
   },
   "outputs": [],
   "source": [
    "add = lambda x, y : x + y\n",
    "add(2, 3)"
   ]
  },
  {
   "cell_type": "code",
   "execution_count": null,
   "metadata": {
    "collapsed": false
   },
   "outputs": [],
   "source": [
    "# Max of two numbers\n",
    "def Max(x, y):\n",
    "    if x > y:\n",
    "        return x\n",
    "    else:\n",
    "        return y\n",
    "Max(2, 3)"
   ]
  },
  {
   "cell_type": "code",
   "execution_count": null,
   "metadata": {
    "collapsed": false
   },
   "outputs": [],
   "source": [
    "Max = lambda x, y : x if x > y else y\n",
    "Max(2, 3)"
   ]
  },
  {
   "cell_type": "raw",
   "metadata": {},
   "source": [
    "Exercise:\n",
    "\n",
    "What is the output of a_list?\n",
    "\n",
    "a_list = [(5, 2), (6, 1), (4, 6), (1, 3)]\n",
    "a_list.sort(key=lambda x: x[0]**2 + x[1]*2)\n",
    "a_list"
   ]
  },
  {
   "cell_type": "markdown",
   "metadata": {},
   "source": [
    "* When are they useful?\n",
    "\n",
    "* What can you put in a lamdba?"
   ]
  },
  {
   "cell_type": "markdown",
   "metadata": {},
   "source": [
    "Lambda as a macro"
   ]
  },
  {
   "cell_type": "code",
   "execution_count": null,
   "metadata": {
    "collapsed": false,
    "scrolled": true
   },
   "outputs": [],
   "source": [
    "line1 = \"A cat, a dog  \"\n",
    "line2 = \"  a bird, a mountain\"\n",
    "\n",
    "# Use x as an alias for two methods.\n",
    "x = lambda s: s.strip().upper()\n",
    "\n",
    "# Call the lambda to shorten the program's source.\n",
    "line1b = x(line1)\n",
    "line2b = x(line2)\n",
    "\n",
    "line1b\n",
    "line2b"
   ]
  },
  {
   "cell_type": "markdown",
   "metadata": {},
   "source": [
    "### Map"
   ]
  },
  {
   "cell_type": "markdown",
   "metadata": {},
   "source": [
    "map() is a function with two arguments: "
   ]
  },
  {
   "cell_type": "markdown",
   "metadata": {
    "collapsed": true
   },
   "source": [
    "```cython\n",
    "result = map(function, sequence)\n",
    "```"
   ]
  },
  {
   "cell_type": "markdown",
   "metadata": {},
   "source": [
    "* apply the same function to each element of a sequence\n",
    "* return the modified list"
   ]
  },
  {
   "cell_type": "raw",
   "metadata": {},
   "source": [
    "List [u,v,w], Function g()  --->  map() ---> New list [g(u), g(v), g(w)]"
   ]
  },
  {
   "cell_type": "markdown",
   "metadata": {},
   "source": [
    "A FP replacements to loops"
   ]
  },
  {
   "cell_type": "code",
   "execution_count": null,
   "metadata": {
    "collapsed": false
   },
   "outputs": [],
   "source": [
    "def fahrenheit(T):\n",
    "    return ((float(9)/5)*T + 32)\n",
    "def celsius(T):\n",
    "    return (float(5)/9)*(T-32)\n",
    "temps = (36.5, 37, 37.5,39)\n",
    "\n",
    "F = map(fahrenheit, temps)\n",
    "F\n",
    "C = map(celsius, F)\n",
    "C"
   ]
  },
  {
   "cell_type": "code",
   "execution_count": null,
   "metadata": {
    "collapsed": false
   },
   "outputs": [],
   "source": [
    "F = map(lambda T: (float(9)/5)*T + 32, temps)\n",
    "F\n",
    "C = map(lambda F: (float(5)/9)*(F-32), F)\n",
    "C"
   ]
  },
  {
   "cell_type": "code",
   "execution_count": null,
   "metadata": {
    "collapsed": false
   },
   "outputs": [],
   "source": [
    "# List comprehension solution\n",
    "[((float(9)/5)*t + 32) for t in temps]"
   ]
  },
  {
   "cell_type": "code",
   "execution_count": null,
   "metadata": {
    "collapsed": false
   },
   "outputs": [],
   "source": [
    "# map() can be applied to more than one list. \n",
    "# The lists must have the same length.\n",
    "a = [1,2,3,4]\n",
    "b = [17,12,11,10]\n",
    "c = [-1,-4,5,9]\n",
    "map(lambda x,y:x+y, a,b)\n",
    "\n",
    "map(lambda x,y,z:x+y+z, a,b,c)\n",
    "\n",
    "map(lambda x,y,z:x+y-z, a,b,c)"
   ]
  },
  {
   "cell_type": "markdown",
   "metadata": {},
   "source": [
    "Exercise:\n",
    "\n",
    "Rewrite the segment of code below using list comprehensions and lambda/map functions to generate the list A."
   ]
  },
  {
   "cell_type": "code",
   "execution_count": null,
   "metadata": {
    "collapsed": false
   },
   "outputs": [],
   "source": [
    "words = 'The quick brown fox jumps over the lazy dog'.split()\n",
    "print words\n",
    "A = []\n",
    "for w in words:\n",
    "    A.append([w.upper(), w.lower(), len(w)])\n",
    "\n",
    "for i in A:\n",
    "    print i"
   ]
  },
  {
   "cell_type": "markdown",
   "metadata": {},
   "source": [
    "### Filter"
   ]
  },
  {
   "cell_type": "markdown",
   "metadata": {},
   "source": [
    "filter() is a function with two arguments: "
   ]
  },
  {
   "cell_type": "markdown",
   "metadata": {
    "collapsed": true
   },
   "source": [
    "```cython\n",
    "result = filter(condition, sequence)\n",
    "```"
   ]
  },
  {
   "cell_type": "markdown",
   "metadata": {},
   "source": [
    "* filters elements out of a sequence\n",
    "* return the filtered list"
   ]
  },
  {
   "cell_type": "raw",
   "metadata": {},
   "source": [
    "List [x,y,z], Condition C()  --->  filter() ---> New list[x,z] (that satisfies condition)"
   ]
  },
  {
   "cell_type": "code",
   "execution_count": null,
   "metadata": {
    "collapsed": false
   },
   "outputs": [],
   "source": [
    "numbers = (-2,-1,0,1,2,3,4,5,6)\n",
    "\n",
    "# Print all numbers greater than 2\n",
    "def over_two(inp):\n",
    "    res = [x for x in inp if x > 2]\n",
    "    return res\n",
    "over_two(numbers)"
   ]
  },
  {
   "cell_type": "code",
   "execution_count": null,
   "metadata": {
    "collapsed": false
   },
   "outputs": [],
   "source": [
    "filter(lambda x: x>2, numbers)"
   ]
  },
  {
   "cell_type": "code",
   "execution_count": null,
   "metadata": {
    "collapsed": false
   },
   "outputs": [],
   "source": [
    "# List comprehension solution\n",
    "[x for x in numbers if x > 2]"
   ]
  },
  {
   "cell_type": "code",
   "execution_count": null,
   "metadata": {
    "collapsed": false
   },
   "outputs": [],
   "source": [
    "fib = [0,1,1,2,3,5,8,13,21,34,55]\n",
    "result = filter(lambda x: x % 2, fib)\n",
    "result"
   ]
  },
  {
   "cell_type": "markdown",
   "metadata": {},
   "source": [
    "Exercise:\n",
    "    \n",
    "Use the filter function to remove all the vowels from the sentence"
   ]
  },
  {
   "cell_type": "code",
   "execution_count": null,
   "metadata": {
    "collapsed": true
   },
   "outputs": [],
   "source": [
    "sentence = \"The real voyage of discovery consists not in seeking new landscapes, but in having new eyes.\"\n",
    "vowels = 'aeiou'"
   ]
  },
  {
   "cell_type": "markdown",
   "metadata": {},
   "source": [
    "### Reduce"
   ]
  },
  {
   "cell_type": "markdown",
   "metadata": {},
   "source": [
    "reduce() is a function with two arguments: "
   ]
  },
  {
   "cell_type": "markdown",
   "metadata": {
    "collapsed": true
   },
   "source": [
    "```cython\n",
    "result = reduce(function, sequence)\n",
    "```"
   ]
  },
  {
   "cell_type": "markdown",
   "metadata": {},
   "source": [
    "* applies the same operation to elements of a sequence\n",
    "* uses result of operation as first parameter of next operation\n",
    "* returns a single value - not a list"
   ]
  },
  {
   "cell_type": "raw",
   "metadata": {},
   "source": [
    "List [m,n,p], function f()  --->  reduce() ---> f(f(m,n),p)"
   ]
  },
  {
   "cell_type": "code",
   "execution_count": null,
   "metadata": {
    "collapsed": false
   },
   "outputs": [],
   "source": [
    "numbers = [1,2,3,4,5]\n",
    "\n",
    "# Mutiply a list of numbers\n",
    "def mult(lst):\n",
    "    prod = lst[0]\n",
    "    for i in range(1, len(lst)):\n",
    "        prod *= lst[i]\n",
    "    return prod\n",
    "mult(numbers)"
   ]
  },
  {
   "cell_type": "code",
   "execution_count": null,
   "metadata": {
    "collapsed": false
   },
   "outputs": [],
   "source": [
    "reduce(lambda x,y: x*y, numbers)"
   ]
  },
  {
   "cell_type": "code",
   "execution_count": null,
   "metadata": {
    "collapsed": false
   },
   "outputs": [],
   "source": [
    "vals = [47.0, 11, 42.05, 102.11, 13.75]\n",
    "\n",
    "# Determining the maximum of a list of numerical values by using reduce\n",
    "f = lambda a,b: a if (a > b) else b\n",
    "M = reduce(f, vals)\n",
    "M"
   ]
  },
  {
   "cell_type": "markdown",
   "metadata": {},
   "source": [
    "Exercise\n",
    "\n",
    "Use the reduce function to calculate the sum of the numbers from 1 to n, $\\sum_{i=1}^n i$. Try n=2017."
   ]
  },
  {
   "cell_type": "code",
   "execution_count": null,
   "metadata": {
    "collapsed": true
   },
   "outputs": [],
   "source": []
  }
 ],
 "metadata": {
  "anaconda-cloud": {},
  "kernelspec": {
   "display_name": "Python [conda root]",
   "language": "python",
   "name": "conda-root-py"
  },
  "language_info": {
   "codemirror_mode": {
    "name": "ipython",
    "version": 2
   },
   "file_extension": ".py",
   "mimetype": "text/x-python",
   "name": "python",
   "nbconvert_exporter": "python",
   "pygments_lexer": "ipython2",
   "version": "2.7.12"
  }
 },
 "nbformat": 4,
 "nbformat_minor": 1
}
