{
 "cells": [
  {
   "cell_type": "code",
   "execution_count": null,
   "metadata": {
    "collapsed": true
   },
   "outputs": [],
   "source": [
    "from IPython.core.interactiveshell import InteractiveShell\n",
    "InteractiveShell.ast_node_interactivity = \"all\""
   ]
  },
  {
   "cell_type": "markdown",
   "metadata": {},
   "source": [
    "![NASA](http://www.nasa.gov/sites/all/themes/custom/nasatwo/images/nasa-logo.svg)\n",
    "\n",
    "<center><h1><font size=\"+3\">Spring 2017 Python Training</font></h1></center>\n",
    "\n",
    "---\n",
    "\n",
    "<center><h4>Langley Research Center - April 5, 2017</h4></center>"
   ]
  },
  {
   "cell_type": "markdown",
   "metadata": {},
   "source": [
    "Definition:\n",
    "<font color='blue'>Iterable</font>: An object capable of returning its members one at a time. Examples of iterables include all <font color='blue'>sequence</font> types (such as list, str, and tuple) and some non-sequence types like dict all of which are discussed next."
   ]
  },
  {
   "cell_type": "markdown",
   "metadata": {},
   "source": [
    "# Basic data structures"
   ]
  },
  {
   "cell_type": "markdown",
   "metadata": {},
   "source": [
    "## String*"
   ]
  },
  {
   "cell_type": "markdown",
   "metadata": {},
   "source": [
    "A string is an <font color='blue'>immutable</font> sequence of characters."
   ]
  },
  {
   "cell_type": "code",
   "execution_count": null,
   "metadata": {
    "collapsed": true
   },
   "outputs": [],
   "source": [
    "empty_str = ''  \n",
    "single_char = 'x'\n",
    "single_quot_str = 'The circumference of the circle is 2 pi R'     \n",
    "double_quot_str = \"The circumference of the circle is 2 pi R\"    \n",
    "circum_def = '''The circumference of the circle is 2 pi R '''    # can be split among several lines\n",
    "special_chars = \"\"\" a string with special character \" and ' inside \"\"\"\n",
    "control_chars = \" a string with escaped special character \\\", \\' inside \" # Note the use of the control character \\"
   ]
  },
  {
   "cell_type": "markdown",
   "metadata": {},
   "source": [
    "What does it mean to be immutable?"
   ]
  },
  {
   "cell_type": "code",
   "execution_count": null,
   "metadata": {
    "collapsed": false
   },
   "outputs": [],
   "source": [
    "circum_def\n",
    "id(circum_def)"
   ]
  },
  {
   "cell_type": "code",
   "execution_count": null,
   "metadata": {
    "collapsed": false
   },
   "outputs": [],
   "source": [
    "circum_def = 'The circumference of the circle is 2 pi r'\n",
    "id(circum_def)"
   ]
  },
  {
   "cell_type": "markdown",
   "metadata": {},
   "source": [
    "#### Operating on strings\n",
    "* The + and * operator are overloaded and thus can be used to create new strings\n",
    "* One can also use comparison operators >, >=, < <=, != to compare strings\n",
    "* ... and membership operators in, not in"
   ]
  },
  {
   "cell_type": "code",
   "execution_count": null,
   "metadata": {
    "collapsed": false
   },
   "outputs": [],
   "source": [
    "# Concatenation\n",
    "x = \"hello\"\n",
    "y = \"world\"\n",
    "x + y\n",
    "\n",
    "# Multiplication\n",
    "'#'*10\n",
    "\n",
    "# Comparison\n",
    "'a' < 'b'\n",
    "\n",
    "# Membership\n",
    "'pi' in circum_def"
   ]
  },
  {
   "cell_type": "markdown",
   "metadata": {
    "collapsed": false
   },
   "source": [
    "#### Strings are sequences. \n",
    "For all sequences you can\n",
    "* can get any single character in a string using an index specified in square brackets\n",
    "* can loop over them\n",
    "* can look at and extract contiguous sections of a sequence using a colon operator - slicing"
   ]
  },
  {
   "cell_type": "markdown",
   "metadata": {},
   "source": [
    "#### Indexing"
   ]
  },
  {
   "cell_type": "code",
   "execution_count": null,
   "metadata": {
    "collapsed": false
   },
   "outputs": [],
   "source": [
    "circum_def\n",
    "\n",
    "# Python uses zero-based indexing. Square brackets are used for indexing:\n",
    "circum_def[0]          \n",
    "\n",
    "# random access\n",
    "circum_def[4]          "
   ]
  },
  {
   "cell_type": "markdown",
   "metadata": {},
   "source": [
    "#### Looping"
   ]
  },
  {
   "cell_type": "code",
   "execution_count": null,
   "metadata": {
    "collapsed": false
   },
   "outputs": [],
   "source": [
    "for c in 'hello':\n",
    "    print c,"
   ]
  },
  {
   "cell_type": "markdown",
   "metadata": {},
   "source": [
    "#### Slicing\n",
    "Given a string (or sequence) s, s[start:end:step] is a substring that starts at index 'start' and ends at index 'end-1'"
   ]
  },
  {
   "cell_type": "code",
   "execution_count": null,
   "metadata": {
    "collapsed": false,
    "scrolled": false
   },
   "outputs": [],
   "source": [
    "circum_def[25:30]\n",
    "circum_def[1:20:2]\n",
    "circum_def[-7:-1]"
   ]
  },
  {
   "cell_type": "markdown",
   "metadata": {},
   "source": [
    "#### file IO\n",
    "When you read text from a file (or STDIN) you get - text. This is important to remember when you are reading numerical data and you intend to use it as such."
   ]
  },
  {
   "cell_type": "code",
   "execution_count": null,
   "metadata": {
    "collapsed": false
   },
   "outputs": [],
   "source": [
    "x = raw_input('Enter a number: ')\n",
    "type(x)\n",
    "x+str(1)"
   ]
  },
  {
   "cell_type": "markdown",
   "metadata": {},
   "source": [
    "#### More on strings"
   ]
  },
  {
   "cell_type": "code",
   "execution_count": null,
   "metadata": {
    "collapsed": false
   },
   "outputs": [],
   "source": [
    "circum_def."
   ]
  },
  {
   "cell_type": "code",
   "execution_count": null,
   "metadata": {
    "collapsed": false
   },
   "outputs": [],
   "source": [
    "dir(circum_def)"
   ]
  },
  {
   "cell_type": "markdown",
   "metadata": {},
   "source": [
    "## Lists"
   ]
  },
  {
   "cell_type": "markdown",
   "metadata": {},
   "source": [
    "* A list is an ordered sequence of elements. \n",
    "* Grow and shrink as needed.\n",
    "* Can contain a mix of types\n",
    "* <font color='blue'>mutable</font>."
   ]
  },
  {
   "cell_type": "markdown",
   "metadata": {},
   "source": [
    "Initialization"
   ]
  },
  {
   "cell_type": "code",
   "execution_count": null,
   "metadata": {
    "collapsed": true
   },
   "outputs": [],
   "source": [
    "empty_list = []"
   ]
  },
  {
   "cell_type": "code",
   "execution_count": null,
   "metadata": {
    "collapsed": false,
    "scrolled": true
   },
   "outputs": [],
   "source": [
    "some_primes = [2, 3, 5, 7, 11, 13, 17]\n",
    "shoplist = ['apple', 'mango', 'orange']"
   ]
  },
  {
   "cell_type": "code",
   "execution_count": null,
   "metadata": {
    "collapsed": false
   },
   "outputs": [],
   "source": [
    "# Access elements\n",
    "some_primes[0::2]\n",
    "shoplist[1]\n",
    "shoplist[2:4]"
   ]
  },
  {
   "cell_type": "code",
   "execution_count": null,
   "metadata": {
    "collapsed": false
   },
   "outputs": [],
   "source": [
    "# This is how one iterates over a list\n",
    "for item in shoplist:        \n",
    "    print item,"
   ]
  },
  {
   "cell_type": "code",
   "execution_count": null,
   "metadata": {
    "collapsed": false,
    "scrolled": false
   },
   "outputs": [],
   "source": [
    "for item in (range(len(shoplist)-1,-1,-1)):        \n",
    "    print shoplist[item],"
   ]
  },
  {
   "cell_type": "code",
   "execution_count": null,
   "metadata": {
    "collapsed": false
   },
   "outputs": [],
   "source": [
    "for item in reversed(shoplist):        \n",
    "    print item,"
   ]
  },
  {
   "cell_type": "markdown",
   "metadata": {
    "collapsed": true
   },
   "source": [
    "Sometimes we need to loop over a list and retrieve the element and its correponding index"
   ]
  },
  {
   "cell_type": "code",
   "execution_count": null,
   "metadata": {
    "collapsed": false
   },
   "outputs": [],
   "source": [
    "i = 0\n",
    "for item in shoplist:\n",
    "    print i,'--->',shoplist[i]\n",
    "    i += 1"
   ]
  },
  {
   "cell_type": "code",
   "execution_count": null,
   "metadata": {
    "collapsed": false
   },
   "outputs": [],
   "source": [
    "for i in range(len(shoplist)):\n",
    "    print i, '--->', shoplist[i]"
   ]
  },
  {
   "cell_type": "markdown",
   "metadata": {},
   "source": [
    "The <font color='blue'>enumerate</font> function  gives us an iterable where each element is an object (called a tuple) that contains the index of the item and the original item value."
   ]
  },
  {
   "cell_type": "code",
   "execution_count": null,
   "metadata": {
    "collapsed": false
   },
   "outputs": [],
   "source": [
    "for i, name in enumerate(shoplist, start=1): # optional start=1 argument\n",
    "    print \"item {}: {}\".format(i, name)"
   ]
  },
  {
   "cell_type": "markdown",
   "metadata": {},
   "source": [
    "Looping over two lists."
   ]
  },
  {
   "cell_type": "code",
   "execution_count": null,
   "metadata": {
    "collapsed": false
   },
   "outputs": [],
   "source": [
    "colors = ['red','yellow','orange']\n",
    "for i in range(len(shoplist)):\n",
    "    print shoplist[i], '--->', colors[i]"
   ]
  },
  {
   "cell_type": "markdown",
   "metadata": {},
   "source": [
    "Use <font color='blue'>zip</font>*"
   ]
  },
  {
   "cell_type": "code",
   "execution_count": null,
   "metadata": {
    "collapsed": false
   },
   "outputs": [],
   "source": [
    "for item, color in zip(shoplist, colors):\n",
    "    print item, '--->', color"
   ]
  },
  {
   "cell_type": "markdown",
   "metadata": {},
   "source": [
    "Lists are mutable."
   ]
  },
  {
   "cell_type": "code",
   "execution_count": null,
   "metadata": {
    "collapsed": false
   },
   "outputs": [],
   "source": [
    "print 'I have', len(shoplist), 'items to purchase. The list ID is ',id(shoplist)"
   ]
  },
  {
   "cell_type": "code",
   "execution_count": null,
   "metadata": {
    "collapsed": false
   },
   "outputs": [],
   "source": [
    "print 'I also have to buy a banana.'\n",
    "shoplist.append('banana')\n",
    "print 'My shopping list is now ', shoplist,'The list ID is ',id(shoplist)\n",
    "\n",
    "print 'I will sort my list now'\n",
    "shoplist.sort() # Note that the sort is done ON the list, i.e. it is mutated\n",
    "print 'Sorted shopping list is', shoplist,'The list ID is still ',id(shoplist)\n",
    "\n",
    "# Can also use sorted(x) - does not mutate the original list"
   ]
  },
  {
   "cell_type": "code",
   "execution_count": null,
   "metadata": {
    "collapsed": false
   },
   "outputs": [],
   "source": [
    "# What happens here?\n",
    "shoplist.append('apple')\n",
    "print shoplist"
   ]
  },
  {
   "cell_type": "code",
   "execution_count": null,
   "metadata": {
    "collapsed": false
   },
   "outputs": [],
   "source": [
    "# Extend (like +)\n",
    "veggies = ['carrot','broccoli']\n",
    "shoplist.extend(veggies)\n",
    "print shoplist"
   ]
  },
  {
   "cell_type": "code",
   "execution_count": null,
   "metadata": {
    "collapsed": false
   },
   "outputs": [],
   "source": [
    "# Insert : insert(index, item)\n",
    "shoplist.insert(2, 'pineapple')\n",
    "print shoplist"
   ]
  },
  {
   "cell_type": "markdown",
   "metadata": {
    "collapsed": false
   },
   "source": [
    "More help"
   ]
  },
  {
   "cell_type": "code",
   "execution_count": null,
   "metadata": {
    "collapsed": false
   },
   "outputs": [],
   "source": [
    "shoplist.<TAB>"
   ]
  },
  {
   "cell_type": "code",
   "execution_count": null,
   "metadata": {
    "collapsed": false
   },
   "outputs": [],
   "source": [
    "# Mixed types\n",
    "P = ['Wednesday', 'April', 5, 2017, ('a','b','c')]\n",
    "print P[0:4]\n",
    "print P[4]"
   ]
  },
  {
   "cell_type": "code",
   "execution_count": null,
   "metadata": {
    "collapsed": false
   },
   "outputs": [],
   "source": [
    "# Multi-dimensional list\n",
    "A = [[1, 3], [2, 4], [1, 9], [4, 16]]\n",
    "print A[0]\n",
    "print A[2][0]"
   ]
  },
  {
   "cell_type": "markdown",
   "metadata": {},
   "source": [
    "Exercise\n",
    "\n",
    "Transform the gettysburg_address string into a list whose elements are just the words in the text (no punctuation or special characters). Then print the list and the list length (i.e. number of words in the Gettysburg address). "
   ]
  },
  {
   "cell_type": "code",
   "execution_count": 2,
   "metadata": {
    "collapsed": false
   },
   "outputs": [],
   "source": [
    "gettysburg_address = \"\"\"\n",
    "Four score and seven years ago our fathers brought forth on this continent, \n",
    "a new nation, conceived in Liberty, and dedicated to the proposition that \n",
    "all men are created equal.\n",
    "\n",
    "Now we are engaged in a great civil war, testing whether that nation, or \n",
    "any nation so conceived and so dedicated, can long endure. We are met on\n",
    "a great battle-field of that war. We have come to dedicate a portion of\n",
    "that field, as a final resting place for those who here gave their lives\n",
    "that that nation might live. It is altogether fitting and proper that we\n",
    "should do this.\n",
    "\n",
    "But, in a larger sense, we can not dedicate -- we can not consecrate -- we\n",
    "can not hallow -- this ground. The brave men, living and dead, who struggled\n",
    "here, have consecrated it, far above our poor power to add or detract.  The\n",
    "world will little note, nor long remember what we say here, but it can never\n",
    "forget what they did here. It is for us the living, rather, to be dedicated\n",
    "here to the unfinished work which they who fought here have thus far so nobly\n",
    "advanced. It is rather for us to be here dedicated to the great task remaining\n",
    "before us -- that from these honored dead we take increased devotion to that\n",
    "cause for which they gave the last full measure of devotion -- that we here\n",
    "highly resolve that these dead shall not have died in vain -- that this\n",
    "nation, under God, shall have a new birth of freedom -- and that government\n",
    "of the people, by the people, for the people, shall not perish from the earth.\n",
    "\"\"\""
   ]
  },
  {
   "cell_type": "code",
   "execution_count": 3,
   "metadata": {
    "collapsed": false,
    "scrolled": true
   },
   "outputs": [
    {
     "name": "stdout",
     "output_type": "stream",
     "text": [
      "Help on built-in function split:\n",
      "\n",
      "split(...)\n",
      "    S.split([sep [,maxsplit]]) -> list of strings\n",
      "    \n",
      "    Return a list of the words in the string S, using sep as the\n",
      "    delimiter string.  If maxsplit is given, at most maxsplit\n",
      "    splits are done. If sep is not specified or is None, any\n",
      "    whitespace string is a separator and empty strings are removed\n",
      "    from the result.\n",
      "\n"
     ]
    }
   ],
   "source": [
    "help(gettysburg_address.split)"
   ]
  },
  {
   "cell_type": "code",
   "execution_count": 5,
   "metadata": {
    "collapsed": false
   },
   "outputs": [
    {
     "name": "stdout",
     "output_type": "stream",
     "text": [
      "['Four', 'score', 'and', 'seven', 'years', 'ago', 'our', 'fathers', 'brought', 'forth', 'on', 'this', 'continent', 'a', 'new', 'nation', 'conceived', 'in', 'Liberty', 'and', 'dedicated', 'to', 'the', 'proposition', 'that', 'all', 'men', 'are', 'created', 'equal', 'Now', 'we', 'are', 'engaged', 'in', 'a', 'great', 'civil', 'war', 'testing', 'whether', 'that', 'nation', 'or', 'any', 'nation', 'so', 'conceived', 'and', 'so', 'dedicated', 'can', 'long', 'endure', 'We', 'are', 'met', 'on', 'a', 'great', 'battle-field', 'of', 'that', 'war', 'We', 'have', 'come', 'to', 'dedicate', 'a', 'portion', 'of', 'that', 'field', 'as', 'a', 'final', 'resting', 'place', 'for', 'those', 'who', 'here', 'gave', 'their', 'lives', 'that', 'that', 'nation', 'might', 'live', 'It', 'is', 'altogether', 'fitting', 'and', 'proper', 'that', 'we', 'should', 'do', 'this', 'But', 'in', 'a', 'larger', 'sense', 'we', 'can', 'not', 'dedicate', 'we', 'can', 'not', 'consecrate', 'we', 'can', 'not', 'hallow', 'this', 'ground', 'The', 'brave', 'men', 'living', 'and', 'dead', 'who', 'struggled', 'here', 'have', 'consecrated', 'it', 'far', 'above', 'our', 'poor', 'power', 'to', 'add', 'or', 'detract', 'The', 'world', 'will', 'little', 'note', 'nor', 'long', 'remember', 'what', 'we', 'say', 'here', 'but', 'it', 'can', 'never', 'forget', 'what', 'they', 'did', 'here', 'It', 'is', 'for', 'us', 'the', 'living', 'rather', 'to', 'be', 'dedicated', 'here', 'to', 'the', 'unfinished', 'work', 'which', 'they', 'who', 'fought', 'here', 'have', 'thus', 'far', 'so', 'nobly', 'advanced', 'It', 'is', 'rather', 'for', 'us', 'to', 'be', 'here', 'dedicated', 'to', 'the', 'great', 'task', 'remaining', 'before', 'us', 'that', 'from', 'these', 'honored', 'dead', 'we', 'take', 'increased', 'devotion', 'to', 'that', 'cause', 'for', 'which', 'they', 'gave', 'the', 'last', 'full', 'measure', 'of', 'devotion', 'that', 'we', 'here', 'highly', 'resolve', 'that', 'these', 'dead', 'shall', 'not', 'have', 'died', 'in', 'vain', 'that', 'this', 'nation', 'under', 'God', 'shall', 'have', 'a', 'new', 'birth', 'of', 'freedom', 'and', 'that', 'government', 'of', 'the', 'people', 'by', 'the', 'people', 'for', 'the', 'people', 'shall', 'not', 'perish', 'from', 'the', 'earth']\n",
      "Number of words:  271\n"
     ]
    }
   ],
   "source": [
    "# use split to create a list\n",
    "ga_list = gettysburg_address.split()\n",
    "new_ga_list = []\n",
    "for word in ga_list:\n",
    "# remove punctuation and non-letter characters\n",
    "    w = word.replace(\",\",\"\").replace(\".\",\"\")\n",
    "    if not \"--\" in w:\n",
    "        new_ga_list.append(w)\n",
    "print new_ga_list\n",
    "print \"Number of words: \",len(new_ga_list)"
   ]
  },
  {
   "cell_type": "markdown",
   "metadata": {},
   "source": [
    "## Tuple"
   ]
  },
  {
   "cell_type": "markdown",
   "metadata": {},
   "source": [
    "* A tuple is an ordered sequence of elements. \n",
    "* Used for fixed data\n",
    "* <font color='blue'>immutable</font>."
   ]
  },
  {
   "cell_type": "markdown",
   "metadata": {
    "collapsed": true
   },
   "source": [
    "Initialization"
   ]
  },
  {
   "cell_type": "code",
   "execution_count": null,
   "metadata": {
    "collapsed": true
   },
   "outputs": [],
   "source": [
    "empty_tuple = ()"
   ]
  },
  {
   "cell_type": "code",
   "execution_count": null,
   "metadata": {
    "collapsed": false
   },
   "outputs": [],
   "source": [
    "some_primes = 2, 3, 5, 7, 11, 13    # Parentheses are optional\n",
    "solar_system = ('mercury', 'venus', 'earth', 'mars', 'jupiter', 'saturn', 'uranus', 'neptune')"
   ]
  },
  {
   "cell_type": "code",
   "execution_count": null,
   "metadata": {
    "collapsed": false
   },
   "outputs": [],
   "source": [
    "print 'Number of planets in the solar system is', len(solar_system)"
   ]
  },
  {
   "cell_type": "markdown",
   "metadata": {},
   "source": [
    "Tuples are simple objects. Two methods only:"
   ]
  },
  {
   "cell_type": "code",
   "execution_count": null,
   "metadata": {
    "collapsed": false
   },
   "outputs": [],
   "source": [
    "print solar_system.count('earth')   # to count the number of occurence of a value\n",
    "print solar_system.index('mars')    # to find occurence of a value\n",
    "\n",
    "# Very little overhead -> faster than lists"
   ]
  },
  {
   "cell_type": "markdown",
   "metadata": {
    "collapsed": false
   },
   "source": [
    "Other interest in tuples:\n",
    "    * protect the data, which is immutable (*)\n",
    "    * assigning multiple values\n",
    "    * unpacking data\n",
    "    * tuples can be used as keys on dictionaries"
   ]
  },
  {
   "cell_type": "code",
   "execution_count": null,
   "metadata": {
    "collapsed": false
   },
   "outputs": [],
   "source": [
    "# (*)\n",
    "solar_system_list = ['mercury', 'venus', 'earth', 'mars', 'jupiter', 'saturn', 'uranus', 'neptune']\n",
    "\n",
    "a_mutable_tuple = (solar_system_list, 'pluto')\n",
    "a_mutable_tuple[0][2] = 'EARTH'\n",
    "a_mutable_tuple"
   ]
  },
  {
   "cell_type": "code",
   "execution_count": null,
   "metadata": {
    "collapsed": false
   },
   "outputs": [],
   "source": [
    "# Assigning multiple values\n",
    "(x, y, z) = ['a','b','c']\n",
    "x, y, z"
   ]
  },
  {
   "cell_type": "code",
   "execution_count": null,
   "metadata": {
    "collapsed": false
   },
   "outputs": [],
   "source": [
    "# Unpacking data\n",
    "data  = (1,2,3)\n",
    "data"
   ]
  },
  {
   "cell_type": "markdown",
   "metadata": {},
   "source": [
    "Tuples are sequences:"
   ]
  },
  {
   "cell_type": "code",
   "execution_count": null,
   "metadata": {
    "collapsed": false
   },
   "outputs": [],
   "source": [
    "# Access elements\n",
    "solar_system[4]"
   ]
  },
  {
   "cell_type": "code",
   "execution_count": null,
   "metadata": {
    "collapsed": false
   },
   "outputs": [],
   "source": [
    "solar_system[0:3]"
   ]
  },
  {
   "cell_type": "code",
   "execution_count": null,
   "metadata": {
    "collapsed": false
   },
   "outputs": [],
   "source": [
    "k = 0\n",
    "while k < len(solar_system):\n",
    "    print solar_system[k]\n",
    "    k += 1"
   ]
  },
  {
   "cell_type": "markdown",
   "metadata": {},
   "source": [
    "## Dictionary"
   ]
  },
  {
   "cell_type": "markdown",
   "metadata": {},
   "source": [
    "* A dictionary is an associative data structure of variable length.\n",
    "* Data is unordered, so elements are accessed by an associated key value.\n",
    "* <font color='blue'>mutable</font>."
   ]
  },
  {
   "cell_type": "markdown",
   "metadata": {},
   "source": [
    "Initialization"
   ]
  },
  {
   "cell_type": "code",
   "execution_count": null,
   "metadata": {
    "collapsed": true
   },
   "outputs": [],
   "source": [
    "empty_dict = {}"
   ]
  },
  {
   "cell_type": "code",
   "execution_count": null,
   "metadata": {
    "collapsed": false
   },
   "outputs": [],
   "source": [
    "daily_temps = {'mon': 70.2, 'tue': 67.2, 'wed': 71.8, 'thur': 73.2, 'fri': 75.6}\n",
    "\n",
    "daily_temps = dict([('mon', 70.2), ('tue', 67.2), ('wed', 71.8), ('thur', 73.2), ('fri', 75.6)])\n",
    "\n",
    "daily_temps = dict(mon=70.2, tue=67.2, wed=71.8, thur=73.2, fri=75.6)\n",
    "\n",
    "days = ['mon', 'tue', 'wed','thu','fri']\n",
    "temps = [70.2, 67.2, 71.8, 73.2, 75.6]\n",
    "daily_temps = dict(zip(days, temps))"
   ]
  },
  {
   "cell_type": "markdown",
   "metadata": {},
   "source": [
    "Note that you can use only immutable objects for the keys of a dictionary but you can use either immutable or mutable objects for the values of the dictionary. "
   ]
  },
  {
   "cell_type": "code",
   "execution_count": null,
   "metadata": {
    "collapsed": false
   },
   "outputs": [],
   "source": [
    "# Access elements\n",
    "# Location at given key stores desired element in the dictionary. Square brackets are used for accessing elements:\n",
    "daily_temps['mon']"
   ]
  },
  {
   "cell_type": "code",
   "execution_count": null,
   "metadata": {
    "collapsed": false
   },
   "outputs": [],
   "source": [
    "daily_temps.keys()"
   ]
  },
  {
   "cell_type": "code",
   "execution_count": null,
   "metadata": {
    "collapsed": false
   },
   "outputs": [],
   "source": [
    "daily_temps.values()"
   ]
  },
  {
   "cell_type": "code",
   "execution_count": null,
   "metadata": {
    "collapsed": false
   },
   "outputs": [],
   "source": [
    "daily_temps.items()"
   ]
  },
  {
   "cell_type": "code",
   "execution_count": null,
   "metadata": {
    "collapsed": false
   },
   "outputs": [],
   "source": [
    "daily_temps.has_key('sun')"
   ]
  },
  {
   "cell_type": "markdown",
   "metadata": {},
   "source": [
    "The specific location that a value is stored is determined by a particular method of converting key values into index values called <font color='red'>hashing</font>. Thus, key values must be hashable. A requirement for a data type to be hashable is that the type must be immutable."
   ]
  },
  {
   "cell_type": "code",
   "execution_count": null,
   "metadata": {
    "collapsed": false
   },
   "outputs": [],
   "source": [
    "temps = {('April',3,2017): 70.2, ('April',4,2017): 67.2, ('April',5,2017): 71.8}\n",
    "temps[('April',3,2017)]"
   ]
  },
  {
   "cell_type": "markdown",
   "metadata": {},
   "source": [
    "Looping over a dictionary:"
   ]
  },
  {
   "cell_type": "code",
   "execution_count": null,
   "metadata": {
    "collapsed": true
   },
   "outputs": [],
   "source": [
    "# To loop all the keys from a dictionary \n",
    "for k in dict:\n",
    "    print k"
   ]
  },
  {
   "cell_type": "code",
   "execution_count": null,
   "metadata": {
    "collapsed": false
   },
   "outputs": [],
   "source": [
    "for day in daily_temps:\n",
    "    print day"
   ]
  },
  {
   "cell_type": "code",
   "execution_count": null,
   "metadata": {
    "collapsed": false
   },
   "outputs": [],
   "source": [
    "for day in daily_temps:\n",
    "    if day.startswith('w'):\n",
    "        print daily_temps[day]"
   ]
  },
  {
   "cell_type": "code",
   "execution_count": null,
   "metadata": {
    "collapsed": true
   },
   "outputs": [],
   "source": [
    "# To loop every key and value from a dictionary\n",
    "for k, v in dict.items():\n",
    "    print k, v"
   ]
  },
  {
   "cell_type": "code",
   "execution_count": null,
   "metadata": {
    "collapsed": false
   },
   "outputs": [],
   "source": [
    "for day, temp in daily_temps.items():\n",
    "    print day, temp"
   ]
  },
  {
   "cell_type": "code",
   "execution_count": null,
   "metadata": {
    "collapsed": false
   },
   "outputs": [],
   "source": [
    "# What will the following program produce:\n",
    "colors = ['red','orange','yellow','green','blue','indigo','violet']\n",
    "d = {}\n",
    "for color in colors:\n",
    "    key = len(color)\n",
    "    if key not in d:\n",
    "        d[key] = []\n",
    "    d[key].append(color)\n",
    "d"
   ]
  },
  {
   "cell_type": "markdown",
   "metadata": {},
   "source": [
    "Exercise:\n",
    "\n",
    "Given the scrabble scores dictionary, write a program to compute the value of any word. For word='Python' the score is 14."
   ]
  },
  {
   "cell_type": "code",
   "execution_count": 51,
   "metadata": {
    "collapsed": true
   },
   "outputs": [],
   "source": [
    "scores = {\"a\": 1, \"c\": 3, \"b\": 3, \"e\": 1, \"d\": 2, \"g\": 2,\n",
    "         \"f\": 4, \"i\": 1, \"h\": 4, \"k\": 5, \"j\": 8, \"m\": 3,\n",
    "         \"l\": 1, \"o\": 1, \"n\": 1, \"q\": 10, \"p\": 3, \"s\": 1,\n",
    "         \"r\": 1, \"u\": 1, \"t\": 1, \"w\": 4, \"v\": 4, \"y\": 4,\n",
    "         \"x\": 8, \"z\": 10}\n",
    "word = 'Python'"
   ]
  },
  {
   "cell_type": "code",
   "execution_count": 53,
   "metadata": {
    "collapsed": false
   },
   "outputs": [
    {
     "data": {
      "text/plain": [
       "14"
      ]
     },
     "execution_count": 53,
     "metadata": {},
     "output_type": "execute_result"
    }
   ],
   "source": [
    "# Write your program here\n",
    "score = 0\n",
    "for c in word:\n",
    "    score += scores[c.lower()]\n",
    "score"
   ]
  },
  {
   "cell_type": "markdown",
   "metadata": {
    "collapsed": true
   },
   "source": [
    "## Set"
   ]
  },
  {
   "cell_type": "markdown",
   "metadata": {},
   "source": [
    "* A sequence used to store non-duplicate data.\n",
    "* Data is unordered, accesed via indexing.\n",
    "* <font color='blue'>mutable</font>."
   ]
  },
  {
   "cell_type": "markdown",
   "metadata": {},
   "source": [
    "Initialization"
   ]
  },
  {
   "cell_type": "code",
   "execution_count": null,
   "metadata": {
    "collapsed": true
   },
   "outputs": [],
   "source": [
    "empty_set = ()\n",
    "empty_set_too = {}\n",
    "fibo = {1,1,2,3,5}\n",
    "some_primes = [1,1,2,3,5]\n",
    "primes = set(some_primes)"
   ]
  },
  {
   "cell_type": "code",
   "execution_count": null,
   "metadata": {
    "collapsed": false
   },
   "outputs": [],
   "source": [
    "fibo\n",
    "primes"
   ]
  },
  {
   "cell_type": "markdown",
   "metadata": {},
   "source": [
    "Mathematical set operations"
   ]
  },
  {
   "cell_type": "code",
   "execution_count": null,
   "metadata": {
    "collapsed": true
   },
   "outputs": [],
   "source": [
    "a = set([1, 2, 3, 4])\n",
    "b = set([3, 4, 5, 6])"
   ]
  },
  {
   "cell_type": "code",
   "execution_count": null,
   "metadata": {
    "collapsed": false
   },
   "outputs": [],
   "source": [
    "a | b # Union or a.union(b)"
   ]
  },
  {
   "cell_type": "code",
   "execution_count": null,
   "metadata": {
    "collapsed": false
   },
   "outputs": [],
   "source": [
    "a & b # Intersection  or a.intersection(b)"
   ]
  },
  {
   "cell_type": "code",
   "execution_count": null,
   "metadata": {
    "collapsed": false
   },
   "outputs": [],
   "source": [
    "a < b # Subset or a.issubset(b)"
   ]
  },
  {
   "cell_type": "code",
   "execution_count": null,
   "metadata": {
    "collapsed": false
   },
   "outputs": [],
   "source": [
    "a - b # Difference or a.difference(b)"
   ]
  },
  {
   "cell_type": "markdown",
   "metadata": {
    "collapsed": false
   },
   "source": [
    "Exercise:\n",
    "\n",
    "Use set() to compute the number of unique words in the \"Gettysburg address\". \n",
    "\n",
    "Extra credit: How many of each are there? (Hint: you need a dictionary)"
   ]
  },
  {
   "cell_type": "code",
   "execution_count": 7,
   "metadata": {
    "collapsed": false
   },
   "outputs": [
    {
     "name": "stdout",
     "output_type": "stream",
     "text": [
      "Number of unique words:  142\n"
     ]
    },
    {
     "data": {
      "text/plain": [
       "{'But': 1,\n",
       " 'Four': 1,\n",
       " 'God': 1,\n",
       " 'It': 3,\n",
       " 'Liberty': 1,\n",
       " 'Now': 1,\n",
       " 'The': 2,\n",
       " 'We': 2,\n",
       " 'a': 7,\n",
       " 'above': 1,\n",
       " 'add': 1,\n",
       " 'advanced': 1,\n",
       " 'ago': 1,\n",
       " 'all': 1,\n",
       " 'altogether': 1,\n",
       " 'and': 6,\n",
       " 'any': 1,\n",
       " 'are': 3,\n",
       " 'as': 1,\n",
       " 'battle-field': 1,\n",
       " 'be': 2,\n",
       " 'before': 1,\n",
       " 'birth': 1,\n",
       " 'brave': 1,\n",
       " 'brought': 1,\n",
       " 'but': 1,\n",
       " 'by': 1,\n",
       " 'can': 5,\n",
       " 'cause': 1,\n",
       " 'civil': 1,\n",
       " 'come': 1,\n",
       " 'conceived': 2,\n",
       " 'consecrate': 1,\n",
       " 'consecrated': 1,\n",
       " 'continent': 1,\n",
       " 'created': 1,\n",
       " 'dead': 3,\n",
       " 'dedicate': 2,\n",
       " 'dedicated': 4,\n",
       " 'detract': 1,\n",
       " 'devotion': 2,\n",
       " 'did': 1,\n",
       " 'died': 1,\n",
       " 'do': 1,\n",
       " 'earth': 1,\n",
       " 'endure': 1,\n",
       " 'engaged': 1,\n",
       " 'equal': 1,\n",
       " 'far': 2,\n",
       " 'fathers': 1,\n",
       " 'field': 1,\n",
       " 'final': 1,\n",
       " 'fitting': 1,\n",
       " 'for': 5,\n",
       " 'forget': 1,\n",
       " 'forth': 1,\n",
       " 'fought': 1,\n",
       " 'freedom': 1,\n",
       " 'from': 2,\n",
       " 'full': 1,\n",
       " 'gave': 2,\n",
       " 'government': 1,\n",
       " 'great': 3,\n",
       " 'ground': 1,\n",
       " 'hallow': 1,\n",
       " 'have': 5,\n",
       " 'here': 8,\n",
       " 'highly': 1,\n",
       " 'honored': 1,\n",
       " 'in': 4,\n",
       " 'increased': 1,\n",
       " 'is': 3,\n",
       " 'it': 2,\n",
       " 'larger': 1,\n",
       " 'last': 1,\n",
       " 'little': 1,\n",
       " 'live': 1,\n",
       " 'lives': 1,\n",
       " 'living': 2,\n",
       " 'long': 2,\n",
       " 'measure': 1,\n",
       " 'men': 2,\n",
       " 'met': 1,\n",
       " 'might': 1,\n",
       " 'nation': 5,\n",
       " 'never': 1,\n",
       " 'new': 2,\n",
       " 'nobly': 1,\n",
       " 'nor': 1,\n",
       " 'not': 5,\n",
       " 'note': 1,\n",
       " 'of': 5,\n",
       " 'on': 2,\n",
       " 'or': 2,\n",
       " 'our': 2,\n",
       " 'people': 3,\n",
       " 'perish': 1,\n",
       " 'place': 1,\n",
       " 'poor': 1,\n",
       " 'portion': 1,\n",
       " 'power': 1,\n",
       " 'proper': 1,\n",
       " 'proposition': 1,\n",
       " 'rather': 2,\n",
       " 'remaining': 1,\n",
       " 'remember': 1,\n",
       " 'resolve': 1,\n",
       " 'resting': 1,\n",
       " 'say': 1,\n",
       " 'score': 1,\n",
       " 'sense': 1,\n",
       " 'seven': 1,\n",
       " 'shall': 3,\n",
       " 'should': 1,\n",
       " 'so': 3,\n",
       " 'struggled': 1,\n",
       " 'take': 1,\n",
       " 'task': 1,\n",
       " 'testing': 1,\n",
       " 'that': 13,\n",
       " 'the': 9,\n",
       " 'their': 1,\n",
       " 'these': 2,\n",
       " 'they': 3,\n",
       " 'this': 4,\n",
       " 'those': 1,\n",
       " 'thus': 1,\n",
       " 'to': 8,\n",
       " 'under': 1,\n",
       " 'unfinished': 1,\n",
       " 'us': 3,\n",
       " 'vain': 1,\n",
       " 'war': 2,\n",
       " 'we': 8,\n",
       " 'what': 2,\n",
       " 'whether': 1,\n",
       " 'which': 2,\n",
       " 'who': 3,\n",
       " 'will': 1,\n",
       " 'work': 1,\n",
       " 'world': 1,\n",
       " 'years': 1}"
      ]
     },
     "execution_count": 7,
     "metadata": {},
     "output_type": "execute_result"
    }
   ],
   "source": [
    "gettysburg_address\n",
    "new_ga_list # Result from previous exercise\n",
    "unique_words = set(new_ga_list)\n",
    "print \"Number of unique words: \",len(unique_words)\n",
    "word_counts = {}\n",
    "for w in unique_words:\n",
    "    word_counts[w] = new_ga_list.count(w)\n",
    "word_counts"
   ]
  },
  {
   "cell_type": "markdown",
   "metadata": {
    "collapsed": true
   },
   "source": [
    "                                                                                           "
   ]
  }
 ],
 "metadata": {
  "anaconda-cloud": {},
  "kernelspec": {
   "display_name": "Python [conda root]",
   "language": "python",
   "name": "conda-root-py"
  },
  "language_info": {
   "codemirror_mode": {
    "name": "ipython",
    "version": 2
   },
   "file_extension": ".py",
   "mimetype": "text/x-python",
   "name": "python",
   "nbconvert_exporter": "python",
   "pygments_lexer": "ipython2",
   "version": "2.7.12"
  }
 },
 "nbformat": 4,
 "nbformat_minor": 1
}
