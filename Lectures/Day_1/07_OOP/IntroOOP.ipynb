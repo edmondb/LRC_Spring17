{
 "cells": [
  {
   "cell_type": "markdown",
   "metadata": {},
   "source": [
    "![NASA](http://www.nasa.gov/sites/all/themes/custom/nasatwo/images/nasa-logo.svg)\n",
    "\n",
    "<center><h1><font size=\"+3\">Spring 2017 Python Training</font></h1></center>\n",
    "\n",
    "---\n",
    "\n",
    "<center><h4>Langley Research Center - April 5, 2017</h4></center>"
   ]
  },
  {
   "cell_type": "markdown",
   "metadata": {},
   "source": [
    "# Introduction to Object-Oriented Programming\n",
    "\n",
    "---\n",
    "\n",
    "Everything in Python is an object."
   ]
  },
  {
   "cell_type": "markdown",
   "metadata": {},
   "source": [
    "### The object\n",
    "\n",
    "---\n",
    "\n",
    "* The class/object is a fundamental building block of Python.\n",
    "* An object is created by instantiating/initializing a class.\n",
    "* A class is simply a logical grouping of data and/or functions."
   ]
  },
  {
   "cell_type": "code",
   "execution_count": null,
   "metadata": {
    "collapsed": false
   },
   "outputs": [],
   "source": [
    "help(object)"
   ]
  },
  {
   "cell_type": "markdown",
   "metadata": {},
   "source": [
    "Objects come into the role of structuring a Python program:\n",
    "\n",
    "* Simple short scripts can be just stright-line code -- __Do this one thing! BAM!__\n",
    "* Longer tasks might have a recurring sub-task: __Call this function__\n",
    "* If multiple functions can be grouped into one file: __use this module__\n",
    "* __Classes__ come when we need higher levels of structure. Think of these as blueprints for creating an object.\n",
    "\n",
    "```python\n",
    "class MyObject(object):\n",
    "    # put functions and data here\n",
    "```"
   ]
  },
  {
   "cell_type": "code",
   "execution_count": null,
   "metadata": {
    "collapsed": false
   },
   "outputs": [],
   "source": [
    "print(object.__doc__)"
   ]
  },
  {
   "cell_type": "markdown",
   "metadata": {},
   "source": [
    "### Class Creation Style\n",
    "\n",
    "---\n",
    "\n",
    "__Python 3.x:__  \n",
    "class MyClass(object): = new-style class  \n",
    "class MyClass: = new-style class (implicitly inherits from object)\n",
    "\n",
    "__Python 2.x:__  \n",
    "class MyClass(object): = new-style class  \n",
    "class MyClass: = OLD-STYLE CLASS (doesn't inherit from object)\n",
    "\n",
    "[Source](http://stackoverflow.com/a/9448136)"
   ]
  },
  {
   "cell_type": "code",
   "execution_count": null,
   "metadata": {
    "collapsed": false
   },
   "outputs": [],
   "source": [
    "class MyObject(object):\n",
    "    pass\n",
    "\n",
    "mo = MyObject()\n",
    "\n",
    "print(type(mo))"
   ]
  },
  {
   "cell_type": "markdown",
   "metadata": {},
   "source": [
    "### An Example\n",
    "\n",
    "---"
   ]
  },
  {
   "cell_type": "code",
   "execution_count": null,
   "metadata": {
    "collapsed": false
   },
   "outputs": [],
   "source": [
    "class Customer(object):\n",
    "    def __init__(self, balance=0.0):\n",
    "        self.balance = balance\n",
    "    \n",
    "    def get_balance(self):\n",
    "        return self.balance\n",
    "\n",
    "bob = Customer()\n",
    "print(bob.get_balance())\n",
    "\n",
    "betty = Customer(balance=100.0)\n",
    "print(betty.get_balance())"
   ]
  },
  {
   "cell_type": "markdown",
   "metadata": {},
   "source": [
    "Here, we created a class called Customer giving it an __attribute__ of `balance` (with a default of 0.0) and two __functions/methods__ of `get_balance` and `__init__`. Here, `__init__` is an initialization method which is run when we create a new Customer object."
   ]
  },
  {
   "cell_type": "markdown",
   "metadata": {},
   "source": [
    "### `self`\n",
    "\n",
    "---\n",
    "\n",
    "`self` in the example before is a parameter ties the method to the particular instance. Like, when we call `get_balance` we want to know which object we are calling from, either `bob` or `betty`. What is strange though, you can put almost any name there and it still will work:\n",
    "\n",
    "```python\n",
    "class Customer(object):\n",
    "    def__init__(blah, balance=0.0):\n",
    "        blah.balance = balance\n",
    "        \n",
    "    def get_balance(blah):\n",
    "        return blah.balance\n",
    "```\n",
    "\n",
    "I do not recommend changing it though because `self` is the most widely accepted and descriptive word to use here."
   ]
  },
  {
   "cell_type": "markdown",
   "metadata": {},
   "source": [
    "### Inheritance\n",
    "\n",
    "---\n",
    "\n",
    "Going back to that `__init__` method, we can ask the question: What if there is no initialization method in a class?"
   ]
  },
  {
   "cell_type": "code",
   "execution_count": null,
   "metadata": {
    "collapsed": false
   },
   "outputs": [],
   "source": [
    "class Animal(object):\n",
    "    def walk(self):\n",
    "        return 'Animal walked 2 steps.'\n",
    "\n",
    "april_the_giraffe = Animal()\n",
    "print(april_the_giraffe.walk())"
   ]
  },
  {
   "cell_type": "markdown",
   "metadata": {},
   "source": [
    "So, how did this object `april_the_giraffe` get created? Inheritance allows us to overwrite the functionality of pre-existing attributes or methods from the parent class, here `object`."
   ]
  },
  {
   "cell_type": "code",
   "execution_count": null,
   "metadata": {
    "collapsed": false
   },
   "outputs": [],
   "source": [
    "print('__init__' in dir(object))\n",
    "\n",
    "print(dir(object))\n",
    "print(object.__doc__)"
   ]
  },
  {
   "cell_type": "markdown",
   "metadata": {},
   "source": [
    "So, `object` actually had an `__init__` method to begin with and in our `Customer` class before, we have overwritten the behavior of the `object`'s `__init__` method. In our `Animal` class, we have inherited it."
   ]
  }
 ],
 "metadata": {
  "anaconda-cloud": {},
  "kernelspec": {
   "display_name": "Python [default]",
   "language": "python",
   "name": "python2"
  },
  "language_info": {
   "codemirror_mode": {
    "name": "ipython",
    "version": 2
   },
   "file_extension": ".py",
   "mimetype": "text/x-python",
   "name": "python",
   "nbconvert_exporter": "python",
   "pygments_lexer": "ipython2",
   "version": "2.7.12"
  }
 },
 "nbformat": 4,
 "nbformat_minor": 2
}
