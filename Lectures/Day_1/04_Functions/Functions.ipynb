{
 "cells": [
  {
   "cell_type": "markdown",
   "metadata": {
    "slideshow": {
     "slide_type": "slide"
    }
   },
   "source": [
    "![NASA](http://www.nasa.gov/sites/all/themes/custom/nasatwo/images/nasa-logo.svg)\n",
    "\n",
    "<center><h1><font size=\"+3\">Spring 2017 Python Training</font></h1></center>\n",
    "\n",
    "---\n",
    "\n",
    "<center><h4>Langley Research Center - April 5, 2017</h4></center>"
   ]
  },
  {
   "cell_type": "markdown",
   "metadata": {
    "slideshow": {
     "slide_type": "slide"
    }
   },
   "source": [
    "# Functions\n",
    "\n",
    "---\n",
    "\n",
    "```python\n",
    "def function_name(arguments):\n",
    "    # Python code\n",
    "\n",
    "    return object\n",
    "```"
   ]
  },
  {
   "cell_type": "markdown",
   "metadata": {
    "slideshow": {
     "slide_type": "subslide"
    }
   },
   "source": [
    "# Why have functions?\n",
    "\n",
    "---\n",
    "\n",
    "Functions allow us to reuse code many times repeatedly, or, more importantly, across different situations. Let's see this second capability in an example:"
   ]
  },
  {
   "cell_type": "code",
   "execution_count": null,
   "metadata": {
    "collapsed": true,
    "slideshow": {
     "slide_type": "fragment"
    }
   },
   "outputs": [],
   "source": [
    "def my_function(x):\n",
    "    print(x**2)\n",
    "\n",
    "\n",
    "a = 5\n",
    "b = 'a string '\n",
    "\n",
    "my_function(a)\n",
    "my_function(b)"
   ]
  },
  {
   "cell_type": "markdown",
   "metadata": {
    "slideshow": {
     "slide_type": "subslide"
    }
   },
   "source": [
    "Functions allow us to reuse code:"
   ]
  },
  {
   "cell_type": "code",
   "execution_count": null,
   "metadata": {
    "collapsed": false,
    "slideshow": {
     "slide_type": "fragment"
    }
   },
   "outputs": [],
   "source": [
    "def f(x):\n",
    "    # note the use of a return statement\n",
    "    return x * x\n",
    "\n",
    "print(f(3))\n",
    "print(f(3) + f(4))\n",
    "print(f(f(f(f(f(2))))))"
   ]
  },
  {
   "cell_type": "markdown",
   "metadata": {
    "slideshow": {
     "slide_type": "slide"
    }
   },
   "source": [
    "# Arguments\n",
    "\n",
    "---\n",
    "\n",
    "Functions allow the following types of arguments between the `()`'s:\n",
    "\n",
    "* No arguments\n",
    "* Positional Arguments - order sensitive\n",
    "* Keyword Arguments - named variables (can have default values)\n",
    "* `*args` - a tuple of variable length\n",
    "* `**kwargs` - a dictionary of keyword arguments"
   ]
  },
  {
   "cell_type": "code",
   "execution_count": null,
   "metadata": {
    "collapsed": true,
    "slideshow": {
     "slide_type": "subslide"
    }
   },
   "outputs": [],
   "source": [
    "# no arguments (useful for grouping codes)\n",
    "def driver():\n",
    "    # get user input\n",
    "    # check user input\n",
    "    # use input to perform specific operations\n",
    "    # any output\n",
    "    # checks or summaries\n",
    "    # exit\n",
    "\n",
    "if __name__ == '__main__':\n",
    "    driver()"
   ]
  },
  {
   "cell_type": "code",
   "execution_count": null,
   "metadata": {
    "collapsed": true,
    "slideshow": {
     "slide_type": "subslide"
    }
   },
   "outputs": [],
   "source": [
    "# positional arguments (expect specific variables)\n",
    "def sum(x, y):\n",
    "    return x + y\n",
    "\n",
    "print(sum(4, 248))"
   ]
  },
  {
   "cell_type": "code",
   "execution_count": null,
   "metadata": {
    "collapsed": true,
    "slideshow": {
     "slide_type": "subslide"
    }
   },
   "outputs": [],
   "source": [
    "# keyword arguments (with defaults usually; variable length (like reading a file))\n",
    "def student_title(fname='Bob', lname='Brown'):\n",
    "    print('{:<10}, {:>20}'.format(fname.capitalize(), lname.capitalize))\n",
    "\n",
    "student_title(lname='Smith')"
   ]
  },
  {
   "cell_type": "markdown",
   "metadata": {
    "slideshow": {
     "slide_type": "subslide"
    }
   },
   "source": [
    "# A small note about defaults\n",
    "\n",
    "---\n",
    "\n",
    "```python\n",
    "def f(x=1):\n",
    "    return x**2\n",
    "\n",
    "print(f())\n",
    "print(f(5))\n",
    "print(f(x=27))\n",
    "```"
   ]
  },
  {
   "cell_type": "markdown",
   "metadata": {
    "slideshow": {
     "slide_type": "slide"
    }
   },
   "source": [
    "# In-Class Exercise\n",
    "\n",
    "Write a function that lists all files with a certain extension in the current directory. (__Hint:__ Use the `glob` package.)\n",
    "\n",
    "How might you extend this function to be useful to you and your projects?"
   ]
  }
 ],
 "metadata": {
  "anaconda-cloud": {},
  "celltoolbar": "Slideshow",
  "kernelspec": {
   "display_name": "Python 2",
   "language": "python",
   "name": "python2"
  },
  "language_info": {
   "codemirror_mode": {
    "name": "ipython",
    "version": 2
   },
   "file_extension": ".py",
   "mimetype": "text/x-python",
   "name": "python",
   "nbconvert_exporter": "python",
   "pygments_lexer": "ipython2",
   "version": "2.7.13"
  }
 },
 "nbformat": 4,
 "nbformat_minor": 0
}
