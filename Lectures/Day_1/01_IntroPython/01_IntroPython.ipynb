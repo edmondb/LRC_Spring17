{
 "cells": [
  {
   "cell_type": "markdown",
   "metadata": {},
   "source": [
    "![NASA](http://www.nasa.gov/sites/all/themes/custom/nasatwo/images/nasa-logo.svg)\n",
    "\n",
    "<center><h1><font size=\"+3\">Spring 2017 Python Training</font></h1></center>\n",
    "\n",
    "---\n",
    "\n",
    "<center><h4>Langley Research Center - April 5, 2017</h4></center>"
   ]
  },
  {
   "cell_type": "markdown",
   "metadata": {},
   "source": [
    "# Git Primer\n",
    "\n",
    "---\n",
    "\n",
    "Git is an open source, version control system that we use to track changes to the files/presentations in this training. We store these files and a history of changes online at GitHub."
   ]
  },
  {
   "cell_type": "markdown",
   "metadata": {},
   "source": [
    "### Common Commands\n",
    "\n",
    "---\n",
    "\n",
    "All of these commands are available if your current directory is within a git repository. You will be using the Git Bash (Windows) or terminal (Linux/Mac) to perform any Git commands (separate from running Python code).\n",
    "\n",
    "* __`git status`__ - Lets you see what changes you've made before your last commit/save\n",
    "* __`git stash`__ - Takes all changes since your last save/commit and stores them temporarily\n",
    "  * __`git stash list`__ - Lists the stashes of changes you have\n",
    "  * __`git stash apply`__ - Restores those modifications/changes that were stashed away\n",
    "* __`git add`__ - Tracked files are now flaged as in the staging area before you save/commit\n",
    "* __`git commit`__ - Allows you to save tracked changes from the staging area into the history of the repository"
   ]
  },
  {
   "cell_type": "markdown",
   "metadata": {},
   "source": [
    "![git](https://git-scm.com/book/en/v2/images/areas.png)"
   ]
  },
  {
   "cell_type": "markdown",
   "metadata": {},
   "source": [
    "### Links\n",
    "\n",
    "---\n",
    "\n",
    "* [http://git-scm.com](http://git-scm.com)\n",
    "* [http://github.com](http://github.com)\n",
    "* [http://try.github.io](http://try.github.io)\n",
    "* [http://learnxinyminutes.com/docs/git/](http://learnxinyminutes.com/docs/git/)\n",
    "* [http://git-scm.com/book/en/v2](http://git-scm.com/book/en/v2)"
   ]
  },
  {
   "cell_type": "markdown",
   "metadata": {},
   "source": [
    "# Introduction to Python\n",
    "\n",
    "---\n",
    "\n",
    "1. "
   ]
  },
  {
   "cell_type": "code",
   "execution_count": null,
   "metadata": {
    "collapsed": true
   },
   "outputs": [],
   "source": []
  }
 ],
 "metadata": {
  "kernelspec": {
   "display_name": "Python 2",
   "language": "python",
   "name": "python2"
  },
  "language_info": {
   "codemirror_mode": {
    "name": "ipython",
    "version": 2
   },
   "file_extension": ".py",
   "mimetype": "text/x-python",
   "name": "python",
   "nbconvert_exporter": "python",
   "pygments_lexer": "ipython2",
   "version": "2.7.13"
  }
 },
 "nbformat": 4,
 "nbformat_minor": 2
}
