{
 "cells": [
  {
   "cell_type": "markdown",
   "metadata": {},
   "source": [
    "![NASA](http://www.nasa.gov/sites/all/themes/custom/nasatwo/images/nasa-logo.svg)\n",
    "\n",
    "<center><h1><font size=\"+3\">Spring 2017 Python Training</font></h1></center>\n",
    "\n",
    "---\n",
    "\n",
    "<center><h4>Langley Research Center - April 5, 2017</h4></center>"
   ]
  },
  {
   "cell_type": "markdown",
   "metadata": {},
   "source": [
    "# Git Primer\n",
    "\n",
    "---\n",
    "\n",
    "Git is an open source, version control system that we use to track changes to the files/presentations in this training. We store these files and a history of changes online at GitHub."
   ]
  },
  {
   "cell_type": "markdown",
   "metadata": {},
   "source": [
    "### Common Commands\n",
    "\n",
    "---\n",
    "\n",
    "All of these commands are available if your current directory is within a git repository. You will be using the Git Bash (Windows) or terminal (Linux/Mac) to perform any Git commands (separate from running Python code).\n",
    "\n",
    "* __`git status`__ - Lets you see what changes you've made before your last commit/save\n",
    "* __`git pull`__ - Attempts to update your repository with the remote (can be local or on another server)\n",
    "* __`git stash`__ - Takes all changes since your last save/commit and stores them temporarily\n",
    "  * __`git stash list`__ - Lists the stashes of changes you have\n",
    "  * __`git stash apply`__ - Restores those modifications/changes that were stashed away\n",
    "* __`git add`__ - Tracked files are now flaged as in the staging area before you save/commit\n",
    "* __`git commit`__ - Allows you to save tracked changes from the staging area into the history of the repository"
   ]
  },
  {
   "cell_type": "markdown",
   "metadata": {},
   "source": [
    "![git](https://git-scm.com/book/en/v2/images/areas.png)"
   ]
  },
  {
   "cell_type": "markdown",
   "metadata": {},
   "source": [
    "### Reference Links\n",
    "\n",
    "---\n",
    "\n",
    "* [http://git-scm.com](http://git-scm.com)\n",
    "* [http://github.com](http://github.com)\n",
    "* [http://try.github.io](http://try.github.io)\n",
    "* [http://learnxinyminutes.com/docs/git/](http://learnxinyminutes.com/docs/git/)\n",
    "* [http://git-scm.com/book/en/v2](http://git-scm.com/book/en/v2)"
   ]
  },
  {
   "cell_type": "markdown",
   "metadata": {},
   "source": [
    "# Introduction to Python\n",
    "\n",
    "---\n",
    "\n",
    "About Python:\n",
    "\n",
    "1. It is free and open source!\n",
    "2. An interpreted language: Python code needs an interpreter in order for computers to understand it.  \n",
    "> __Note:__ This means there is NO need for a compiler.\n",
    "3. Named after Monty Python's \"Flying Circus\" by Guido van Rossum in 1991 (I've met him!).\n",
    "4. Portable - Python works on all operatins systems.\n",
    "5. Others: Object Oriented, can be integrated with other languages (C, C++, Fortran, etc.), readable, can be used for web applications, etc."
   ]
  },
  {
   "cell_type": "markdown",
   "metadata": {
    "collapsed": true
   },
   "source": [
    "# Four Ways to Run Python Code\n",
    "\n",
    "---\n",
    "\n",
    "__Note:__ Each of these will be using the same interpreter to translate your Python code into machine code."
   ]
  },
  {
   "cell_type": "markdown",
   "metadata": {},
   "source": [
    "# 1. As a script.\n",
    "\n",
    "---\n",
    "\n",
    "1. Open the [helloworld.py](http://raw.githubusercontent.com/edmondb/LRC_Spring17/master/Lectures/Day_1/01_IntroPython/helloworld.py) script in your text editor to see the contents of the Python script.\n",
    "2. In your terminal/Anaconda Prompt, change directories to the one containing this file.  \n",
    "> (Use `ls` for Linux/Mac or `dir` for Windows to see the contents of your current directory.)\n",
    "3. Type:\n",
    "\n",
    "    ```bash\n",
    "    python helloworld.py\n",
    "    ```\n",
    "4. You should see the output on the screen. If you do not, raise your hand."
   ]
  },
  {
   "cell_type": "markdown",
   "metadata": {},
   "source": [
    "# 2. In the Python shell\n",
    "\n",
    "---\n",
    "\n",
    "1. Open your terminal/Anaconda Prompt and type:\n",
    "\n",
    "    ```bash\n",
    "    python\n",
    "    ```\n",
    "2. From this interactive shell, you will notice that the prompt is `>>>`. This is now allowing us to type Python code directly and execute it.\n",
    "3. Now type:\n",
    "\n",
    "    ```python\n",
    "    print('Hello world!')\n",
    "    ```\n",
    "4. You should see the output on the screen. If you do not, raise your hand.\n",
    "5. To exit the Python shell type `exit()`"
   ]
  },
  {
   "cell_type": "markdown",
   "metadata": {},
   "source": [
    "# 3. In the IPython (Interactive Python) shell\n",
    "\n",
    "---\n",
    "\n",
    "1. Open your terminal/Anaconda Prompt and type:\n",
    "\n",
    "    ```bash\n",
    "    ipython\n",
    "    ```\n",
    "2. This is an enhanced interactive shell that has many features (tab-completion, woot!). It also has a prompt that is numbered.\n",
    "3. Now type:\n",
    "\n",
    "    ```python\n",
    "    print('Hello world!')\n",
    "    ```\n",
    "4. You should see the output on the screen. If you do not, raise your hand.\n",
    "5. To exit the iPython shell type `exit()` and confirm the exit."
   ]
  },
  {
   "cell_type": "markdown",
   "metadata": {},
   "source": [
    "# 4. Jupyter/IPython notebook\n",
    "\n",
    "---\n",
    "\n",
    "1. Open your terminal/Anaconda Prompt and type:\n",
    "\n",
    "    ```bash\n",
    "    jupyter notebook\n",
    "    ```\n",
    "2. This directs you to a web browser and you can navigate to an already existing notebook or create one (right side menu New -> Python 2).\n",
    "3. This will open up a new Untitled notebook where you can directly input Python code, Markup formatted text, or have raw text.\n",
    "4. Now type:\n",
    "\n",
    "    ```python\n",
    "    print('Hello world!')\n",
    "    ```\n",
    "5. Press __Shift+Enter__, __Cntrl+Enter__ or click __Cells -> Run Cells__ or use the __Play button__ near the top of the page.\n",
    "6. You should see the output on the screen. If you do not, raise your hand.\n",
    "7. Exit via closing the browser windows and stopping the server running in the terminal/command prompt (most likely with a __Cntrl+C__).\n",
    "\n",
    "__Note:__ Sometimes for Windows users you will launch these notebooks with `ipython notebook` rather than `jupyter notebook`. This is due to a split in development of the Jupyter notebooks to support many languages other than Python (used to be named the IPython notebook too)."
   ]
  },
  {
   "cell_type": "code",
   "execution_count": null,
   "metadata": {
    "collapsed": true
   },
   "outputs": [],
   "source": []
  }
 ],
 "metadata": {
  "kernelspec": {
   "display_name": "Python 2",
   "language": "python",
   "name": "python2"
  },
  "language_info": {
   "codemirror_mode": {
    "name": "ipython",
    "version": 2
   },
   "file_extension": ".py",
   "mimetype": "text/x-python",
   "name": "python",
   "nbconvert_exporter": "python",
   "pygments_lexer": "ipython2",
   "version": "2.7.13"
  }
 },
 "nbformat": 4,
 "nbformat_minor": 2
}
