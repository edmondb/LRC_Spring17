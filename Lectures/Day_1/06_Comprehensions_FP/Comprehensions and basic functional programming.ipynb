{
 "cells": [
  {
   "cell_type": "markdown",
   "metadata": {},
   "source": [
    "### <font color='red'>List comprehensions</font>"
   ]
  },
  {
   "cell_type": "markdown",
   "metadata": {},
   "source": [
    "List comprehensions are a tool for <font color='blue'>concisely</font> transforming one list into another. "
   ]
  },
  {
   "cell_type": "code",
   "execution_count": null,
   "metadata": {
    "collapsed": true
   },
   "outputs": [],
   "source": [
    "new_things = []\n",
    "for ITEM in old_things:\n",
    "    if condition_based_on(ITEM):\n",
    "        new_things.append(\"something with \" + ITEM)"
   ]
  },
  {
   "cell_type": "markdown",
   "metadata": {},
   "source": [
    "The list comprehension starts with a <B>'[' and ']'</B>, to help you remember that the\n",
    "result is going to be a list."
   ]
  },
  {
   "cell_type": "code",
   "execution_count": null,
   "metadata": {
    "collapsed": true
   },
   "outputs": [],
   "source": [
    "new_things = [\"something with \" + ITEM for ITEM in old_things if condition_based_on(ITEM)]"
   ]
  },
  {
   "cell_type": "markdown",
   "metadata": {},
   "source": [
    "Examples:"
   ]
  },
  {
   "cell_type": "code",
   "execution_count": null,
   "metadata": {
    "collapsed": true
   },
   "outputs": [],
   "source": [
    "numbers = [1, 2, 3, 4, 5]\n",
    "doubled_odds = []\n",
    "for n in numbers:\n",
    "    if n % 2 == 1:\n",
    "        doubled_odds.append(n * 2)"
   ]
  },
  {
   "cell_type": "code",
   "execution_count": null,
   "metadata": {
    "collapsed": true
   },
   "outputs": [],
   "source": [
    "numbers = [1, 2, 3, 4, 5]\n",
    "doubled_odds = [n * 2 for n in numbers if n % 2 == 1]"
   ]
  },
  {
   "cell_type": "markdown",
   "metadata": {},
   "source": [
    "Unconditional comprehensions:"
   ]
  },
  {
   "cell_type": "code",
   "execution_count": null,
   "metadata": {
    "collapsed": false
   },
   "outputs": [],
   "source": [
    "cubes = list()\n",
    "for x in range(1,10):\n",
    "    cubes.append(x**3)\n",
    "print cubes"
   ]
  },
  {
   "cell_type": "code",
   "execution_count": null,
   "metadata": {
    "collapsed": false,
    "scrolled": true
   },
   "outputs": [],
   "source": [
    "cubes = [x**3 for x in range(1,10)]\n",
    "print cubes"
   ]
  },
  {
   "cell_type": "markdown",
   "metadata": {},
   "source": [
    "Nested loops:"
   ]
  },
  {
   "cell_type": "code",
   "execution_count": null,
   "metadata": {
    "collapsed": true
   },
   "outputs": [],
   "source": [
    "flattened = []\n",
    "for row in matrix:\n",
    "    for n in row:\n",
    "        flattened.append(n)"
   ]
  },
  {
   "cell_type": "code",
   "execution_count": null,
   "metadata": {
    "collapsed": true
   },
   "outputs": [],
   "source": [
    "flattened = [n for row in matrix for n in row]"
   ]
  },
  {
   "cell_type": "markdown",
   "metadata": {},
   "source": [
    "Exercise"
   ]
  },
  {
   "cell_type": "code",
   "execution_count": null,
   "metadata": {
    "collapsed": false
   },
   "outputs": [],
   "source": [
    "# Given these temperatures in degrees F\n",
    "temperatures = [88, 94, 97, 89, 101, 98, 102, 95, 100]\n",
    "# Use \"comprehensions\" to compute and print temperatures in Celsius (remember C = (F - 32) * 5/9 )"
   ]
  },
  {
   "cell_type": "markdown",
   "metadata": {},
   "source": [
    "### <font color='red'>Lambda, Map, Filter and Reduce</font>"
   ]
  },
  {
   "cell_type": "markdown",
   "metadata": {},
   "source": [
    "#### <font color='red'>Lambda</font>\n",
    "The lambda operator or lambda function is a way to create small anonymous \"functions\"."
   ]
  },
  {
   "cell_type": "code",
   "execution_count": null,
   "metadata": {
    "collapsed": true
   },
   "outputs": [],
   "source": [
    "lambda argument_list: expression\n",
    "\n",
    "# The argument list consists of a comma separated list of arguments and \n",
    "# the expression using these arguments and MUST return a value"
   ]
  },
  {
   "cell_type": "code",
   "execution_count": null,
   "metadata": {
    "collapsed": false
   },
   "outputs": [],
   "source": [
    "f = lambda x, y : x + y    #  def sum(x,y): return x + y\n",
    "f(2,1)"
   ]
  },
  {
   "cell_type": "code",
   "execution_count": null,
   "metadata": {
    "collapsed": false
   },
   "outputs": [],
   "source": [
    "some_list = [(1, 3), (5, 2), (6, 1), (4, 6)]\n",
    "some_list.sort(key=lambda x: x[0]**2 - x[1]*3)\n",
    "some_list"
   ]
  },
  {
   "cell_type": "code",
   "execution_count": null,
   "metadata": {
    "collapsed": true
   },
   "outputs": [],
   "source": [
    "Exercise:\n",
    "    \n",
    "    Consider the followwing Fibonacci number calculator."
   ]
  },
  {
   "cell_type": "code",
   "execution_count": null,
   "metadata": {
    "collapsed": true
   },
   "outputs": [],
   "source": [
    "fibonacci = (lambda x, x_1=1, x_2=0:\n",
    "         x_2 if x == 0\n",
    "         else fibonacci(x - 1, x_1 + x_2, x_1))"
   ]
  },
  {
   "cell_type": "markdown",
   "metadata": {},
   "source": [
    "When are they useful?\n",
    "\n",
    "What can you put in a lamdba?"
   ]
  },
  {
   "cell_type": "markdown",
   "metadata": {},
   "source": [
    "Lambda as a macro"
   ]
  },
  {
   "cell_type": "code",
   "execution_count": null,
   "metadata": {
    "collapsed": true
   },
   "outputs": [],
   "source": [
    "line1 = \"A cat, a dog  \"\n",
    "line2 = \"  a bird, a mountain\"\n",
    "\n",
    "# Use X as an alias for two methods.\n",
    "x = lambda s: s.strip().upper()\n",
    "\n",
    "# Call the lambda to shorten the program's source.\n",
    "line1b = x(line1)\n",
    "line2b = x(line2)\n",
    "\n",
    "print(line1b)\n",
    "print(line2b)"
   ]
  },
  {
   "cell_type": "markdown",
   "metadata": {},
   "source": [
    "map() is a function with two arguments: "
   ]
  },
  {
   "cell_type": "code",
   "execution_count": null,
   "metadata": {
    "collapsed": true
   },
   "outputs": [],
   "source": [
    "r = map(func, seq)"
   ]
  },
  {
   "cell_type": "markdown",
   "metadata": {},
   "source": [
    "The first argument func is the name of a function and \n",
    "the second a sequence (e.g. a list) seq. map() applies \n",
    "the function func to all the elements of the sequence seq. \n",
    "It returns a new list with the elements changed by func"
   ]
  },
  {
   "cell_type": "code",
   "execution_count": null,
   "metadata": {
    "collapsed": true
   },
   "outputs": [],
   "source": [
    "def fahrenheit(T):\n",
    "    return ((float(9)/5)*T + 32)\n",
    "def celsius(T):\n",
    "    return (float(5)/9)*(T-32)\n",
    "temp = (36.5, 37, 37.5,39)\n",
    "\n",
    "F = map(fahrenheit, temp)\n",
    "print F\n",
    "C = map(celsius, F)\n",
    "print C"
   ]
  },
  {
   "cell_type": "code",
   "execution_count": null,
   "metadata": {
    "collapsed": true
   },
   "outputs": [],
   "source": [
    "# map() can be applied to more than one list. \n",
    "# The lists must have the same length.\n",
    "a = [1,2,3,4]\n",
    "b = [17,12,11,10]\n",
    "c = [-1,-4,5,9]\n",
    "map(lambda x,y:x+y, a,b)\n",
    "\n",
    "map(lambda x,y,z:x+y+z, a,b,c)\n",
    "\n",
    "map(lambda x,y,z:x+y-z, a,b,c)"
   ]
  },
  {
   "cell_type": "markdown",
   "metadata": {},
   "source": [
    "Exercise"
   ]
  },
  {
   "cell_type": "code",
   "execution_count": null,
   "metadata": {
    "collapsed": true
   },
   "outputs": [],
   "source": [
    "words = 'The quick brown fox jumps over the lazy dog'.split()\n",
    "print words\n",
    "stuff = []\n",
    "for w in words:\n",
    "    stuff.append([w.upper(), w.lower(), len(w)])\n",
    "\n",
    "for i in stuff:\n",
    "    print i"
   ]
  },
  {
   "cell_type": "markdown",
   "metadata": {},
   "source": [
    "Use list comprehension and lambda/map function to define stuff."
   ]
  },
  {
   "cell_type": "markdown",
   "metadata": {},
   "source": [
    "The function filter(func, iterableType) offers an elegant way to filter out all the elements of any iterable type (list, tuple, string, etc.), for which the function func returns True. "
   ]
  },
  {
   "cell_type": "code",
   "execution_count": null,
   "metadata": {
    "collapsed": true
   },
   "outputs": [],
   "source": [
    "fib = [0,1,1,2,3,5,8,13,21,34,55]\n",
    "result = filter(lambda x: x % 2, fib)\n",
    "print result\n",
    "\n",
    "result = filter(lambda x: x % 2 == 0, fib)\n",
    "print result"
   ]
  },
  {
   "cell_type": "markdown",
   "metadata": {},
   "source": [
    "Exercise:\n",
    "    \n",
    "Use the filter function to remove all the vowels from the sentence"
   ]
  },
  {
   "cell_type": "code",
   "execution_count": null,
   "metadata": {
    "collapsed": true
   },
   "outputs": [],
   "source": [
    "sentence = \"The LRC Python Training is a great opportunity to learn Python programming.\"\n",
    "vowels = 'aeiou' "
   ]
  },
  {
   "cell_type": "markdown",
   "metadata": {},
   "source": [
    "The function <B>reduce(func, seq)</B> continually applies the function func() to the sequence seq. It returns a single value. "
   ]
  },
  {
   "cell_type": "code",
   "execution_count": null,
   "metadata": {
    "collapsed": true
   },
   "outputs": [],
   "source": [
    "def reduce( aFunction, aSequence, init= 0 ):\n",
    "    r= init\n",
    "    for s in aSequence:\n",
    "        r= aFunction( r, s )\n",
    "    return r"
   ]
  },
  {
   "cell_type": "code",
   "execution_count": null,
   "metadata": {
    "collapsed": true
   },
   "outputs": [],
   "source": [
    "Examples"
   ]
  },
  {
   "cell_type": "code",
   "execution_count": null,
   "metadata": {
    "collapsed": false
   },
   "outputs": [],
   "source": [
    "A = reduce(lambda x,y: x+y, [47,11,42,13])\n",
    "print A\n",
    "\n",
    "# Determining the maximum of a list of numerical values by using reduce\n",
    "f = lambda a,b: a if (a > b) else b\n",
    "B = reduce(f, [47,11,42,102,13])\n",
    "print B\n",
    "\n",
    "# Calculating the sum of the numbers from 1 to n: \n",
    "n = 100\n",
    "C = reduce(lambda x, y: x+y, range(1,n+1))\n",
    "print C"
   ]
  },
  {
   "cell_type": "code",
   "execution_count": null,
   "metadata": {
    "collapsed": true
   },
   "outputs": [],
   "source": [
    "def x100y(x,y):\n",
    "    return 100*x+y\n",
    "\n",
    "reduce(x100y, [13])\n",
    "reduce(x100y, [2, 5, 9])\n",
    "reduce(x100y, [2, 5, 9], 7)"
   ]
  },
  {
   "cell_type": "markdown",
   "metadata": {},
   "source": [
    "Exercise\n",
    "\n",
    "Use the reduce function to find the product of all the entries in the list\n",
    "[47,11,42,102,13]"
   ]
  },
  {
   "cell_type": "code",
   "execution_count": null,
   "metadata": {
    "collapsed": true
   },
   "outputs": [],
   "source": []
  }
 ],
 "metadata": {
  "anaconda-cloud": {},
  "kernelspec": {
   "display_name": "Python [conda root]",
   "language": "python",
   "name": "conda-root-py"
  },
  "language_info": {
   "codemirror_mode": {
    "name": "ipython",
    "version": 2
   },
   "file_extension": ".py",
   "mimetype": "text/x-python",
   "name": "python",
   "nbconvert_exporter": "python",
   "pygments_lexer": "ipython2",
   "version": "2.7.12"
  }
 },
 "nbformat": 4,
 "nbformat_minor": 1
}
