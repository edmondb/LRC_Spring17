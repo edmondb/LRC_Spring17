{
 "cells": [
  {
   "cell_type": "code",
   "execution_count": null,
   "metadata": {
    "collapsed": true
   },
   "outputs": [],
   "source": [
    "from IPython.core.interactiveshell import InteractiveShell\n",
    "InteractiveShell.ast_node_interactivity = \"all\""
   ]
  },
  {
   "cell_type": "markdown",
   "metadata": {},
   "source": [
    "![NASA](http://www.nasa.gov/sites/all/themes/custom/nasatwo/images/nasa-logo.svg)\n",
    "\n",
    "<center><h1><font size=\"+3\">Spring 2017 Python Training</font></h1></center>\n",
    "\n",
    "---\n",
    "\n",
    "<center><h4>Langley Research Center - April 5, 2017</h4></center>"
   ]
  },
  {
   "cell_type": "markdown",
   "metadata": {},
   "source": [
    "# Conditional statements and loops"
   ]
  },
  {
   "cell_type": "markdown",
   "metadata": {
    "collapsed": false,
    "scrolled": true
   },
   "source": [
    "![decisions](program_flow.jpg)"
   ]
  },
  {
   "cell_type": "markdown",
   "metadata": {},
   "source": [
    "## Boolean conditions\n",
    "\n",
    "The Boolean data type contains two Boolean values, denoted as <font color='blue'>True</font> and <font color='blue'>False</font> in Python. "
   ]
  },
  {
   "cell_type": "markdown",
   "metadata": {},
   "source": [
    "__Boolean Operators__\n",
    "\n",
    "    and           \n",
    "    or\n",
    "    not"
   ]
  },
  {
   "cell_type": "code",
   "execution_count": null,
   "metadata": {
    "collapsed": false
   },
   "outputs": [],
   "source": [
    "True and False\n",
    "False or True\n",
    "not True"
   ]
  },
  {
   "cell_type": "markdown",
   "metadata": {},
   "source": [
    "__Comparison Operators__\n",
    "\n",
    "    ==\n",
    "    !=\n",
    "    <\n",
    "    >\n",
    "    <=\n",
    "    >="
   ]
  },
  {
   "cell_type": "code",
   "execution_count": null,
   "metadata": {
    "collapsed": false
   },
   "outputs": [],
   "source": [
    "x = 2\n",
    "x == 2\n",
    "x > 4"
   ]
  },
  {
   "cell_type": "code",
   "execution_count": null,
   "metadata": {
    "collapsed": false
   },
   "outputs": [],
   "source": [
    "10 < 0 and not 10 > 2"
   ]
  },
  {
   "cell_type": "code",
   "execution_count": null,
   "metadata": {
    "collapsed": false
   },
   "outputs": [],
   "source": [
    "not (10 < 0 or 10 > 20)"
   ]
  },
  {
   "cell_type": "markdown",
   "metadata": {},
   "source": [
    "__Operator precedence__ (left-to-right)\n",
    "\n",
    "    ** (exponentiation)\n",
    "    *, /, %   (multiplication, division, remainder)\n",
    "    +, -   (addition, subtraction)\n",
    "    <, >, <=, >=, !=, ==\n",
    "    not\n",
    "    and \n",
    "    or"
   ]
  },
  {
   "cell_type": "code",
   "execution_count": null,
   "metadata": {
    "collapsed": false
   },
   "outputs": [],
   "source": [
    "num = 2\n",
    "# Logically equivalent boolean expressions\n",
    "num != 0\n",
    "not (num == 0)"
   ]
  },
  {
   "cell_type": "markdown",
   "metadata": {},
   "source": [
    "__All integers evaluate to True, except 0 which evaluates to False__  \n",
    "\n",
    "__All strings evaluate to True, except the empty string__"
   ]
  },
  {
   "cell_type": "code",
   "execution_count": null,
   "metadata": {
    "collapsed": false
   },
   "outputs": [],
   "source": [
    "print \"test\" and \"test\" \n",
    "print 1 and 1\n",
    "print 0 and \"test\"\n",
    "print False and 1\n",
    "print True and 10"
   ]
  },
  {
   "cell_type": "markdown",
   "metadata": {},
   "source": [
    "## Branching"
   ]
  },
  {
   "cell_type": "markdown",
   "metadata": {},
   "source": [
    "### If statement\n",
    "is a selection control statement based on the value of a Boolean expression"
   ]
  },
  {
   "cell_type": "markdown",
   "metadata": {
    "collapsed": true
   },
   "source": [
    "Unary selection\n",
    "\n",
    "```cython\n",
    "if condition:                                      # HEADER\n",
    "    Python code that runs iff condition is True    # CLAUSE\n",
    "    Proper indentation is critical    \n",
    "```"
   ]
  },
  {
   "cell_type": "code",
   "execution_count": null,
   "metadata": {
    "collapsed": false
   },
   "outputs": [],
   "source": [
    "y = 0\n",
    "a = y < 1\n",
    "if a:\n",
    "    print 'a is non-zero'"
   ]
  },
  {
   "cell_type": "markdown",
   "metadata": {
    "collapsed": true
   },
   "source": [
    "Binary selection\n",
    "\n",
    "```cython\n",
    "if condition:\n",
    "    Python code that runs iff condition is True \n",
    "else:\n",
    "    Python code that runs iff condition is False \n",
    "    ...again, indentation is important\n",
    "```"
   ]
  },
  {
   "cell_type": "code",
   "execution_count": null,
   "metadata": {
    "collapsed": false
   },
   "outputs": [],
   "source": [
    "n = int(raw_input('Enter a number: '))\n",
    "if n % 2 == 0:\n",
    "    print \"Number is even\"\n",
    "else:\n",
    "    print \"Number is odd\"\n",
    "print \"Done\""
   ]
  },
  {
   "cell_type": "markdown",
   "metadata": {},
   "source": [
    "<font color='red'>Exercise</font>:\n",
    "\n",
    "What is the output of the following program:\n",
    "```cython\n",
    "x=3\n",
    "y=8\n",
    "z=5\n",
    "r=1.0\n",
    "if x < y > z < r:\n",
    "    print 'T'\n",
    "else:\n",
    "    print 'F'\n",
    "```"
   ]
  },
  {
   "cell_type": "markdown",
   "metadata": {
    "collapsed": true
   },
   "source": [
    "Chained if statements\n",
    "\n",
    "```cython\n",
    "if condition1:\n",
    "    Python code that runs iff condition1 is True \n",
    "elif condition2:\n",
    "    Python code that runs iff condition2 is True\n",
    "elif condition3:\n",
    "    Python code that runs iff condition3 is True\n",
    "etc...\n",
    "else:\n",
    "    Python code that runs iff conditions 1-3 are False\n",
    "```"
   ]
  },
  {
   "cell_type": "code",
   "execution_count": null,
   "metadata": {
    "collapsed": false
   },
   "outputs": [],
   "source": [
    "n = int(raw_input('Enter a number: '))\n",
    "if n < 0:\n",
    "    print 'n is negative'\n",
    "elif n > 0:\n",
    "    print 'n is positive'\n",
    "else:\n",
    "    print 'n is zero'"
   ]
  },
  {
   "cell_type": "markdown",
   "metadata": {
    "collapsed": true
   },
   "source": [
    "Nested if statements\n",
    "```cython\n",
    "if condition1:\n",
    "    Python code that runs iff condition1 is True\n",
    "else:\n",
    "    Python code that runs iff condition1 is False\n",
    "    if condition2:\n",
    "        Python code that runs iff condition2 is True\n",
    "    else:\n",
    "        Python code that runs iff condition2 is False\n",
    "```"
   ]
  },
  {
   "cell_type": "code",
   "execution_count": null,
   "metadata": {
    "collapsed": false
   },
   "outputs": [],
   "source": [
    "n = int(raw_input('Enter a number: '))\n",
    "if n > 0:\n",
    "    print 'n is positive'\n",
    "    if n % 2 == 0:\n",
    "        print '...and also even'\n",
    "    else:\n",
    "        print '...and also odd'\n",
    "else:\n",
    "    if n == 0:\n",
    "        print 'n is zero'\n",
    "    else:\n",
    "        print 'n is negative'"
   ]
  },
  {
   "cell_type": "markdown",
   "metadata": {},
   "source": [
    "Exercise:\n",
    "\n",
    "Write a program that examines 3 variables (x,y,z below) and prints the largest among them."
   ]
  },
  {
   "cell_type": "code",
   "execution_count": null,
   "metadata": {
    "collapsed": false
   },
   "outputs": [],
   "source": [
    "x=3\n",
    "y=4\n",
    "z=5\n",
    "# Write code here:\n",
    "if x > y and x > z:\n",
    "    print 'x is largest'\n",
    "elif y > z:\n",
    "    print 'y is largest'\n",
    "else:\n",
    "    print 'z is largest'"
   ]
  },
  {
   "cell_type": "markdown",
   "metadata": {},
   "source": [
    "## Iteration"
   ]
  },
  {
   "cell_type": "markdown",
   "metadata": {},
   "source": [
    "### While loop\n",
    "A while statement is an iterative control statement that repeatedly executes a set of statements based on a provided Boolean expression (condition). "
   ]
  },
  {
   "cell_type": "markdown",
   "metadata": {
    "collapsed": true
   },
   "source": [
    "```cython\n",
    "while condition:\n",
    "    # python code\n",
    "```"
   ]
  },
  {
   "cell_type": "markdown",
   "metadata": {},
   "source": [
    "Beware: Whenever you write a while loop think about an appropriate counting function. Else you can end up with an infinite loop."
   ]
  },
  {
   "cell_type": "code",
   "execution_count": null,
   "metadata": {
    "collapsed": false
   },
   "outputs": [],
   "source": [
    "sum = 0\n",
    "counter = 1\n",
    "n = 5\n",
    "while counter <= n:\n",
    "    print counter,         # the comma (,) suppresses the newline character '\\n'\n",
    "    sum = sum + counter\n",
    "    counter = counter + 1  # counter += 1\n",
    "\n",
    "print '\\nsum = ',sum"
   ]
  },
  {
   "cell_type": "markdown",
   "metadata": {},
   "source": [
    "#### <font color='blue'>break</font> statement"
   ]
  },
  {
   "cell_type": "code",
   "execution_count": null,
   "metadata": {
    "collapsed": false
   },
   "outputs": [],
   "source": [
    "# Find the first positive integer divisible by both 11 AND 12\n",
    "x = 1\n",
    "while True:\n",
    "    if x % 11 == 0 and x % 12 == 0:\n",
    "        break\n",
    "    x = x + 1\n",
    "print x,\" is divisible by 11 and 12\""
   ]
  },
  {
   "cell_type": "code",
   "execution_count": null,
   "metadata": {
    "collapsed": false
   },
   "outputs": [],
   "source": [
    "# input error checking\n",
    "units = raw_input('Please enter C or F: ')\n",
    "while units != 'F' and units != 'C':\n",
    "    units = raw_input('Please enter C or F: ')"
   ]
  },
  {
   "cell_type": "markdown",
   "metadata": {},
   "source": [
    "## For loop\n",
    "A for loop can be used to simplify iterations over sequences"
   ]
  },
  {
   "cell_type": "markdown",
   "metadata": {
    "collapsed": false,
    "scrolled": true
   },
   "source": [
    "```cython\n",
    "for variable in sequence:\n",
    "    # Python code\n",
    "```"
   ]
  },
  {
   "cell_type": "code",
   "execution_count": null,
   "metadata": {
    "collapsed": false
   },
   "outputs": [],
   "source": [
    "total = 0\n",
    "\n",
    "for i in range(0,6,2):\n",
    "    # i = 0, 1, 2, 3, 4\n",
    "    total = total + 1\n",
    "\n",
    "print total"
   ]
  },
  {
   "cell_type": "markdown",
   "metadata": {},
   "source": [
    "Use the keywords <font color='blue'>continue</font>, <font color='blue'>break</font>, or <font color='blue'>pass</font> to change the behavior of conditionals and loops."
   ]
  },
  {
   "cell_type": "code",
   "execution_count": null,
   "metadata": {
    "collapsed": false
   },
   "outputs": [],
   "source": [
    "total = 0\n",
    "\n",
    "for i in range(1,10):\n",
    "    print total\n",
    "    if total == 5:\n",
    "        break\n",
    "    total = total + 1\n",
    "\n",
    "print total"
   ]
  },
  {
   "cell_type": "markdown",
   "metadata": {},
   "source": [
    "One can use multiple nested for loops:"
   ]
  },
  {
   "cell_type": "markdown",
   "metadata": {
    "collapsed": true
   },
   "source": [
    "```cython\n",
    "for var1 in seq1:\n",
    "    for var2 in seq2:    \n",
    "          # do something\n",
    "```"
   ]
  },
  {
   "cell_type": "markdown",
   "metadata": {},
   "source": [
    "Exercise:"
   ]
  },
  {
   "cell_type": "markdown",
   "metadata": {
    "collapsed": true
   },
   "source": [
    "Use nested for loops to print the following sequence:\n",
    "```cython\n",
    "1\n",
    "22\n",
    "333\n",
    "4444\n",
    "55555\n",
    "666666\n",
    "7777777\n",
    "88888888\n",
    "999999999\n",
    "```"
   ]
  },
  {
   "cell_type": "code",
   "execution_count": null,
   "metadata": {
    "collapsed": false
   },
   "outputs": [],
   "source": [
    "for i in range(1,10):\n",
    "    for j in range(i):\n",
    "        print i,\n",
    "    print '\\n'"
   ]
  },
  {
   "cell_type": "code",
   "execution_count": null,
   "metadata": {
    "collapsed": true
   },
   "outputs": [],
   "source": []
  }
 ],
 "metadata": {
  "anaconda-cloud": {},
  "kernelspec": {
   "display_name": "Python [conda root]",
   "language": "python",
   "name": "conda-root-py"
  },
  "language_info": {
   "codemirror_mode": {
    "name": "ipython",
    "version": 2
   },
   "file_extension": ".py",
   "mimetype": "text/x-python",
   "name": "python",
   "nbconvert_exporter": "python",
   "pygments_lexer": "ipython2",
   "version": "2.7.12"
  }
 },
 "nbformat": 4,
 "nbformat_minor": 1
}
