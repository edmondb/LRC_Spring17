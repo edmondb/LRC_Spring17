{
 "cells": [
  {
   "cell_type": "markdown",
   "metadata": {
    "slideshow": {
     "slide_type": "slide"
    }
   },
   "source": [
    "![NASA](http://www.nasa.gov/sites/all/themes/custom/nasatwo/images/nasa-logo.svg)\n",
    "\n",
    "# Spring 2017 Python Training\n",
    "\n",
    "---\n",
    "\n",
    "### Langley Research Center - April 5, 2017"
   ]
  },
  {
   "cell_type": "markdown",
   "metadata": {
    "slideshow": {
     "slide_type": "slide"
    }
   },
   "source": [
    "# Who Are We?\n",
    "\n",
    "---\n",
    "\n",
    "* Carlos A. Crus (Computational Scientist, Occasional Python User)\n",
    "* Jules Kouatchou (Computational Scientist, Occasional Python User)\n",
    "* E. Brent Smith (Programmer and Scientist, Daily Python User)"
   ]
  },
  {
   "cell_type": "markdown",
   "metadata": {
    "slideshow": {
     "slide_type": "subslide"
    }
   },
   "source": [
    "# Training Objectives\n",
    "\n",
    "---\n",
    "\n",
    "We want to\n",
    "* Introduce the basic concepts of Python programming\n",
    "* Introduce basic Object-Oriented programming in Python\n",
    "* Manipulate Python objects (list, tuple, arrays, etc.)\n",
    "* Work with File Input/Output\n",
    "* Create some basic visualizations"
   ]
  },
  {
   "cell_type": "markdown",
   "metadata": {
    "slideshow": {
     "slide_type": "subslide"
    }
   },
   "source": [
    "# What we will cover\n",
    "\n",
    "---\n",
    "\n",
    "1. Core principles of Python: Day 1\n",
    "2. Data manipulation with Python: Day 2"
   ]
  },
  {
   "cell_type": "markdown",
   "metadata": {
    "slideshow": {
     "slide_type": "subslide"
    }
   },
   "source": [
    "# What we expect from you\n",
    "\n",
    "---\n",
    "\n",
    "* Have your own laptop\n",
    "* Have the Python distribution (Anaconda) on your system\n",
    "* Have installed Git\n",
    "* Be able to create/edit files on your platform\n",
    "* Do the examples yourself as we move along\n",
    "* __Ask Questions__"
   ]
  },
  {
   "cell_type": "markdown",
   "metadata": {
    "slideshow": {
     "slide_type": "subslide"
    }
   },
   "source": [
    "# Obtain the Materials\n",
    "\n",
    "---\n",
    "\n",
    "You can obtain all the materials by issuing the command (Git Bash for Windows):\n",
    "\n",
    "```bash\n",
    "git clone https://github.com/edmondb/LRC_Spring17.git\n",
    "```\n",
    "\n",
    "You will then have on your platform the directory `LRC_Spring17`."
   ]
  },
  {
   "cell_type": "markdown",
   "metadata": {
    "slideshow": {
     "slide_type": "-"
    }
   },
   "source": [
    "__Note:__ Windows users without Git can download a Zip file online at\n",
    "\n",
    "```bash\n",
    "https://github.com/edmondb/LRC_Spring17/archive/master.zip\n",
    "```"
   ]
  },
  {
   "cell_type": "markdown",
   "metadata": {
    "slideshow": {
     "slide_type": "subslide"
    }
   },
   "source": [
    "# Agenda\n",
    "\n",
    "You can find the agenda for this training at:\n",
    "\n",
    "[http://github.com/edmondb/LRC_Spring17/wiki](http://github.com/edmondb/LRC_Spring17/wiki)\n",
    "\n",
    "Beyond these topics are a few items that will not be covered, but are worth looking at:\n",
    "\n",
    "* Strings\n",
    "* The `xlrd` Module\n",
    "* F2Py (Fortran to Python)"
   ]
  },
  {
   "cell_type": "markdown",
   "metadata": {
    "slideshow": {
     "slide_type": "subslide"
    }
   },
   "source": [
    "# Self-Assessment\n",
    "\n",
    "At the end of Day 1, you might consider taking a 25-question test at:\n",
    "\n",
    "[http://www.afterhoursprogramming.com/tests/practice/Python/](http://www.afterhoursprogramming.com/tests/practice/Python/)"
   ]
  },
  {
   "cell_type": "markdown",
   "metadata": {
    "slideshow": {
     "slide_type": "subslide"
    }
   },
   "source": [
    "# General Resources\n",
    "\n",
    "* Official Website  \n",
    "  [http://www.python.org](http://www.python.org)\n",
    "* Official Documentation (Python 2.x)  \n",
    "  [http://docs.python.org/2/](http://docs.python.org/2/)\n",
    "* Quick Reference  \n",
    "  [http://learnxinyminutes.com/docs/python/](http://learnxinyminutes.com/docs/python/)\n",
    "* PyVideo  \n",
    "  [http://pyvideo.org](http://pyvideo.org)\n",
    "* PyCon 2017  \n",
    "  [http://us.pycon.org/2017/](http://us.pycon.org/2017/)\n",
    "* Python Software Foundation  \n",
    "  [http://www.python.org/psf-landing/](http://www.python.org/psf-landing/)"
   ]
  }
 ],
 "metadata": {
  "celltoolbar": "Slideshow",
  "kernelspec": {
   "display_name": "Python 2",
   "language": "python",
   "name": "python2"
  },
  "language_info": {
   "codemirror_mode": {
    "name": "ipython",
    "version": 2
   },
   "file_extension": ".py",
   "mimetype": "text/x-python",
   "name": "python",
   "nbconvert_exporter": "python",
   "pygments_lexer": "ipython2",
   "version": "2.7.13"
  }
 },
 "nbformat": 4,
 "nbformat_minor": 2
}
