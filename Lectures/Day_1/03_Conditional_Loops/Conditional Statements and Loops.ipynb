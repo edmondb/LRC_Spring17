{
 "cells": [
  {
   "cell_type": "markdown",
   "metadata": {},
   "source": [
    "# Conditional statements and loops"
   ]
  },
  {
   "cell_type": "code",
   "execution_count": null,
   "metadata": {
    "collapsed": false,
    "scrolled": true
   },
   "outputs": [],
   "source": [
    "from IPython.display import Image\n",
    "slide = Image(filename = 'control_structures.jpg')\n",
    "slide"
   ]
  },
  {
   "cell_type": "markdown",
   "metadata": {},
   "source": [
    "### <font color='red'>Boolean conditions</font>\n",
    "\n",
    "The Boolean data type contains two Boolean values, denoted as <font color='blue'>True</font> and <font color='blue'>False</font> in Python. "
   ]
  },
  {
   "cell_type": "raw",
   "metadata": {},
   "source": [
    "Boolean Operators:\n",
    "\n",
    "    and           \n",
    "    or\n",
    "    not"
   ]
  },
  {
   "cell_type": "raw",
   "metadata": {},
   "source": [
    "Relational Operator:\n",
    "\n",
    "    ==\n",
    "    !=\n",
    "    <\n",
    "    >\n",
    "    <=\n",
    "    >="
   ]
  },
  {
   "cell_type": "code",
   "execution_count": null,
   "metadata": {
    "collapsed": false
   },
   "outputs": [],
   "source": [
    "10 < 0 and not 10 > 2"
   ]
  },
  {
   "cell_type": "code",
   "execution_count": null,
   "metadata": {
    "collapsed": false
   },
   "outputs": [],
   "source": [
    "not (10 < 0 or 10 > 20)"
   ]
  },
  {
   "cell_type": "code",
   "execution_count": null,
   "metadata": {
    "collapsed": false
   },
   "outputs": [],
   "source": [
    "num = 2\n",
    "# Logically equivalent boolean expressions\n",
    "print (num != 0)\n",
    "print not (num == 0)"
   ]
  },
  {
   "cell_type": "raw",
   "metadata": {},
   "source": [
    "Operator precedence (left-to-reight):\n",
    "\n",
    "    ** (exponentiation)\n",
    "    *, /, %   (multiplication, division, remainder)\n",
    "    +, -   (addition, subtraction)\n",
    "    <, >, <=, >=, !=, ==\n",
    "    not\n",
    "    and \n",
    "    or"
   ]
  },
  {
   "cell_type": "markdown",
   "metadata": {
    "collapsed": true
   },
   "source": [
    "Try this"
   ]
  },
  {
   "cell_type": "code",
   "execution_count": null,
   "metadata": {
    "collapsed": false
   },
   "outputs": [],
   "source": [
    "print \"test\" and \"test\" \n",
    "print 1 and 1\n",
    "print 0 and \"test\"\n",
    "print False and 1\n",
    "print True and 10"
   ]
  },
  {
   "cell_type": "markdown",
   "metadata": {},
   "source": [
    "### Branching"
   ]
  },
  {
   "cell_type": "markdown",
   "metadata": {},
   "source": [
    "### <font color='red'>If statement</font> \n",
    "is a selection control statement based on the value of a Boolean expression"
   ]
  },
  {
   "cell_type": "code",
   "execution_count": null,
   "metadata": {
    "collapsed": true
   },
   "outputs": [],
   "source": [
    "if conditional: # HEADER\n",
    "    # Python statements evaluated when condition is True    # CLAUSE\n",
    "    # Indented for context                                  "
   ]
  },
  {
   "cell_type": "code",
   "execution_count": null,
   "metadata": {
    "collapsed": false
   },
   "outputs": [],
   "source": [
    "y = 0\n",
    "a = y > 1\n",
    "if a:\n",
    "    print 'a is non-zero'"
   ]
  },
  {
   "cell_type": "code",
   "execution_count": null,
   "metadata": {
    "collapsed": true
   },
   "outputs": [],
   "source": [
    "# if-else variation\n",
    "if conditional:\n",
    "    # python code when conditional is True\n",
    "else:\n",
    "    # python code when conditional is False\n",
    "    # again, indented for context"
   ]
  },
  {
   "cell_type": "code",
   "execution_count": null,
   "metadata": {
    "collapsed": false
   },
   "outputs": [],
   "source": [
    "n = int(raw_input('Enter a number: '))\n",
    "if n % 2 == 0:\n",
    "    print \"Number is even\"\n",
    "else:\n",
    "    print \"Number is odd\"\n",
    "print \"Done\""
   ]
  },
  {
   "cell_type": "raw",
   "metadata": {},
   "source": [
    "Exercise:\n",
    "\n",
    "What is the output of the following program:\n",
    "\n",
    "x=3\n",
    "y=8\n",
    "z=5\n",
    "r=1.0\n",
    "if x < y > z < r:\n",
    "    print 'T'\n",
    "else:\n",
    "    print 'F'"
   ]
  },
  {
   "cell_type": "code",
   "execution_count": null,
   "metadata": {
    "collapsed": true
   },
   "outputs": [],
   "source": []
  },
  {
   "cell_type": "code",
   "execution_count": null,
   "metadata": {
    "collapsed": true
   },
   "outputs": [],
   "source": [
    "# Multi-way selection\n",
    "if conditional1:\n",
    "    # python code\n",
    "else:\n",
    "    if conditional2:\n",
    "        # python code\n",
    "    else:\n",
    "        # python code"
   ]
  },
  {
   "cell_type": "code",
   "execution_count": null,
   "metadata": {
    "collapsed": true
   },
   "outputs": [],
   "source": [
    "# Multi-way selection\n",
    "if conditional:\n",
    "    # python code\n",
    "elif second:\n",
    "    # python code\n",
    "elif third:\n",
    "    # python code\n",
    "# and so on\n",
    "else:\n",
    "# only runs if \"if\" fails"
   ]
  },
  {
   "cell_type": "raw",
   "metadata": {},
   "source": [
    "Exercise:\n",
    "\n",
    "Write a program that examines 3 variables (x,y,z below) and prints the largest among them.\n",
    "x=3\n",
    "y=4\n",
    "z=5"
   ]
  },
  {
   "cell_type": "code",
   "execution_count": null,
   "metadata": {
    "collapsed": true
   },
   "outputs": [],
   "source": []
  },
  {
   "cell_type": "markdown",
   "metadata": {},
   "source": [
    "### Iteration"
   ]
  },
  {
   "cell_type": "markdown",
   "metadata": {},
   "source": [
    "### <font color='red'>While loop</font>"
   ]
  },
  {
   "cell_type": "markdown",
   "metadata": {},
   "source": [
    "A while statement is an iterative control statement that repeatedly executes a set of statements based on a provided Boolean expression (condition). "
   ]
  },
  {
   "cell_type": "code",
   "execution_count": null,
   "metadata": {
    "collapsed": true
   },
   "outputs": [],
   "source": [
    "while condition:\n",
    "    # python code"
   ]
  },
  {
   "cell_type": "raw",
   "metadata": {},
   "source": [
    "Beware:\n",
    "    \n",
    "Whenever you write a loop think about an appropriate decrementing function. Else you can end up with an infinite loop."
   ]
  },
  {
   "cell_type": "code",
   "execution_count": null,
   "metadata": {
    "collapsed": false
   },
   "outputs": [],
   "source": [
    "sum = 0\n",
    "counter = 1\n",
    "n = 5\n",
    "while counter <= n:\n",
    "    print counter\n",
    "    sum = sum + counter\n",
    "    counter = counter + 1  # counter += 1\n",
    "print sum"
   ]
  },
  {
   "cell_type": "markdown",
   "metadata": {},
   "source": [
    "#### <font color='red'>break</font> statement"
   ]
  },
  {
   "cell_type": "code",
   "execution_count": null,
   "metadata": {
    "collapsed": false
   },
   "outputs": [],
   "source": [
    "# Find the first positive integer divisible by both 11 AND 12\n",
    "x = 1\n",
    "while True:\n",
    "    if x % 11 == 0 and x % 12 == 0:\n",
    "        break\n",
    "    x = x + 1\n",
    "print x,\" is divisible by 11 and 12\""
   ]
  },
  {
   "cell_type": "code",
   "execution_count": null,
   "metadata": {
    "collapsed": false
   },
   "outputs": [],
   "source": [
    "# input error checking\n",
    "units = raw_input('Please enter C or F: ')\n",
    "while units != 'F' and units != 'C':\n",
    "    units = raw_input('Please enter C or F: ')"
   ]
  },
  {
   "cell_type": "markdown",
   "metadata": {},
   "source": [
    "### <font color='red'>For loop</font>"
   ]
  },
  {
   "cell_type": "markdown",
   "metadata": {},
   "source": [
    "A for loop can be used to simplify iterations over sequences"
   ]
  },
  {
   "cell_type": "code",
   "execution_count": null,
   "metadata": {
    "collapsed": false,
    "scrolled": true
   },
   "outputs": [],
   "source": [
    "for variable in sequence:\n",
    "    # Python code"
   ]
  },
  {
   "cell_type": "code",
   "execution_count": null,
   "metadata": {
    "collapsed": true
   },
   "outputs": [],
   "source": [
    "total = 0\n",
    "\n",
    "for number in range(5):\n",
    "    # number = 0, 1, 2, 3, 4\n",
    "    total = total + 1\n",
    "\n",
    "print(total)"
   ]
  },
  {
   "cell_type": "raw",
   "metadata": {},
   "source": [
    "Use the keywords continue, break, or pass to change the behavior of conditionals and loops."
   ]
  },
  {
   "cell_type": "code",
   "execution_count": null,
   "metadata": {
    "collapsed": false
   },
   "outputs": [],
   "source": [
    "total = 0\n",
    "\n",
    "for counter in range(1,10):\n",
    "    print total\n",
    "    if total == 5:\n",
    "        break\n",
    "    total = total + 1\n",
    "\n",
    "print(total)"
   ]
  },
  {
   "cell_type": "markdown",
   "metadata": {
    "collapsed": true
   },
   "source": [
    "Exercise:\n",
    "\n",
    "One can approximate the value of $ \\pi $ by counting dots. Consider a circle inside a square of side $2r$. Therefore, the area of the square is $(2r)^2$ and the area of a circle is $\\pi r^2$. So the ratio\n",
    "\n",
    "$\\frac{A_{circle}}{A_{square}} = \\frac{\\pi r^2}{(2r)^2} = \\frac{\\pi}{4} $\n",
    "\n",
    "So, \n",
    "\n",
    "$ \\pi = 4* \\frac{A_{circle}}{A_{square}} $\n",
    "\n",
    "Estimate value of $ \\pi $ using this method (called the Monte Carlo method)"
   ]
  },
  {
   "cell_type": "code",
   "execution_count": null,
   "metadata": {
    "collapsed": false
   },
   "outputs": [],
   "source": [
    "from IPython.display import Image\n",
    "slide = Image(filename = 'pi.jpg', width=500, height=500)\n",
    "slide"
   ]
  },
  {
   "cell_type": "code",
   "execution_count": null,
   "metadata": {
    "collapsed": false
   },
   "outputs": [],
   "source": [
    "import random  # to generate random numbers\n",
    "import math    # to get \"exact\" value of pi\n",
    " \n",
    "circleArea = 0\n",
    "squareArea = 0\n",
    "pi = 0\n",
    "# Insert loop command here\n",
    "    x = random.random()\n",
    "    y = random.random()\n",
    "    # insert condition here\n",
    "        circleArea=circleArea+1\n",
    "    squareArea=squareArea+1\n",
    "    \n",
    "# Approximation:    \n",
    "pi = 4.0*circleArea/squareArea\n",
    "\n",
    "print \"Approximate value for pi: \", pi\n",
    "print \"Difference to exact value of pi: \", pi - math.pi\n",
    "print \"Error: (approx-exact)/exact=\", abs(pi - math.pi) / math.pi*100, \"%\""
   ]
  },
  {
   "cell_type": "code",
   "execution_count": null,
   "metadata": {
    "collapsed": true
   },
   "outputs": [],
   "source": []
  }
 ],
 "metadata": {
  "anaconda-cloud": {},
  "kernelspec": {
   "display_name": "Python [conda root]",
   "language": "python",
   "name": "conda-root-py"
  },
  "language_info": {
   "codemirror_mode": {
    "name": "ipython",
    "version": 2
   },
   "file_extension": ".py",
   "mimetype": "text/x-python",
   "name": "python",
   "nbconvert_exporter": "python",
   "pygments_lexer": "ipython2",
   "version": "2.7.12"
  }
 },
 "nbformat": 4,
 "nbformat_minor": 1
}
